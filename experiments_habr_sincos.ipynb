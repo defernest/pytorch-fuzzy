{
 "cells": [
  {
   "cell_type": "code",
   "execution_count": 49,
   "metadata": {},
   "outputs": [],
   "source": [
    "import torch; torch.manual_seed(0)\n",
    "import torch.nn as nn\n",
    "import torch.nn.functional as F\n",
    "import torch.utils\n",
    "import torch.distributions\n",
    "import numpy as np\n",
    "import matplotlib.pyplot as plt\n",
    "from fuzzy_layer import FuzzyLayer\n",
    "import matplotlib.pyplot as plt\n",
    "\n",
    "\n",
    "np.random.seed(1)\n",
    "torch.manual_seed(1)\n",
    "torch.cuda.manual_seed(1)\n",
    "device = torch.device(\"cuda:0\" if torch.cuda.is_available() else \"cpu\")\n",
    "\n",
    "timeseries_length = 80"
   ]
  },
  {
   "cell_type": "markdown",
   "metadata": {},
   "source": [
    "Сгенерируем набор синусоид с двумя различными параметрами - фазой и частотой, и разметим классы:\n",
    "\n",
    "0. Синус с периодом 2 pi\n",
    "1. Косинус с периодом 2 pi\n",
    "2. Синус с периодом 4 pi\n",
    "3. Косинус с периодом 4 pi\n",
    "4. Нет разметки"
   ]
  },
  {
   "cell_type": "code",
   "execution_count": 50,
   "metadata": {},
   "outputs": [],
   "source": [
    "class Dataset(torch.utils.data.Dataset):\n",
    "\n",
    "    def __init__(self, samples_count, timeseries_length):\n",
    "        'Initialization'\n",
    "        self.samples = samples_count\n",
    "        self.timeseries_length = timeseries_length\n",
    "    \n",
    "    def __len__(self):\n",
    "        'Denotes the total number of samples'\n",
    "        return self.samples\n",
    "    \n",
    "    def __getitem__(self, index):\n",
    "        'Generates one sample of data'\n",
    "        \n",
    "        phase_state = np.random.randint(0,11)\n",
    "        freq_state = np.random.randint(0,11)\n",
    "\n",
    "        freq = freq_state / 10.0\n",
    "        phase = phase_state / 10.0\n",
    "        t = np.linspace(0.0, 6.0 * np.pi, self.timeseries_length)\n",
    "        X =(1.0 + np.sin(phase * np.pi/2.0 - freq * t)) / 2.0\n",
    "\n",
    "        X = X.type('torch.FloatTensor')\n",
    "        \n",
    "        y = 4\n",
    "        if phase_state == 0 and freq_state == 0:\n",
    "            y = 0\n",
    "        elif phase_state == 10 and freq_state == 0:\n",
    "            y = 1\n",
    "        elif phase_state == 0 and freq_state == 10:\n",
    "            y = 2\n",
    "        elif phase_state == 10 and freq_state == 10:\n",
    "            y = 3\n",
    "\n",
    "        return X, y\n",
    "    \n",
    "training_set = Dataset(1000, timeseries_length)\n",
    "train_gen = torch.utils.data.DataLoader(training_set, batch_size=128, shuffle = True, num_workers = 0, drop_last=True)\n",
    "\n",
    "testing_set = Dataset(128, timeseries_length)\n",
    "test_gen = torch.utils.data.DataLoader(training_set, batch_size=64, shuffle = True, num_workers = 0, drop_last=True)"
   ]
  },
  {
   "cell_type": "markdown",
   "metadata": {},
   "source": [
    "Определим структуру VAE для одномерного сигнала"
   ]
  },
  {
   "cell_type": "code",
   "execution_count": 57,
   "metadata": {},
   "outputs": [
    {
     "data": {
      "text/plain": [
       "VAE(\n",
       "  (convolutions): Sequential(\n",
       "    (0): Conv1d(1, 16, kernel_size=(5,), stride=(1,))\n",
       "    (1): BatchNorm1d(16, eps=1e-05, momentum=0.1, affine=True, track_running_stats=True)\n",
       "    (2): Conv1d(16, 32, kernel_size=(5,), stride=(1,))\n",
       "    (3): BatchNorm1d(32, eps=1e-05, momentum=0.1, affine=True, track_running_stats=True)\n",
       "    (4): Flatten(start_dim=1, end_dim=-1)\n",
       "  )\n",
       "  (z_mean): Sequential(\n",
       "    (0): Linear(in_features=2304, out_features=2, bias=True)\n",
       "    (1): BatchNorm1d(2, eps=1e-05, momentum=0.1, affine=True, track_running_stats=True)\n",
       "    (2): ReLU()\n",
       "  )\n",
       "  (z_logvar): Sequential(\n",
       "    (0): Linear(in_features=2304, out_features=2, bias=True)\n",
       "    (1): BatchNorm1d(2, eps=1e-05, momentum=0.1, affine=True, track_running_stats=True)\n",
       "    (2): ReLU()\n",
       "  )\n",
       "  (decoder): Sequential(\n",
       "    (0): Linear(in_features=2, out_features=2304, bias=True)\n",
       "    (1): BatchNorm1d(2304, eps=1e-05, momentum=0.1, affine=True, track_running_stats=True)\n",
       "    (2): Unflatten(dim=1, unflattened_size=[32, 72])\n",
       "    (3): ConvTranspose1d(32, 16, kernel_size=(5,), stride=(1,))\n",
       "    (4): BatchNorm1d(16, eps=1e-05, momentum=0.1, affine=True, track_running_stats=True)\n",
       "    (5): ConvTranspose1d(16, 1, kernel_size=(5,), stride=(1,))\n",
       "    (6): Flatten(start_dim=1, end_dim=-1)\n",
       "  )\n",
       ")"
      ]
     },
     "execution_count": 57,
     "metadata": {},
     "output_type": "execute_result"
    }
   ],
   "source": [
    "class VAE(nn.Module):\n",
    "\n",
    "    def __init__(self):\n",
    "        super(VAE, self).__init__()\n",
    "        \n",
    "        self.latent_dimension = 2\n",
    "\n",
    "        self.convolutions = nn.Sequential(\n",
    "            nn.Conv1d(1, 16, 5),\n",
    "            nn.BatchNorm1d(16),\n",
    "            nn.Conv1d(16, 32, 5),\n",
    "            nn.BatchNorm1d(32),\n",
    "            nn.Flatten()\n",
    "        )\n",
    "\n",
    "        self.z_mean = nn.Sequential(\n",
    "            nn.Linear(2304, self.latent_dimension),\n",
    "            nn.BatchNorm1d(self.latent_dimension),\n",
    "            nn.ReLU()\n",
    "        )\n",
    "\n",
    "        self.z_logvar = nn.Sequential(\n",
    "            nn.Linear(2304, self.latent_dimension),\n",
    "            nn.BatchNorm1d(self.latent_dimension),\n",
    "            nn.ReLU()\n",
    "        )\n",
    "        \n",
    "        self.decoder = nn.Sequential(\n",
    "            nn.Linear(self.latent_dimension, 2304),\n",
    "            nn.BatchNorm1d(2304),\n",
    "            nn.Unflatten(1, [32, 72]),\n",
    "            nn.ConvTranspose1d(32,16,5),\n",
    "            nn.BatchNorm1d(16),\n",
    "            nn.ConvTranspose1d(16,1,5),\n",
    "            nn.Flatten()\n",
    "        )\n",
    "\n",
    "    def reparam_trick(self, mu, logvar):\n",
    "        if self.training:\n",
    "            std = logvar.mul(0.5).exp_()\n",
    "            eps = std.data.new(std.size()).normal_()\n",
    "            return eps.mul(std).add_(mu)\n",
    "        else:\n",
    "            return mu\n",
    "\n",
    "    def encode(self, x):\n",
    "        conv = self.convolutions.forward(x)\n",
    "        z_mean = self.z_mean.forward(conv)\n",
    "        z_logvar = self.z_logvar.forward(conv)\n",
    "\n",
    "        z = self.reparam_trick(z_mean, z_logvar)\n",
    "        return (z_mean, z_logvar, z)\n",
    "        \n",
    "    \n",
    "    def forward(self, x):\n",
    "        (_, _, z) = self.encode(x)\n",
    "\n",
    "        return self.decoder(z)\n",
    "        \n",
    "model = VAE().to(device)\n",
    "model"
   ]
  },
  {
   "cell_type": "code",
   "execution_count": 67,
   "metadata": {},
   "outputs": [
    {
     "data": {
      "text/plain": [
       "torch.Size([10, 80])"
      ]
     },
     "execution_count": 67,
     "metadata": {},
     "output_type": "execute_result"
    }
   ],
   "source": [
    "input = torch.randn(10, 1, timeseries_length, device=device)\n",
    "\n",
    "output = model.forward(input)\n",
    "\n",
    "output.shape"
   ]
  },
  {
   "cell_type": "code",
   "execution_count": 56,
   "metadata": {},
   "outputs": [
    {
     "data": {
      "text/plain": [
       "72.0"
      ]
     },
     "execution_count": 56,
     "metadata": {},
     "output_type": "execute_result"
    }
   ],
   "source": [
    "2304/32"
   ]
  }
 ],
 "metadata": {
  "kernelspec": {
   "display_name": "Python 3",
   "language": "python",
   "name": "python3"
  },
  "language_info": {
   "codemirror_mode": {
    "name": "ipython",
    "version": 3
   },
   "file_extension": ".py",
   "mimetype": "text/x-python",
   "name": "python",
   "nbconvert_exporter": "python",
   "pygments_lexer": "ipython3",
   "version": "3.8.10"
  }
 },
 "nbformat": 4,
 "nbformat_minor": 2
}
