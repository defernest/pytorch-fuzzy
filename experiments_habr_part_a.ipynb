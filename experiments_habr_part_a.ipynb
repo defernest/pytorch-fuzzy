{
 "cells": [
  {
   "cell_type": "code",
   "execution_count": 5,
   "metadata": {},
   "outputs": [],
   "source": [
    "from dataclasses import dataclass\n",
    "from datetime import datetime\n",
    "\n",
    "import matplotlib.pyplot as plt\n",
    "import torch\n",
    "import torch.nn as nn\n",
    "import numpy as np \n",
    "import torch.nn.functional as F\n",
    "from torch.utils.tensorboard import SummaryWriter\n",
    "from torchvision import datasets, transforms\n",
    "from tqdm.auto import tqdm\n",
    "from fuzzy_layer import FuzzyLayer"
   ]
  },
  {
   "cell_type": "code",
   "execution_count": 6,
   "metadata": {},
   "outputs": [],
   "source": [
    "batch_size = 256\n",
    "learning_rate = 2e-3\n",
    "weight_decay = 1e-2\n",
    "num_epochs = 50\n",
    "latent_dim = 2\n",
    "fuzzy_labels = 12 #10 цифр + 2 класса на цифры с кругляшками и без\n",
    "unknown_classes_ratio = 0.0 # доля неизвестных классов \n",
    "is_fuzzy_loss_active = True\n",
    "\n",
    "prefix = \"vae\"\n",
    "if is_fuzzy_loss_active:\n",
    "    prefix = f\"fuzzy_cvae_with_unknown_ratio_{unknown_classes_ratio}\"\n",
    "writer = SummaryWriter(f'runs/mnist/{prefix}_{datetime.now().strftime(\"%Y%m%d-%H%M%S\")}')\n",
    "device = torch.device('cuda' if torch.cuda.is_available() else 'cpu')"
   ]
  },
  {
   "cell_type": "code",
   "execution_count": 7,
   "metadata": {},
   "outputs": [],
   "source": [
    "transform = transforms.Compose([\n",
    "    transforms.ToTensor(), \n",
    "    transforms.Lambda(lambda x: x.view(-1, 28, 28) - 0.5),\n",
    "])"
   ]
  },
  {
   "cell_type": "code",
   "execution_count": 8,
   "metadata": {},
   "outputs": [],
   "source": [
    "def get_target_and_mask(target_label, unknown_ratio):\n",
    "    \"\"\"\n",
    "    Возвращает вектор целевого значения и маску в виде сдвоенного тензора\n",
    "\n",
    "    Args:\n",
    "        target_label (int): Метка класса\n",
    "        unknown_ratio (float): Доля примеров в датасете, чья разметка будет игнорироваться при обучении\n",
    "    \n",
    "    Returns:\n",
    "        tensor (2, 12)\n",
    "    \"\"\"\n",
    "    t = F.one_hot(torch.LongTensor([target_label]), fuzzy_labels)\n",
    "    if (target_label == 0) or (target_label == 6) or (target_label == 8) or (target_label == 9):\n",
    "        t[0][fuzzy_labels - 2] = 1\n",
    "    else:\n",
    "        t[0][fuzzy_labels - 1] = 1\n",
    "    m = torch.ones((1, fuzzy_labels)) if torch.rand(1) > unknown_ratio else torch.zeros((1, fuzzy_labels))\n",
    "    \n",
    "    return torch.cat((t, m), 0).to(device) "
   ]
  },
  {
   "cell_type": "code",
   "execution_count": 9,
   "metadata": {},
   "outputs": [],
   "source": [
    "# загружаем обучающую выборку\n",
    "train_data = datasets.MNIST(\n",
    "    '~/.pytorch/MNIST_data/', \n",
    "    download=True, \n",
    "    train=True, \n",
    "    transform = transform,\n",
    "    target_transform = transforms.Lambda(lambda x: get_target_and_mask(x,unknown_classes_ratio))\n",
    ")"
   ]
  },
  {
   "cell_type": "code",
   "execution_count": 10,
   "metadata": {},
   "outputs": [
    {
     "data": {
      "text/plain": [
       "10000"
      ]
     },
     "execution_count": 10,
     "metadata": {},
     "output_type": "execute_result"
    }
   ],
   "source": [
    "# загружаем тестовую выборку\n",
    "test_data = datasets.MNIST(\n",
    "    '~/.pytorch/MNIST_data/', \n",
    "    download=True, \n",
    "    train=False, \n",
    "    transform=transform, \n",
    "    target_transform = transforms.Lambda(lambda x: get_target_and_mask(x, 0))\n",
    ")\n",
    "len(test_data)"
   ]
  },
  {
   "cell_type": "code",
   "execution_count": 11,
   "metadata": {},
   "outputs": [],
   "source": [
    "# Создаем итераторы датасетов\n",
    "train_loader = torch.utils.data.DataLoader(\n",
    "    train_data, \n",
    "    batch_size=batch_size, \n",
    "    shuffle=True,\n",
    "    \n",
    ")\n",
    "test_loader = torch.utils.data.DataLoader(\n",
    "    test_data, \n",
    "    batch_size=batch_size, \n",
    "    shuffle=False,\n",
    ")"
   ]
  },
  {
   "cell_type": "code",
   "execution_count": 12,
   "metadata": {},
   "outputs": [],
   "source": [
    "class Encoder(nn.Module):\n",
    "    \"\"\"\n",
    "    Компонент энкодера для VAE\n",
    "    \n",
    "    Args:\n",
    "        latent_dim (int): Размер латентного вектора.\n",
    "    \"\"\"\n",
    "    \n",
    "    def __init__(self, latent_dim):\n",
    "        super(Encoder, self).__init__()\n",
    "                \n",
    "        self.encoder = nn.Sequential(\n",
    "            nn.Conv2d(1, 8, kernel_size=5),\n",
    "            nn.SiLU(),  \n",
    "            nn.Conv2d(8, 16, kernel_size=5),\n",
    "            nn.SiLU(),  \n",
    "            nn.Conv2d(16, 32, kernel_size=5),\n",
    "            nn.SiLU(),  \n",
    "            nn.Conv2d(32, 64, kernel_size=5),\n",
    "            nn.BatchNorm2d(64),\n",
    "            nn.SiLU(),  \n",
    "            nn.Flatten(),\n",
    "            nn.Linear(9216, 625),\n",
    "            nn.BatchNorm1d(625),\n",
    "            nn.SiLU(),  \n",
    "            nn.Linear(625, 2 * latent_dim), # mean + variance.\n",
    "        )\n",
    "        self.softplus = nn.Softplus()\n",
    "         \n",
    "    def forward(self, x, eps: float = 1e-8):\n",
    "        \"\"\"\n",
    "        Выход энкодера для чистого VAE.\n",
    "        \n",
    "        Args:\n",
    "            x (torch.Tensor): Входной вектор.\n",
    "            eps (float): Небольшая поправка к скейлу для лучшей сходимости и устойчивости.\n",
    "        \n",
    "        Returns:\n",
    "            mu, logvar, z, dist\n",
    "        \"\"\"\n",
    "\n",
    "        x = self.encoder(x)\n",
    "        mu, logvar = torch.chunk(x, 2, dim=-1)\n",
    "        scale = self.softplus(logvar) + eps\n",
    "        scale_tril = torch.diag_embed(scale)\n",
    "        dist = torch.distributions.MultivariateNormal(mu, scale_tril=scale_tril)\n",
    "        z = dist.rsample()\n",
    "\n",
    "        return mu, logvar, z"
   ]
  },
  {
   "cell_type": "code",
   "execution_count": 13,
   "metadata": {},
   "outputs": [],
   "source": [
    "class Decoder(nn.Module):\n",
    "    \"\"\"\n",
    "    Компонент декодера для VAE\n",
    "    \n",
    "    Args:\n",
    "        latent_dim (int): Размер латентного вектора.\n",
    "    \"\"\"\n",
    "    \n",
    "    def __init__(self, latent_dim):\n",
    "        super(Decoder, self).__init__()\n",
    "                \n",
    "        self.decoder = nn.Sequential(\n",
    "            nn.Linear(latent_dim, 625),\n",
    "            nn.BatchNorm1d(625),\n",
    "            nn.SiLU(), \n",
    "            nn.Linear(625, 9216),\n",
    "            nn.BatchNorm1d(9216),\n",
    "            nn.SiLU(), \n",
    "            nn.Unflatten(1,(64, 12, 12)),\n",
    "            nn.ConvTranspose2d(64, 32, 5),\n",
    "            nn.SiLU(), \n",
    "            nn.ConvTranspose2d(32, 16, 5),\n",
    "            nn.SiLU(), \n",
    "            nn.ConvTranspose2d(16, 8, 5),\n",
    "            nn.SiLU(), \n",
    "            nn.ConvTranspose2d(8, 1, 5),\n",
    "            nn.Sigmoid() \n",
    "        )\n",
    "         \n",
    "    def forward(self, z):\n",
    "        \"\"\"\n",
    "        Декодирует латентный вектор в исходное представление\n",
    "        \n",
    "        Args:\n",
    "            z (torch.Tensor): Латентный вектор.\n",
    "        \n",
    "        Returns:\n",
    "            x\n",
    "        \"\"\"\n",
    "\n",
    "        x = self.decoder(z)\n",
    "        \n",
    "        return x"
   ]
  },
  {
   "cell_type": "code",
   "execution_count": 14,
   "metadata": {},
   "outputs": [],
   "source": [
    "class CVAE(nn.Module):\n",
    "    \"\"\"\n",
    "    Conditional Variational Autoencoder (C-VAE) \n",
    "    \n",
    "    Args:\n",
    "        latent_dim (int): Размер латентного вектора.\n",
    "        labels_count (int): Количество выходов классификатора\n",
    "    \"\"\"\n",
    "    def __init__(self, latent_dim, labels_count):\n",
    "        super(CVAE, self).__init__()\n",
    "\n",
    "        self.encoder = Encoder(latent_dim)        \n",
    "        self.decoder = Decoder(latent_dim)\n",
    "\n",
    "        self.fuzzy = nn.Sequential(\n",
    "             FuzzyLayer.fromdimentions(latent_dim, labels_count, trainable=True)\n",
    "\n",
    "        )\n",
    "        \n",
    "    def forward(self, x):\n",
    "        \"\"\"\n",
    "        Возвращает компоненты внутренних слоев CVAE, результаты реконструкции и классификации\n",
    "        \n",
    "        Args:\n",
    "            x (torch.Tensor): Входной вектор.\n",
    "        \n",
    "        Returns:\n",
    "            mu, x_recon, labels\n",
    "        \"\"\"\n",
    "\n",
    "        mu, _,  _, = self.encoder(x)\n",
    "        x_recon = self.decoder(mu)\n",
    "        labels = self.fuzzy(mu)\n",
    "\n",
    "        return mu, x_recon, labels\n",
    "    \n",
    "    def half_pass(self, x):\n",
    "        \"\"\"\n",
    "        Возвращает результаты работы энкодера и классификатора\n",
    "        \"\"\"\n",
    "        mu, logvar, z = self.encoder(x)\n",
    "        labels = self.fuzzy(mu)\n",
    "\n",
    "        return mu, logvar, z, labels\n",
    "    \n",
    "    def decoder_pass(self, x):\n",
    "        return self.decoder(x)\n"
   ]
  },
  {
   "cell_type": "code",
   "execution_count": 15,
   "metadata": {},
   "outputs": [],
   "source": [
    "def compute_loss(x, recon_x, mu, logvar, z, target_labels, predicted_labels):\n",
    "    \n",
    "    loss_recon = F.binary_cross_entropy(recon_x, x + 0.5, reduction='none').sum(-1).mean()\n",
    "    \n",
    "    tsquare = torch.square(mu)\n",
    "    tlogvar = torch.exp(logvar)\n",
    "    kl_loss = -0.5 * (1 + logvar - tsquare - tlogvar)\n",
    "    loss_kl = kl_loss.sum(-1).mean()\n",
    "            \n",
    "    target_firings = target_labels[:,0,:]\n",
    "    mask = target_labels[:,1,:]\n",
    "    loss_fuzzy = (mask * torch.square(target_firings - predicted_labels)).sum(-1).mean()\n",
    "\n",
    "    loss = loss_recon + loss_kl\n",
    "\n",
    "    if is_fuzzy_loss_active:\n",
    "        loss += loss_fuzzy\n",
    "\n",
    "    return loss, loss_recon, loss_kl, loss_fuzzy\n",
    "    "
   ]
  },
  {
   "cell_type": "code",
   "execution_count": 16,
   "metadata": {},
   "outputs": [
    {
     "name": "stdout",
     "output_type": "stream",
     "text": [
      "Number of parameters: 11,690,329\n"
     ]
    },
    {
     "data": {
      "text/plain": [
       "CVAE(\n",
       "  (encoder): Encoder(\n",
       "    (encoder): Sequential(\n",
       "      (0): Conv2d(1, 8, kernel_size=(5, 5), stride=(1, 1))\n",
       "      (1): SiLU()\n",
       "      (2): Conv2d(8, 16, kernel_size=(5, 5), stride=(1, 1))\n",
       "      (3): SiLU()\n",
       "      (4): Conv2d(16, 32, kernel_size=(5, 5), stride=(1, 1))\n",
       "      (5): SiLU()\n",
       "      (6): Conv2d(32, 64, kernel_size=(5, 5), stride=(1, 1))\n",
       "      (7): BatchNorm2d(64, eps=1e-05, momentum=0.1, affine=True, track_running_stats=True)\n",
       "      (8): SiLU()\n",
       "      (9): Flatten(start_dim=1, end_dim=-1)\n",
       "      (10): Linear(in_features=9216, out_features=625, bias=True)\n",
       "      (11): BatchNorm1d(625, eps=1e-05, momentum=0.1, affine=True, track_running_stats=True)\n",
       "      (12): SiLU()\n",
       "      (13): Linear(in_features=625, out_features=4, bias=True)\n",
       "    )\n",
       "    (softplus): Softplus(beta=1, threshold=20)\n",
       "  )\n",
       "  (decoder): Decoder(\n",
       "    (decoder): Sequential(\n",
       "      (0): Linear(in_features=2, out_features=625, bias=True)\n",
       "      (1): BatchNorm1d(625, eps=1e-05, momentum=0.1, affine=True, track_running_stats=True)\n",
       "      (2): SiLU()\n",
       "      (3): Linear(in_features=625, out_features=9216, bias=True)\n",
       "      (4): BatchNorm1d(9216, eps=1e-05, momentum=0.1, affine=True, track_running_stats=True)\n",
       "      (5): SiLU()\n",
       "      (6): Unflatten(dim=1, unflattened_size=(64, 12, 12))\n",
       "      (7): ConvTranspose2d(64, 32, kernel_size=(5, 5), stride=(1, 1))\n",
       "      (8): SiLU()\n",
       "      (9): ConvTranspose2d(32, 16, kernel_size=(5, 5), stride=(1, 1))\n",
       "      (10): SiLU()\n",
       "      (11): ConvTranspose2d(16, 8, kernel_size=(5, 5), stride=(1, 1))\n",
       "      (12): SiLU()\n",
       "      (13): ConvTranspose2d(8, 1, kernel_size=(5, 5), stride=(1, 1))\n",
       "      (14): Sigmoid()\n",
       "    )\n",
       "  )\n",
       "  (fuzzy): Sequential(\n",
       "    (0): FuzzyLayer()\n",
       "  )\n",
       ")"
      ]
     },
     "execution_count": 16,
     "metadata": {},
     "output_type": "execute_result"
    }
   ],
   "source": [
    "model = CVAE(latent_dim=latent_dim, labels_count=fuzzy_labels).to(device)\n",
    "\n",
    "num_params = sum(p.numel() for p in model.parameters() if p.requires_grad)\n",
    "print(f'Number of parameters: {num_params:,}')\n",
    "\n",
    "model"
   ]
  },
  {
   "cell_type": "code",
   "execution_count": 29,
   "metadata": {},
   "outputs": [
    {
     "data": {
      "image/svg+xml": [
       "<?xml version=\"1.0\" encoding=\"UTF-8\" standalone=\"no\"?>\n",
       "<!DOCTYPE svg PUBLIC \"-//W3C//DTD SVG 1.1//EN\"\n",
       " \"http://www.w3.org/Graphics/SVG/1.1/DTD/svg11.dtd\">\n",
       "<!-- Generated by graphviz version 7.0.4 (20221203.1631)\n",
       " -->\n",
       "<!-- Pages: 1 -->\n",
       "<svg width=\"1118pt\" height=\"2485pt\"\n",
       " viewBox=\"0.00 0.00 1118.00 2485.00\" xmlns=\"http://www.w3.org/2000/svg\" xmlns:xlink=\"http://www.w3.org/1999/xlink\">\n",
       "<g id=\"graph0\" class=\"graph\" transform=\"scale(1 1) rotate(0) translate(4 2481)\">\n",
       "<polygon fill=\"white\" stroke=\"none\" points=\"-4,4 -4,-2481 1114,-2481 1114,4 -4,4\"/>\n",
       "<!-- 1956248140992 -->\n",
       "<g id=\"node1\" class=\"node\">\n",
       "<title>1956248140992</title>\n",
       "<polygon fill=\"#caff70\" stroke=\"black\" points=\"800,-1178 741,-1178 741,-1147 800,-1147 800,-1178\"/>\n",
       "<text text-anchor=\"middle\" x=\"770.5\" y=\"-1154\" font-family=\"monospace\" font-size=\"10.00\"> (2, 2)</text>\n",
       "</g>\n",
       "<!-- 1957917445424 -->\n",
       "<g id=\"node2\" class=\"node\">\n",
       "<title>1957917445424</title>\n",
       "<polygon fill=\"lightgrey\" stroke=\"black\" points=\"723,-1239 628,-1239 628,-1220 723,-1220 723,-1239\"/>\n",
       "<text text-anchor=\"middle\" x=\"675.5\" y=\"-1227\" font-family=\"monospace\" font-size=\"10.00\">SplitBackward</text>\n",
       "</g>\n",
       "<!-- 1957917445424&#45;&gt;1956248140992 -->\n",
       "<g id=\"edge57\" class=\"edge\">\n",
       "<title>1957917445424&#45;&gt;1956248140992</title>\n",
       "<path fill=\"none\" stroke=\"black\" d=\"M688.31,-1219.73C701.39,-1210.79 722.18,-1196.56 739.57,-1184.66\"/>\n",
       "<polygon fill=\"black\" stroke=\"black\" points=\"741.29,-1187.72 747.57,-1179.19 737.34,-1181.95 741.29,-1187.72\"/>\n",
       "</g>\n",
       "<!-- 1957151482352 -->\n",
       "<g id=\"node81\" class=\"node\">\n",
       "<title>1957151482352</title>\n",
       "<polygon fill=\"lightgrey\" stroke=\"black\" points=\"434,-1172 339,-1172 339,-1153 434,-1153 434,-1172\"/>\n",
       "<text text-anchor=\"middle\" x=\"386.5\" y=\"-1160\" font-family=\"monospace\" font-size=\"10.00\">AddmmBackward</text>\n",
       "</g>\n",
       "<!-- 1957917445424&#45;&gt;1957151482352 -->\n",
       "<g id=\"edge82\" class=\"edge\">\n",
       "<title>1957917445424&#45;&gt;1957151482352</title>\n",
       "<path fill=\"none\" stroke=\"black\" d=\"M635.62,-1219.53C584.05,-1207.93 494.16,-1187.71 437.62,-1175\"/>\n",
       "<polygon fill=\"black\" stroke=\"black\" points=\"438.44,-1171.59 427.91,-1172.81 436.9,-1178.42 438.44,-1171.59\"/>\n",
       "</g>\n",
       "<!-- 1957151484656 -->\n",
       "<g id=\"node132\" class=\"node\">\n",
       "<title>1957151484656</title>\n",
       "<polygon fill=\"lightgrey\" stroke=\"black\" points=\"723,-1172 640,-1172 640,-1153 723,-1153 723,-1172\"/>\n",
       "<text text-anchor=\"middle\" x=\"681.5\" y=\"-1160\" font-family=\"monospace\" font-size=\"10.00\">CatBackward</text>\n",
       "</g>\n",
       "<!-- 1957917445424&#45;&gt;1957151484656 -->\n",
       "<g id=\"edge131\" class=\"edge\">\n",
       "<title>1957917445424&#45;&gt;1957151484656</title>\n",
       "<path fill=\"none\" stroke=\"black\" d=\"M676.31,-1219.73C677.16,-1210.48 678.54,-1195.57 679.66,-1183.42\"/>\n",
       "<polygon fill=\"black\" stroke=\"black\" points=\"683.13,-1183.91 680.56,-1173.63 676.16,-1183.27 683.13,-1183.91\"/>\n",
       "</g>\n",
       "<!-- 1957917445328 -->\n",
       "<g id=\"node3\" class=\"node\">\n",
       "<title>1957917445328</title>\n",
       "<polygon fill=\"lightgrey\" stroke=\"black\" points=\"766,-1305.5 671,-1305.5 671,-1286.5 766,-1286.5 766,-1305.5\"/>\n",
       "<text text-anchor=\"middle\" x=\"718.5\" y=\"-1293.5\" font-family=\"monospace\" font-size=\"10.00\">AddmmBackward</text>\n",
       "</g>\n",
       "<!-- 1957917445328&#45;&gt;1957917445424 -->\n",
       "<g id=\"edge1\" class=\"edge\">\n",
       "<title>1957917445328&#45;&gt;1957917445424</title>\n",
       "<path fill=\"none\" stroke=\"black\" d=\"M712.52,-1286.03C706.1,-1276.4 695.73,-1260.85 687.6,-1248.65\"/>\n",
       "<polygon fill=\"black\" stroke=\"black\" points=\"690.73,-1247.03 682.27,-1240.65 684.9,-1250.91 690.73,-1247.03\"/>\n",
       "</g>\n",
       "<!-- 1954292790784 -->\n",
       "<g id=\"node59\" class=\"node\">\n",
       "<title>1954292790784</title>\n",
       "<polygon fill=\"#a2cd5a\" stroke=\"black\" points=\"800,-1245 741,-1245 741,-1214 800,-1214 800,-1245\"/>\n",
       "<text text-anchor=\"middle\" x=\"770.5\" y=\"-1221\" font-family=\"monospace\" font-size=\"10.00\"> (2, 4)</text>\n",
       "</g>\n",
       "<!-- 1957917445328&#45;&gt;1954292790784 -->\n",
       "<g id=\"edge58\" class=\"edge\">\n",
       "<title>1957917445328&#45;&gt;1954292790784</title>\n",
       "<path fill=\"none\" stroke=\"black\" d=\"M725.73,-1286.03C732.36,-1277.81 742.47,-1265.27 751.41,-1254.18\"/>\n",
       "<polygon fill=\"black\" stroke=\"black\" points=\"754.04,-1256.5 757.59,-1246.52 748.59,-1252.1 754.04,-1256.5\"/>\n",
       "</g>\n",
       "<!-- 1957917445232 -->\n",
       "<g id=\"node4\" class=\"node\">\n",
       "<title>1957917445232</title>\n",
       "<polygon fill=\"lightgrey\" stroke=\"black\" points=\"894,-1371.5 793,-1371.5 793,-1352.5 894,-1352.5 894,-1371.5\"/>\n",
       "<text text-anchor=\"middle\" x=\"843.5\" y=\"-1359.5\" font-family=\"monospace\" font-size=\"10.00\">AccumulateGrad</text>\n",
       "</g>\n",
       "<!-- 1957917445232&#45;&gt;1957917445328 -->\n",
       "<g id=\"edge2\" class=\"edge\">\n",
       "<title>1957917445232&#45;&gt;1957917445328</title>\n",
       "<path fill=\"none\" stroke=\"black\" d=\"M826.12,-1352.1C805.32,-1341.45 770.23,-1323.49 745.8,-1310.98\"/>\n",
       "<polygon fill=\"black\" stroke=\"black\" points=\"747.58,-1307.96 737.08,-1306.51 744.39,-1314.19 747.58,-1307.96\"/>\n",
       "</g>\n",
       "<!-- 1956247714816 -->\n",
       "<g id=\"node5\" class=\"node\">\n",
       "<title>1956247714816</title>\n",
       "<polygon fill=\"lightblue\" stroke=\"black\" points=\"942,-1443 787,-1443 787,-1413 942,-1413 942,-1443\"/>\n",
       "<text text-anchor=\"middle\" x=\"864.5\" y=\"-1431\" font-family=\"monospace\" font-size=\"10.00\">encoder.encoder.13.bias</text>\n",
       "<text text-anchor=\"middle\" x=\"864.5\" y=\"-1420\" font-family=\"monospace\" font-size=\"10.00\"> (4)</text>\n",
       "</g>\n",
       "<!-- 1956247714816&#45;&gt;1957917445232 -->\n",
       "<g id=\"edge3\" class=\"edge\">\n",
       "<title>1956247714816&#45;&gt;1957917445232</title>\n",
       "<path fill=\"none\" stroke=\"black\" d=\"M859.84,-1412.8C856.92,-1403.89 853.11,-1392.3 849.91,-1382.54\"/>\n",
       "<polygon fill=\"black\" stroke=\"black\" points=\"853.32,-1381.69 846.87,-1373.28 846.67,-1383.88 853.32,-1381.69\"/>\n",
       "</g>\n",
       "<!-- 1957917446000 -->\n",
       "<g id=\"node6\" class=\"node\">\n",
       "<title>1957917446000</title>\n",
       "<polygon fill=\"lightgrey\" stroke=\"black\" points=\"596,-1371.5 507,-1371.5 507,-1352.5 596,-1352.5 596,-1371.5\"/>\n",
       "<text text-anchor=\"middle\" x=\"551.5\" y=\"-1359.5\" font-family=\"monospace\" font-size=\"10.00\">SiluBackward</text>\n",
       "</g>\n",
       "<!-- 1957917446000&#45;&gt;1957917445328 -->\n",
       "<g id=\"edge4\" class=\"edge\">\n",
       "<title>1957917446000&#45;&gt;1957917445328</title>\n",
       "<path fill=\"none\" stroke=\"black\" d=\"M574.72,-1352.1C603.31,-1341.15 652.07,-1322.46 684.78,-1309.92\"/>\n",
       "<polygon fill=\"black\" stroke=\"black\" points=\"685.71,-1313.31 693.79,-1306.47 683.2,-1306.78 685.71,-1313.31\"/>\n",
       "</g>\n",
       "<!-- 1957901942352 -->\n",
       "<g id=\"node7\" class=\"node\">\n",
       "<title>1957901942352</title>\n",
       "<polygon fill=\"lightgrey\" stroke=\"black\" points=\"594,-1437.5 445,-1437.5 445,-1418.5 594,-1418.5 594,-1437.5\"/>\n",
       "<text text-anchor=\"middle\" x=\"519.5\" y=\"-1425.5\" font-family=\"monospace\" font-size=\"10.00\">CudnnBatchNormBackward</text>\n",
       "</g>\n",
       "<!-- 1957901942352&#45;&gt;1957917446000 -->\n",
       "<g id=\"edge5\" class=\"edge\">\n",
       "<title>1957901942352&#45;&gt;1957917446000</title>\n",
       "<path fill=\"none\" stroke=\"black\" d=\"M523.95,-1418.1C528.58,-1408.84 535.98,-1394.04 541.95,-1382.11\"/>\n",
       "<polygon fill=\"black\" stroke=\"black\" points=\"545.07,-1383.69 546.41,-1373.18 538.81,-1380.56 545.07,-1383.69\"/>\n",
       "</g>\n",
       "<!-- 1957901942544 -->\n",
       "<g id=\"node8\" class=\"node\">\n",
       "<title>1957901942544</title>\n",
       "<polygon fill=\"lightgrey\" stroke=\"black\" points=\"666,-1503.5 571,-1503.5 571,-1484.5 666,-1484.5 666,-1503.5\"/>\n",
       "<text text-anchor=\"middle\" x=\"618.5\" y=\"-1491.5\" font-family=\"monospace\" font-size=\"10.00\">AddmmBackward</text>\n",
       "</g>\n",
       "<!-- 1957901942544&#45;&gt;1957901942352 -->\n",
       "<g id=\"edge6\" class=\"edge\">\n",
       "<title>1957901942544&#45;&gt;1957901942352</title>\n",
       "<path fill=\"none\" stroke=\"black\" d=\"M604.73,-1484.1C588.7,-1473.74 561.96,-1456.45 542.7,-1444\"/>\n",
       "<polygon fill=\"black\" stroke=\"black\" points=\"544.72,-1441.13 534.42,-1438.65 540.92,-1447.01 544.72,-1441.13\"/>\n",
       "</g>\n",
       "<!-- 1957151468656 -->\n",
       "<g id=\"node9\" class=\"node\">\n",
       "<title>1957151468656</title>\n",
       "<polygon fill=\"lightgrey\" stroke=\"black\" points=\"773,-1569.5 672,-1569.5 672,-1550.5 773,-1550.5 773,-1569.5\"/>\n",
       "<text text-anchor=\"middle\" x=\"722.5\" y=\"-1557.5\" font-family=\"monospace\" font-size=\"10.00\">AccumulateGrad</text>\n",
       "</g>\n",
       "<!-- 1957151468656&#45;&gt;1957901942544 -->\n",
       "<g id=\"edge7\" class=\"edge\">\n",
       "<title>1957151468656&#45;&gt;1957901942544</title>\n",
       "<path fill=\"none\" stroke=\"black\" d=\"M708.04,-1550.1C691.12,-1539.69 662.84,-1522.29 642.59,-1509.83\"/>\n",
       "<polygon fill=\"black\" stroke=\"black\" points=\"644.48,-1506.88 634.13,-1504.62 640.81,-1512.84 644.48,-1506.88\"/>\n",
       "</g>\n",
       "<!-- 1956247714368 -->\n",
       "<g id=\"node10\" class=\"node\">\n",
       "<title>1956247714368</title>\n",
       "<polygon fill=\"lightblue\" stroke=\"black\" points=\"800,-1641 645,-1641 645,-1611 800,-1611 800,-1641\"/>\n",
       "<text text-anchor=\"middle\" x=\"722.5\" y=\"-1629\" font-family=\"monospace\" font-size=\"10.00\">encoder.encoder.10.bias</text>\n",
       "<text text-anchor=\"middle\" x=\"722.5\" y=\"-1618\" font-family=\"monospace\" font-size=\"10.00\"> (625)</text>\n",
       "</g>\n",
       "<!-- 1956247714368&#45;&gt;1957151468656 -->\n",
       "<g id=\"edge8\" class=\"edge\">\n",
       "<title>1956247714368&#45;&gt;1957151468656</title>\n",
       "<path fill=\"none\" stroke=\"black\" d=\"M722.5,-1610.8C722.5,-1602.09 722.5,-1590.81 722.5,-1581.18\"/>\n",
       "<polygon fill=\"black\" stroke=\"black\" points=\"726,-1581.36 722.5,-1571.36 719,-1581.36 726,-1581.36\"/>\n",
       "</g>\n",
       "<!-- 1957151469232 -->\n",
       "<g id=\"node11\" class=\"node\">\n",
       "<title>1957151469232</title>\n",
       "<polygon fill=\"lightgrey\" stroke=\"black\" points=\"894,-1569.5 805,-1569.5 805,-1550.5 894,-1550.5 894,-1569.5\"/>\n",
       "<text text-anchor=\"middle\" x=\"849.5\" y=\"-1557.5\" font-family=\"monospace\" font-size=\"10.00\">ViewBackward</text>\n",
       "</g>\n",
       "<!-- 1957151469232&#45;&gt;1957901942544 -->\n",
       "<g id=\"edge9\" class=\"edge\">\n",
       "<title>1957151469232&#45;&gt;1957901942544</title>\n",
       "<path fill=\"none\" stroke=\"black\" d=\"M817.38,-1550.1C776.81,-1538.86 706.85,-1519.48 661.64,-1506.95\"/>\n",
       "<polygon fill=\"black\" stroke=\"black\" points=\"662.75,-1503.63 652.18,-1504.33 660.88,-1510.37 662.75,-1503.63\"/>\n",
       "</g>\n",
       "<!-- 1957151468368 -->\n",
       "<g id=\"node12\" class=\"node\">\n",
       "<title>1957151468368</title>\n",
       "<polygon fill=\"lightgrey\" stroke=\"black\" points=\"907,-1635.5 818,-1635.5 818,-1616.5 907,-1616.5 907,-1635.5\"/>\n",
       "<text text-anchor=\"middle\" x=\"862.5\" y=\"-1623.5\" font-family=\"monospace\" font-size=\"10.00\">SiluBackward</text>\n",
       "</g>\n",
       "<!-- 1957151468368&#45;&gt;1957151469232 -->\n",
       "<g id=\"edge10\" class=\"edge\">\n",
       "<title>1957151468368&#45;&gt;1957151469232</title>\n",
       "<path fill=\"none\" stroke=\"black\" d=\"M860.69,-1616.1C858.85,-1607.03 855.93,-1592.64 853.53,-1580.85\"/>\n",
       "<polygon fill=\"black\" stroke=\"black\" points=\"857.01,-1580.41 851.59,-1571.31 850.15,-1581.8 857.01,-1580.41\"/>\n",
       "</g>\n",
       "<!-- 1957151469184 -->\n",
       "<g id=\"node13\" class=\"node\">\n",
       "<title>1957151469184</title>\n",
       "<polygon fill=\"lightgrey\" stroke=\"black\" points=\"937,-1701.5 788,-1701.5 788,-1682.5 937,-1682.5 937,-1701.5\"/>\n",
       "<text text-anchor=\"middle\" x=\"862.5\" y=\"-1689.5\" font-family=\"monospace\" font-size=\"10.00\">CudnnBatchNormBackward</text>\n",
       "</g>\n",
       "<!-- 1957151469184&#45;&gt;1957151468368 -->\n",
       "<g id=\"edge11\" class=\"edge\">\n",
       "<title>1957151469184&#45;&gt;1957151468368</title>\n",
       "<path fill=\"none\" stroke=\"black\" d=\"M862.5,-1682.1C862.5,-1673.12 862.5,-1658.95 862.5,-1647.22\"/>\n",
       "<polygon fill=\"black\" stroke=\"black\" points=\"866,-1647.34 862.5,-1637.34 859,-1647.34 866,-1647.34\"/>\n",
       "</g>\n",
       "<!-- 1957151467456 -->\n",
       "<g id=\"node14\" class=\"node\">\n",
       "<title>1957151467456</title>\n",
       "<polygon fill=\"lightgrey\" stroke=\"black\" points=\"764,-1762 675,-1762 675,-1743 764,-1743 764,-1762\"/>\n",
       "<text text-anchor=\"middle\" x=\"719.5\" y=\"-1750\" font-family=\"monospace\" font-size=\"10.00\">AddBackward0</text>\n",
       "</g>\n",
       "<!-- 1957151467456&#45;&gt;1957151469184 -->\n",
       "<g id=\"edge12\" class=\"edge\">\n",
       "<title>1957151467456&#45;&gt;1957151469184</title>\n",
       "<path fill=\"none\" stroke=\"black\" d=\"M741.22,-1742.62C764.84,-1732.95 802.86,-1717.4 830.03,-1706.28\"/>\n",
       "<polygon fill=\"black\" stroke=\"black\" points=\"831.25,-1709.57 839.18,-1702.54 828.6,-1703.09 831.25,-1709.57\"/>\n",
       "</g>\n",
       "<!-- 1957151469136 -->\n",
       "<g id=\"node15\" class=\"node\">\n",
       "<title>1957151469136</title>\n",
       "<polygon fill=\"lightgrey\" stroke=\"black\" points=\"657,-1822.5 496,-1822.5 496,-1803.5 657,-1803.5 657,-1822.5\"/>\n",
       "<text text-anchor=\"middle\" x=\"576.5\" y=\"-1810.5\" font-family=\"monospace\" font-size=\"10.00\">CudnnConvolutionBackward</text>\n",
       "</g>\n",
       "<!-- 1957151469136&#45;&gt;1957151467456 -->\n",
       "<g id=\"edge13\" class=\"edge\">\n",
       "<title>1957151469136&#45;&gt;1957151467456</title>\n",
       "<path fill=\"none\" stroke=\"black\" d=\"M598.22,-1803.12C621.84,-1793.45 659.86,-1777.9 687.03,-1766.78\"/>\n",
       "<polygon fill=\"black\" stroke=\"black\" points=\"688.25,-1770.07 696.18,-1763.04 685.6,-1763.59 688.25,-1770.07\"/>\n",
       "</g>\n",
       "<!-- 1957151467504 -->\n",
       "<g id=\"node16\" class=\"node\">\n",
       "<title>1957151467504</title>\n",
       "<polygon fill=\"lightgrey\" stroke=\"black\" points=\"623,-1883 534,-1883 534,-1864 623,-1864 623,-1883\"/>\n",
       "<text text-anchor=\"middle\" x=\"578.5\" y=\"-1871\" font-family=\"monospace\" font-size=\"10.00\">SiluBackward</text>\n",
       "</g>\n",
       "<!-- 1957151467504&#45;&gt;1957151469136 -->\n",
       "<g id=\"edge14\" class=\"edge\">\n",
       "<title>1957151467504&#45;&gt;1957151469136</title>\n",
       "<path fill=\"none\" stroke=\"black\" d=\"M578.2,-1863.87C577.94,-1856 577.53,-1844.1 577.18,-1833.89\"/>\n",
       "<polygon fill=\"black\" stroke=\"black\" points=\"580.69,-1834.05 576.85,-1824.18 573.69,-1834.29 580.69,-1834.05\"/>\n",
       "</g>\n",
       "<!-- 1957151467552 -->\n",
       "<g id=\"node17\" class=\"node\">\n",
       "<title>1957151467552</title>\n",
       "<polygon fill=\"lightgrey\" stroke=\"black\" points=\"626,-1943.5 537,-1943.5 537,-1924.5 626,-1924.5 626,-1943.5\"/>\n",
       "<text text-anchor=\"middle\" x=\"581.5\" y=\"-1931.5\" font-family=\"monospace\" font-size=\"10.00\">AddBackward0</text>\n",
       "</g>\n",
       "<!-- 1957151467552&#45;&gt;1957151467504 -->\n",
       "<g id=\"edge15\" class=\"edge\">\n",
       "<title>1957151467552&#45;&gt;1957151467504</title>\n",
       "<path fill=\"none\" stroke=\"black\" d=\"M581.06,-1924.37C580.65,-1916.5 580.04,-1904.6 579.52,-1894.39\"/>\n",
       "<polygon fill=\"black\" stroke=\"black\" points=\"583.03,-1894.49 579.02,-1884.68 576.04,-1894.85 583.03,-1894.49\"/>\n",
       "</g>\n",
       "<!-- 1957151467600 -->\n",
       "<g id=\"node18\" class=\"node\">\n",
       "<title>1957151467600</title>\n",
       "<polygon fill=\"lightgrey\" stroke=\"black\" points=\"590,-2004 429,-2004 429,-1985 590,-1985 590,-2004\"/>\n",
       "<text text-anchor=\"middle\" x=\"509.5\" y=\"-1992\" font-family=\"monospace\" font-size=\"10.00\">CudnnConvolutionBackward</text>\n",
       "</g>\n",
       "<!-- 1957151467600&#45;&gt;1957151467552 -->\n",
       "<g id=\"edge16\" class=\"edge\">\n",
       "<title>1957151467600&#45;&gt;1957151467552</title>\n",
       "<path fill=\"none\" stroke=\"black\" d=\"M520.44,-1984.62C531.32,-1975.77 548.29,-1961.98 561.58,-1951.19\"/>\n",
       "<polygon fill=\"black\" stroke=\"black\" points=\"563.73,-1953.95 569.29,-1944.92 559.32,-1948.51 563.73,-1953.95\"/>\n",
       "</g>\n",
       "<!-- 1957151468080 -->\n",
       "<g id=\"node19\" class=\"node\">\n",
       "<title>1957151468080</title>\n",
       "<polygon fill=\"lightgrey\" stroke=\"black\" points=\"556,-2059 467,-2059 467,-2040 556,-2040 556,-2059\"/>\n",
       "<text text-anchor=\"middle\" x=\"511.5\" y=\"-2047\" font-family=\"monospace\" font-size=\"10.00\">SiluBackward</text>\n",
       "</g>\n",
       "<!-- 1957151468080&#45;&gt;1957151467600 -->\n",
       "<g id=\"edge17\" class=\"edge\">\n",
       "<title>1957151468080&#45;&gt;1957151467600</title>\n",
       "<path fill=\"none\" stroke=\"black\" d=\"M511.17,-2039.75C510.93,-2033.27 510.58,-2024.16 510.27,-2015.9\"/>\n",
       "<polygon fill=\"black\" stroke=\"black\" points=\"513.77,-2015.82 509.89,-2005.95 506.77,-2016.08 513.77,-2015.82\"/>\n",
       "</g>\n",
       "<!-- 1957151467888 -->\n",
       "<g id=\"node20\" class=\"node\">\n",
       "<title>1957151467888</title>\n",
       "<polygon fill=\"lightgrey\" stroke=\"black\" points=\"559,-2119.5 470,-2119.5 470,-2100.5 559,-2100.5 559,-2119.5\"/>\n",
       "<text text-anchor=\"middle\" x=\"514.5\" y=\"-2107.5\" font-family=\"monospace\" font-size=\"10.00\">AddBackward0</text>\n",
       "</g>\n",
       "<!-- 1957151467888&#45;&gt;1957151468080 -->\n",
       "<g id=\"edge18\" class=\"edge\">\n",
       "<title>1957151467888&#45;&gt;1957151468080</title>\n",
       "<path fill=\"none\" stroke=\"black\" d=\"M514.06,-2100.37C513.65,-2092.5 513.04,-2080.6 512.52,-2070.39\"/>\n",
       "<polygon fill=\"black\" stroke=\"black\" points=\"516.03,-2070.49 512.02,-2060.68 509.04,-2070.85 516.03,-2070.49\"/>\n",
       "</g>\n",
       "<!-- 1957151468128 -->\n",
       "<g id=\"node21\" class=\"node\">\n",
       "<title>1957151468128</title>\n",
       "<polygon fill=\"lightgrey\" stroke=\"black\" points=\"523,-2180 362,-2180 362,-2161 523,-2161 523,-2180\"/>\n",
       "<text text-anchor=\"middle\" x=\"442.5\" y=\"-2168\" font-family=\"monospace\" font-size=\"10.00\">CudnnConvolutionBackward</text>\n",
       "</g>\n",
       "<!-- 1957151468128&#45;&gt;1957151467888 -->\n",
       "<g id=\"edge19\" class=\"edge\">\n",
       "<title>1957151468128&#45;&gt;1957151467888</title>\n",
       "<path fill=\"none\" stroke=\"black\" d=\"M453.44,-2160.62C464.32,-2151.77 481.29,-2137.98 494.58,-2127.19\"/>\n",
       "<polygon fill=\"black\" stroke=\"black\" points=\"496.73,-2129.95 502.29,-2120.92 492.32,-2124.51 496.73,-2129.95\"/>\n",
       "</g>\n",
       "<!-- 1957151467792 -->\n",
       "<g id=\"node22\" class=\"node\">\n",
       "<title>1957151467792</title>\n",
       "<polygon fill=\"lightgrey\" stroke=\"black\" points=\"489,-2235 400,-2235 400,-2216 489,-2216 489,-2235\"/>\n",
       "<text text-anchor=\"middle\" x=\"444.5\" y=\"-2223\" font-family=\"monospace\" font-size=\"10.00\">SiluBackward</text>\n",
       "</g>\n",
       "<!-- 1957151467792&#45;&gt;1957151468128 -->\n",
       "<g id=\"edge20\" class=\"edge\">\n",
       "<title>1957151467792&#45;&gt;1957151468128</title>\n",
       "<path fill=\"none\" stroke=\"black\" d=\"M444.17,-2215.75C443.93,-2209.27 443.58,-2200.16 443.27,-2191.9\"/>\n",
       "<polygon fill=\"black\" stroke=\"black\" points=\"446.77,-2191.82 442.89,-2181.95 439.77,-2192.08 446.77,-2191.82\"/>\n",
       "</g>\n",
       "<!-- 1956924544864 -->\n",
       "<g id=\"node23\" class=\"node\">\n",
       "<title>1956924544864</title>\n",
       "<polygon fill=\"lightgrey\" stroke=\"black\" points=\"492,-2295.5 403,-2295.5 403,-2276.5 492,-2276.5 492,-2295.5\"/>\n",
       "<text text-anchor=\"middle\" x=\"447.5\" y=\"-2283.5\" font-family=\"monospace\" font-size=\"10.00\">AddBackward0</text>\n",
       "</g>\n",
       "<!-- 1956924544864&#45;&gt;1957151467792 -->\n",
       "<g id=\"edge21\" class=\"edge\">\n",
       "<title>1956924544864&#45;&gt;1957151467792</title>\n",
       "<path fill=\"none\" stroke=\"black\" d=\"M447.06,-2276.37C446.65,-2268.5 446.04,-2256.6 445.52,-2246.39\"/>\n",
       "<polygon fill=\"black\" stroke=\"black\" points=\"449.03,-2246.49 445.02,-2236.68 442.04,-2246.85 449.03,-2246.49\"/>\n",
       "</g>\n",
       "<!-- 1956924544096 -->\n",
       "<g id=\"node24\" class=\"node\">\n",
       "<title>1956924544096</title>\n",
       "<polygon fill=\"lightgrey\" stroke=\"black\" points=\"441,-2356 280,-2356 280,-2337 441,-2337 441,-2356\"/>\n",
       "<text text-anchor=\"middle\" x=\"360.5\" y=\"-2344\" font-family=\"monospace\" font-size=\"10.00\">CudnnConvolutionBackward</text>\n",
       "</g>\n",
       "<!-- 1956924544096&#45;&gt;1956924544864 -->\n",
       "<g id=\"edge22\" class=\"edge\">\n",
       "<title>1956924544096&#45;&gt;1956924544864</title>\n",
       "<path fill=\"none\" stroke=\"black\" d=\"M373.71,-2336.62C387.25,-2327.51 408.57,-2313.18 424.82,-2302.25\"/>\n",
       "<polygon fill=\"black\" stroke=\"black\" points=\"426.56,-2305.3 432.91,-2296.81 422.65,-2299.49 426.56,-2305.3\"/>\n",
       "</g>\n",
       "<!-- 1956924543712 -->\n",
       "<g id=\"node25\" class=\"node\">\n",
       "<title>1956924543712</title>\n",
       "<polygon fill=\"lightgrey\" stroke=\"black\" points=\"404,-2411 303,-2411 303,-2392 404,-2392 404,-2411\"/>\n",
       "<text text-anchor=\"middle\" x=\"353.5\" y=\"-2399\" font-family=\"monospace\" font-size=\"10.00\">AccumulateGrad</text>\n",
       "</g>\n",
       "<!-- 1956924543712&#45;&gt;1956924544096 -->\n",
       "<g id=\"edge23\" class=\"edge\">\n",
       "<title>1956924543712&#45;&gt;1956924544096</title>\n",
       "<path fill=\"none\" stroke=\"black\" d=\"M354.66,-2391.75C355.52,-2385.19 356.74,-2375.95 357.84,-2367.6\"/>\n",
       "<polygon fill=\"black\" stroke=\"black\" points=\"361.28,-2368.31 359.12,-2357.94 354.34,-2367.4 361.28,-2368.31\"/>\n",
       "</g>\n",
       "<!-- 1956247711488 -->\n",
       "<g id=\"node26\" class=\"node\">\n",
       "<title>1956247711488</title>\n",
       "<polygon fill=\"lightblue\" stroke=\"black\" points=\"430,-2477 269,-2477 269,-2447 430,-2447 430,-2477\"/>\n",
       "<text text-anchor=\"middle\" x=\"349.5\" y=\"-2465\" font-family=\"monospace\" font-size=\"10.00\">encoder.encoder.0.weight</text>\n",
       "<text text-anchor=\"middle\" x=\"349.5\" y=\"-2454\" font-family=\"monospace\" font-size=\"10.00\"> (8, 1, 5, 5)</text>\n",
       "</g>\n",
       "<!-- 1956247711488&#45;&gt;1956924543712 -->\n",
       "<g id=\"edge24\" class=\"edge\">\n",
       "<title>1956247711488&#45;&gt;1956924543712</title>\n",
       "<path fill=\"none\" stroke=\"black\" d=\"M350.49,-2446.54C350.99,-2439.26 351.6,-2430.31 352.14,-2422.39\"/>\n",
       "<polygon fill=\"black\" stroke=\"black\" points=\"355.61,-2422.9 352.8,-2412.69 348.63,-2422.42 355.61,-2422.9\"/>\n",
       "</g>\n",
       "<!-- 1956924543616 -->\n",
       "<g id=\"node27\" class=\"node\">\n",
       "<title>1956924543616</title>\n",
       "<polygon fill=\"lightgrey\" stroke=\"black\" points=\"563,-2356 474,-2356 474,-2337 563,-2337 563,-2356\"/>\n",
       "<text text-anchor=\"middle\" x=\"518.5\" y=\"-2344\" font-family=\"monospace\" font-size=\"10.00\">ViewBackward</text>\n",
       "</g>\n",
       "<!-- 1956924543616&#45;&gt;1956924544864 -->\n",
       "<g id=\"edge25\" class=\"edge\">\n",
       "<title>1956924543616&#45;&gt;1956924544864</title>\n",
       "<path fill=\"none\" stroke=\"black\" d=\"M507.72,-2336.62C496.98,-2327.77 480.25,-2313.98 467.15,-2303.19\"/>\n",
       "<polygon fill=\"black\" stroke=\"black\" points=\"469.5,-2300.59 459.55,-2296.93 465.05,-2305.99 469.5,-2300.59\"/>\n",
       "</g>\n",
       "<!-- 1956924544192 -->\n",
       "<g id=\"node28\" class=\"node\">\n",
       "<title>1956924544192</title>\n",
       "<polygon fill=\"lightgrey\" stroke=\"black\" points=\"571,-2411 470,-2411 470,-2392 571,-2392 571,-2411\"/>\n",
       "<text text-anchor=\"middle\" x=\"520.5\" y=\"-2399\" font-family=\"monospace\" font-size=\"10.00\">AccumulateGrad</text>\n",
       "</g>\n",
       "<!-- 1956924544192&#45;&gt;1956924543616 -->\n",
       "<g id=\"edge26\" class=\"edge\">\n",
       "<title>1956924544192&#45;&gt;1956924543616</title>\n",
       "<path fill=\"none\" stroke=\"black\" d=\"M520.17,-2391.75C519.93,-2385.27 519.58,-2376.16 519.27,-2367.9\"/>\n",
       "<polygon fill=\"black\" stroke=\"black\" points=\"522.77,-2367.82 518.89,-2357.95 515.77,-2368.08 522.77,-2367.82\"/>\n",
       "</g>\n",
       "<!-- 1956247271488 -->\n",
       "<g id=\"node29\" class=\"node\">\n",
       "<title>1956247271488</title>\n",
       "<polygon fill=\"lightblue\" stroke=\"black\" points=\"597,-2477 448,-2477 448,-2447 597,-2447 597,-2477\"/>\n",
       "<text text-anchor=\"middle\" x=\"522.5\" y=\"-2465\" font-family=\"monospace\" font-size=\"10.00\">encoder.encoder.0.bias</text>\n",
       "<text text-anchor=\"middle\" x=\"522.5\" y=\"-2454\" font-family=\"monospace\" font-size=\"10.00\"> (8)</text>\n",
       "</g>\n",
       "<!-- 1956247271488&#45;&gt;1956924544192 -->\n",
       "<g id=\"edge27\" class=\"edge\">\n",
       "<title>1956247271488&#45;&gt;1956924544192</title>\n",
       "<path fill=\"none\" stroke=\"black\" d=\"M522.01,-2446.54C521.76,-2439.34 521.46,-2430.53 521.19,-2422.68\"/>\n",
       "<polygon fill=\"black\" stroke=\"black\" points=\"524.69,-2422.56 520.85,-2412.69 517.69,-2422.8 524.69,-2422.56\"/>\n",
       "</g>\n",
       "<!-- 1957151469328 -->\n",
       "<g id=\"node30\" class=\"node\">\n",
       "<title>1957151469328</title>\n",
       "<polygon fill=\"lightgrey\" stroke=\"black\" points=\"369,-2235 268,-2235 268,-2216 369,-2216 369,-2235\"/>\n",
       "<text text-anchor=\"middle\" x=\"318.5\" y=\"-2223\" font-family=\"monospace\" font-size=\"10.00\">AccumulateGrad</text>\n",
       "</g>\n",
       "<!-- 1957151469328&#45;&gt;1957151468128 -->\n",
       "<g id=\"edge28\" class=\"edge\">\n",
       "<title>1957151469328&#45;&gt;1957151468128</title>\n",
       "<path fill=\"none\" stroke=\"black\" d=\"M339.53,-2215.51C359.25,-2207.08 388.97,-2194.38 411.41,-2184.79\"/>\n",
       "<polygon fill=\"black\" stroke=\"black\" points=\"412.56,-2188.1 420.38,-2180.95 409.81,-2181.66 412.56,-2188.1\"/>\n",
       "</g>\n",
       "<!-- 1954987869184 -->\n",
       "<g id=\"node31\" class=\"node\">\n",
       "<title>1954987869184</title>\n",
       "<polygon fill=\"lightblue\" stroke=\"black\" points=\"385,-2301 224,-2301 224,-2271 385,-2271 385,-2301\"/>\n",
       "<text text-anchor=\"middle\" x=\"304.5\" y=\"-2289\" font-family=\"monospace\" font-size=\"10.00\">encoder.encoder.2.weight</text>\n",
       "<text text-anchor=\"middle\" x=\"304.5\" y=\"-2278\" font-family=\"monospace\" font-size=\"10.00\"> (16, 8, 5, 5)</text>\n",
       "</g>\n",
       "<!-- 1954987869184&#45;&gt;1957151469328 -->\n",
       "<g id=\"edge29\" class=\"edge\">\n",
       "<title>1954987869184&#45;&gt;1957151469328</title>\n",
       "<path fill=\"none\" stroke=\"black\" d=\"M307.96,-2270.54C309.72,-2263.17 311.89,-2254.1 313.81,-2246.11\"/>\n",
       "<polygon fill=\"black\" stroke=\"black\" points=\"317.15,-2247.19 316.07,-2236.65 310.34,-2245.56 317.15,-2247.19\"/>\n",
       "</g>\n",
       "<!-- 1957151467840 -->\n",
       "<g id=\"node32\" class=\"node\">\n",
       "<title>1957151467840</title>\n",
       "<polygon fill=\"lightgrey\" stroke=\"black\" points=\"630,-2180 541,-2180 541,-2161 630,-2161 630,-2180\"/>\n",
       "<text text-anchor=\"middle\" x=\"585.5\" y=\"-2168\" font-family=\"monospace\" font-size=\"10.00\">ViewBackward</text>\n",
       "</g>\n",
       "<!-- 1957151467840&#45;&gt;1957151467888 -->\n",
       "<g id=\"edge30\" class=\"edge\">\n",
       "<title>1957151467840&#45;&gt;1957151467888</title>\n",
       "<path fill=\"none\" stroke=\"black\" d=\"M574.72,-2160.62C563.98,-2151.77 547.25,-2137.98 534.15,-2127.19\"/>\n",
       "<polygon fill=\"black\" stroke=\"black\" points=\"536.5,-2124.59 526.55,-2120.93 532.05,-2129.99 536.5,-2124.59\"/>\n",
       "</g>\n",
       "<!-- 1956924543808 -->\n",
       "<g id=\"node33\" class=\"node\">\n",
       "<title>1956924543808</title>\n",
       "<polygon fill=\"lightgrey\" stroke=\"black\" points=\"636,-2235 535,-2235 535,-2216 636,-2216 636,-2235\"/>\n",
       "<text text-anchor=\"middle\" x=\"585.5\" y=\"-2223\" font-family=\"monospace\" font-size=\"10.00\">AccumulateGrad</text>\n",
       "</g>\n",
       "<!-- 1956924543808&#45;&gt;1957151467840 -->\n",
       "<g id=\"edge31\" class=\"edge\">\n",
       "<title>1956924543808&#45;&gt;1957151467840</title>\n",
       "<path fill=\"none\" stroke=\"black\" d=\"M585.5,-2215.75C585.5,-2209.27 585.5,-2200.16 585.5,-2191.9\"/>\n",
       "<polygon fill=\"black\" stroke=\"black\" points=\"589,-2191.96 585.5,-2181.96 582,-2191.96 589,-2191.96\"/>\n",
       "</g>\n",
       "<!-- 1956247215296 -->\n",
       "<g id=\"node34\" class=\"node\">\n",
       "<title>1956247215296</title>\n",
       "<polygon fill=\"lightblue\" stroke=\"black\" points=\"660,-2301 511,-2301 511,-2271 660,-2271 660,-2301\"/>\n",
       "<text text-anchor=\"middle\" x=\"585.5\" y=\"-2289\" font-family=\"monospace\" font-size=\"10.00\">encoder.encoder.2.bias</text>\n",
       "<text text-anchor=\"middle\" x=\"585.5\" y=\"-2278\" font-family=\"monospace\" font-size=\"10.00\"> (16)</text>\n",
       "</g>\n",
       "<!-- 1956247215296&#45;&gt;1956924543808 -->\n",
       "<g id=\"edge32\" class=\"edge\">\n",
       "<title>1956247215296&#45;&gt;1956924543808</title>\n",
       "<path fill=\"none\" stroke=\"black\" d=\"M585.5,-2270.54C585.5,-2263.34 585.5,-2254.53 585.5,-2246.68\"/>\n",
       "<polygon fill=\"black\" stroke=\"black\" points=\"589,-2246.69 585.5,-2236.69 582,-2246.69 589,-2246.69\"/>\n",
       "</g>\n",
       "<!-- 1957151467744 -->\n",
       "<g id=\"node35\" class=\"node\">\n",
       "<title>1957151467744</title>\n",
       "<polygon fill=\"lightgrey\" stroke=\"black\" points=\"436,-2059 335,-2059 335,-2040 436,-2040 436,-2059\"/>\n",
       "<text text-anchor=\"middle\" x=\"385.5\" y=\"-2047\" font-family=\"monospace\" font-size=\"10.00\">AccumulateGrad</text>\n",
       "</g>\n",
       "<!-- 1957151467744&#45;&gt;1957151467600 -->\n",
       "<g id=\"edge33\" class=\"edge\">\n",
       "<title>1957151467744&#45;&gt;1957151467600</title>\n",
       "<path fill=\"none\" stroke=\"black\" d=\"M406.53,-2039.51C426.25,-2031.08 455.97,-2018.38 478.41,-2008.79\"/>\n",
       "<polygon fill=\"black\" stroke=\"black\" points=\"479.56,-2012.1 487.38,-2004.95 476.81,-2005.66 479.56,-2012.1\"/>\n",
       "</g>\n",
       "<!-- 1956247650048 -->\n",
       "<g id=\"node36\" class=\"node\">\n",
       "<title>1956247650048</title>\n",
       "<polygon fill=\"lightblue\" stroke=\"black\" points=\"452,-2125 291,-2125 291,-2095 452,-2095 452,-2125\"/>\n",
       "<text text-anchor=\"middle\" x=\"371.5\" y=\"-2113\" font-family=\"monospace\" font-size=\"10.00\">encoder.encoder.4.weight</text>\n",
       "<text text-anchor=\"middle\" x=\"371.5\" y=\"-2102\" font-family=\"monospace\" font-size=\"10.00\"> (32, 16, 5, 5)</text>\n",
       "</g>\n",
       "<!-- 1956247650048&#45;&gt;1957151467744 -->\n",
       "<g id=\"edge34\" class=\"edge\">\n",
       "<title>1956247650048&#45;&gt;1957151467744</title>\n",
       "<path fill=\"none\" stroke=\"black\" d=\"M374.96,-2094.54C376.72,-2087.17 378.89,-2078.1 380.81,-2070.11\"/>\n",
       "<polygon fill=\"black\" stroke=\"black\" points=\"384.15,-2071.19 383.07,-2060.65 377.34,-2069.56 384.15,-2071.19\"/>\n",
       "</g>\n",
       "<!-- 1957151467696 -->\n",
       "<g id=\"node37\" class=\"node\">\n",
       "<title>1957151467696</title>\n",
       "<polygon fill=\"lightgrey\" stroke=\"black\" points=\"697,-2004 608,-2004 608,-1985 697,-1985 697,-2004\"/>\n",
       "<text text-anchor=\"middle\" x=\"652.5\" y=\"-1992\" font-family=\"monospace\" font-size=\"10.00\">ViewBackward</text>\n",
       "</g>\n",
       "<!-- 1957151467696&#45;&gt;1957151467552 -->\n",
       "<g id=\"edge35\" class=\"edge\">\n",
       "<title>1957151467696&#45;&gt;1957151467552</title>\n",
       "<path fill=\"none\" stroke=\"black\" d=\"M641.72,-1984.62C630.98,-1975.77 614.25,-1961.98 601.15,-1951.19\"/>\n",
       "<polygon fill=\"black\" stroke=\"black\" points=\"603.5,-1948.59 593.55,-1944.93 599.05,-1953.99 603.5,-1948.59\"/>\n",
       "</g>\n",
       "<!-- 1957151467312 -->\n",
       "<g id=\"node38\" class=\"node\">\n",
       "<title>1957151467312</title>\n",
       "<polygon fill=\"lightgrey\" stroke=\"black\" points=\"703,-2059 602,-2059 602,-2040 703,-2040 703,-2059\"/>\n",
       "<text text-anchor=\"middle\" x=\"652.5\" y=\"-2047\" font-family=\"monospace\" font-size=\"10.00\">AccumulateGrad</text>\n",
       "</g>\n",
       "<!-- 1957151467312&#45;&gt;1957151467696 -->\n",
       "<g id=\"edge36\" class=\"edge\">\n",
       "<title>1957151467312&#45;&gt;1957151467696</title>\n",
       "<path fill=\"none\" stroke=\"black\" d=\"M652.5,-2039.75C652.5,-2033.27 652.5,-2024.16 652.5,-2015.9\"/>\n",
       "<polygon fill=\"black\" stroke=\"black\" points=\"656,-2015.96 652.5,-2005.96 649,-2015.96 656,-2015.96\"/>\n",
       "</g>\n",
       "<!-- 1956247269760 -->\n",
       "<g id=\"node39\" class=\"node\">\n",
       "<title>1956247269760</title>\n",
       "<polygon fill=\"lightblue\" stroke=\"black\" points=\"727,-2125 578,-2125 578,-2095 727,-2095 727,-2125\"/>\n",
       "<text text-anchor=\"middle\" x=\"652.5\" y=\"-2113\" font-family=\"monospace\" font-size=\"10.00\">encoder.encoder.4.bias</text>\n",
       "<text text-anchor=\"middle\" x=\"652.5\" y=\"-2102\" font-family=\"monospace\" font-size=\"10.00\"> (32)</text>\n",
       "</g>\n",
       "<!-- 1956247269760&#45;&gt;1957151467312 -->\n",
       "<g id=\"edge37\" class=\"edge\">\n",
       "<title>1956247269760&#45;&gt;1957151467312</title>\n",
       "<path fill=\"none\" stroke=\"black\" d=\"M652.5,-2094.54C652.5,-2087.34 652.5,-2078.53 652.5,-2070.68\"/>\n",
       "<polygon fill=\"black\" stroke=\"black\" points=\"656,-2070.69 652.5,-2060.69 649,-2070.69 656,-2070.69\"/>\n",
       "</g>\n",
       "<!-- 1957151469376 -->\n",
       "<g id=\"node40\" class=\"node\">\n",
       "<title>1957151469376</title>\n",
       "<polygon fill=\"lightgrey\" stroke=\"black\" points=\"503,-1883 402,-1883 402,-1864 503,-1864 503,-1883\"/>\n",
       "<text text-anchor=\"middle\" x=\"452.5\" y=\"-1871\" font-family=\"monospace\" font-size=\"10.00\">AccumulateGrad</text>\n",
       "</g>\n",
       "<!-- 1957151469376&#45;&gt;1957151469136 -->\n",
       "<g id=\"edge38\" class=\"edge\">\n",
       "<title>1957151469376&#45;&gt;1957151469136</title>\n",
       "<path fill=\"none\" stroke=\"black\" d=\"M471.33,-1863.62C491.45,-1854.12 523.61,-1838.95 547.08,-1827.88\"/>\n",
       "<polygon fill=\"black\" stroke=\"black\" points=\"548.57,-1831.05 556.12,-1823.61 545.58,-1824.72 548.57,-1831.05\"/>\n",
       "</g>\n",
       "<!-- 1956247712128 -->\n",
       "<g id=\"node41\" class=\"node\">\n",
       "<title>1956247712128</title>\n",
       "<polygon fill=\"lightblue\" stroke=\"black\" points=\"519,-1949 358,-1949 358,-1919 519,-1919 519,-1949\"/>\n",
       "<text text-anchor=\"middle\" x=\"438.5\" y=\"-1937\" font-family=\"monospace\" font-size=\"10.00\">encoder.encoder.6.weight</text>\n",
       "<text text-anchor=\"middle\" x=\"438.5\" y=\"-1926\" font-family=\"monospace\" font-size=\"10.00\"> (64, 32, 5, 5)</text>\n",
       "</g>\n",
       "<!-- 1956247712128&#45;&gt;1957151469376 -->\n",
       "<g id=\"edge39\" class=\"edge\">\n",
       "<title>1956247712128&#45;&gt;1957151469376</title>\n",
       "<path fill=\"none\" stroke=\"black\" d=\"M441.96,-1918.54C443.72,-1911.17 445.89,-1902.1 447.81,-1894.11\"/>\n",
       "<polygon fill=\"black\" stroke=\"black\" points=\"451.15,-1895.19 450.07,-1884.65 444.34,-1893.56 451.15,-1895.19\"/>\n",
       "</g>\n",
       "<!-- 1957151467408 -->\n",
       "<g id=\"node42\" class=\"node\">\n",
       "<title>1957151467408</title>\n",
       "<polygon fill=\"lightgrey\" stroke=\"black\" points=\"764,-1822.5 675,-1822.5 675,-1803.5 764,-1803.5 764,-1822.5\"/>\n",
       "<text text-anchor=\"middle\" x=\"719.5\" y=\"-1810.5\" font-family=\"monospace\" font-size=\"10.00\">ViewBackward</text>\n",
       "</g>\n",
       "<!-- 1957151467408&#45;&gt;1957151467456 -->\n",
       "<g id=\"edge40\" class=\"edge\">\n",
       "<title>1957151467408&#45;&gt;1957151467456</title>\n",
       "<path fill=\"none\" stroke=\"black\" d=\"M719.5,-1803.37C719.5,-1795.5 719.5,-1783.6 719.5,-1773.39\"/>\n",
       "<polygon fill=\"black\" stroke=\"black\" points=\"723,-1773.68 719.5,-1763.68 716,-1773.68 723,-1773.68\"/>\n",
       "</g>\n",
       "<!-- 1957151468992 -->\n",
       "<g id=\"node43\" class=\"node\">\n",
       "<title>1957151468992</title>\n",
       "<polygon fill=\"lightgrey\" stroke=\"black\" points=\"770,-1883 669,-1883 669,-1864 770,-1864 770,-1883\"/>\n",
       "<text text-anchor=\"middle\" x=\"719.5\" y=\"-1871\" font-family=\"monospace\" font-size=\"10.00\">AccumulateGrad</text>\n",
       "</g>\n",
       "<!-- 1957151468992&#45;&gt;1957151467408 -->\n",
       "<g id=\"edge41\" class=\"edge\">\n",
       "<title>1957151468992&#45;&gt;1957151467408</title>\n",
       "<path fill=\"none\" stroke=\"black\" d=\"M719.5,-1863.87C719.5,-1856 719.5,-1844.1 719.5,-1833.89\"/>\n",
       "<polygon fill=\"black\" stroke=\"black\" points=\"723,-1834.18 719.5,-1824.18 716,-1834.18 723,-1834.18\"/>\n",
       "</g>\n",
       "<!-- 1956247712384 -->\n",
       "<g id=\"node44\" class=\"node\">\n",
       "<title>1956247712384</title>\n",
       "<polygon fill=\"lightblue\" stroke=\"black\" points=\"794,-1949 645,-1949 645,-1919 794,-1919 794,-1949\"/>\n",
       "<text text-anchor=\"middle\" x=\"719.5\" y=\"-1937\" font-family=\"monospace\" font-size=\"10.00\">encoder.encoder.6.bias</text>\n",
       "<text text-anchor=\"middle\" x=\"719.5\" y=\"-1926\" font-family=\"monospace\" font-size=\"10.00\"> (64)</text>\n",
       "</g>\n",
       "<!-- 1956247712384&#45;&gt;1957151468992 -->\n",
       "<g id=\"edge42\" class=\"edge\">\n",
       "<title>1956247712384&#45;&gt;1957151468992</title>\n",
       "<path fill=\"none\" stroke=\"black\" d=\"M719.5,-1918.54C719.5,-1911.34 719.5,-1902.53 719.5,-1894.68\"/>\n",
       "<polygon fill=\"black\" stroke=\"black\" points=\"723,-1894.69 719.5,-1884.69 716,-1894.69 723,-1894.69\"/>\n",
       "</g>\n",
       "<!-- 1957151468320 -->\n",
       "<g id=\"node45\" class=\"node\">\n",
       "<title>1957151468320</title>\n",
       "<polygon fill=\"lightgrey\" stroke=\"black\" points=\"913,-1762 812,-1762 812,-1743 913,-1743 913,-1762\"/>\n",
       "<text text-anchor=\"middle\" x=\"862.5\" y=\"-1750\" font-family=\"monospace\" font-size=\"10.00\">AccumulateGrad</text>\n",
       "</g>\n",
       "<!-- 1957151468320&#45;&gt;1957151469184 -->\n",
       "<g id=\"edge43\" class=\"edge\">\n",
       "<title>1957151468320&#45;&gt;1957151469184</title>\n",
       "<path fill=\"none\" stroke=\"black\" d=\"M862.5,-1742.87C862.5,-1735 862.5,-1723.1 862.5,-1712.89\"/>\n",
       "<polygon fill=\"black\" stroke=\"black\" points=\"866,-1713.18 862.5,-1703.18 859,-1713.18 866,-1713.18\"/>\n",
       "</g>\n",
       "<!-- 1956247714048 -->\n",
       "<g id=\"node46\" class=\"node\">\n",
       "<title>1956247714048</title>\n",
       "<polygon fill=\"lightblue\" stroke=\"black\" points=\"943,-1828 782,-1828 782,-1798 943,-1798 943,-1828\"/>\n",
       "<text text-anchor=\"middle\" x=\"862.5\" y=\"-1816\" font-family=\"monospace\" font-size=\"10.00\">encoder.encoder.7.weight</text>\n",
       "<text text-anchor=\"middle\" x=\"862.5\" y=\"-1805\" font-family=\"monospace\" font-size=\"10.00\"> (64)</text>\n",
       "</g>\n",
       "<!-- 1956247714048&#45;&gt;1957151468320 -->\n",
       "<g id=\"edge44\" class=\"edge\">\n",
       "<title>1956247714048&#45;&gt;1957151468320</title>\n",
       "<path fill=\"none\" stroke=\"black\" d=\"M862.5,-1797.54C862.5,-1790.34 862.5,-1781.53 862.5,-1773.68\"/>\n",
       "<polygon fill=\"black\" stroke=\"black\" points=\"866,-1773.69 862.5,-1763.69 859,-1773.69 866,-1773.69\"/>\n",
       "</g>\n",
       "<!-- 1957151469520 -->\n",
       "<g id=\"node47\" class=\"node\">\n",
       "<title>1957151469520</title>\n",
       "<polygon fill=\"lightgrey\" stroke=\"black\" points=\"1059,-1762 958,-1762 958,-1743 1059,-1743 1059,-1762\"/>\n",
       "<text text-anchor=\"middle\" x=\"1008.5\" y=\"-1750\" font-family=\"monospace\" font-size=\"10.00\">AccumulateGrad</text>\n",
       "</g>\n",
       "<!-- 1957151469520&#45;&gt;1957151469184 -->\n",
       "<g id=\"edge45\" class=\"edge\">\n",
       "<title>1957151469520&#45;&gt;1957151469184</title>\n",
       "<path fill=\"none\" stroke=\"black\" d=\"M986.33,-1742.62C962.1,-1732.91 923.05,-1717.26 895.28,-1706.14\"/>\n",
       "<polygon fill=\"black\" stroke=\"black\" points=\"896.87,-1703 886.29,-1702.53 894.27,-1709.5 896.87,-1703\"/>\n",
       "</g>\n",
       "<!-- 1956247713984 -->\n",
       "<g id=\"node48\" class=\"node\">\n",
       "<title>1956247713984</title>\n",
       "<polygon fill=\"lightblue\" stroke=\"black\" points=\"1110,-1828 961,-1828 961,-1798 1110,-1798 1110,-1828\"/>\n",
       "<text text-anchor=\"middle\" x=\"1035.5\" y=\"-1816\" font-family=\"monospace\" font-size=\"10.00\">encoder.encoder.7.bias</text>\n",
       "<text text-anchor=\"middle\" x=\"1035.5\" y=\"-1805\" font-family=\"monospace\" font-size=\"10.00\"> (64)</text>\n",
       "</g>\n",
       "<!-- 1956247713984&#45;&gt;1957151469520 -->\n",
       "<g id=\"edge46\" class=\"edge\">\n",
       "<title>1956247713984&#45;&gt;1957151469520</title>\n",
       "<path fill=\"none\" stroke=\"black\" d=\"M1028.83,-1797.54C1025.34,-1790 1021.04,-1780.67 1017.29,-1772.55\"/>\n",
       "<polygon fill=\"black\" stroke=\"black\" points=\"1020.51,-1771.16 1013.14,-1763.55 1014.15,-1774.1 1020.51,-1771.16\"/>\n",
       "</g>\n",
       "<!-- 1957151468608 -->\n",
       "<g id=\"node49\" class=\"node\">\n",
       "<title>1957151468608</title>\n",
       "<polygon fill=\"lightgrey\" stroke=\"black\" points=\"654,-1569.5 583,-1569.5 583,-1550.5 654,-1550.5 654,-1569.5\"/>\n",
       "<text text-anchor=\"middle\" x=\"618.5\" y=\"-1557.5\" font-family=\"monospace\" font-size=\"10.00\">TBackward</text>\n",
       "</g>\n",
       "<!-- 1957151468608&#45;&gt;1957901942544 -->\n",
       "<g id=\"edge47\" class=\"edge\">\n",
       "<title>1957151468608&#45;&gt;1957901942544</title>\n",
       "<path fill=\"none\" stroke=\"black\" d=\"M618.5,-1550.1C618.5,-1541.12 618.5,-1526.95 618.5,-1515.22\"/>\n",
       "<polygon fill=\"black\" stroke=\"black\" points=\"622,-1515.34 618.5,-1505.34 615,-1515.34 622,-1515.34\"/>\n",
       "</g>\n",
       "<!-- 1957151469088 -->\n",
       "<g id=\"node50\" class=\"node\">\n",
       "<title>1957151469088</title>\n",
       "<polygon fill=\"lightgrey\" stroke=\"black\" points=\"627,-1635.5 526,-1635.5 526,-1616.5 627,-1616.5 627,-1635.5\"/>\n",
       "<text text-anchor=\"middle\" x=\"576.5\" y=\"-1623.5\" font-family=\"monospace\" font-size=\"10.00\">AccumulateGrad</text>\n",
       "</g>\n",
       "<!-- 1957151469088&#45;&gt;1957151468608 -->\n",
       "<g id=\"edge48\" class=\"edge\">\n",
       "<title>1957151469088&#45;&gt;1957151468608</title>\n",
       "<path fill=\"none\" stroke=\"black\" d=\"M582.34,-1616.1C588.55,-1606.64 598.53,-1591.42 606.44,-1579.37\"/>\n",
       "<polygon fill=\"black\" stroke=\"black\" points=\"609.32,-1581.37 611.88,-1571.09 603.47,-1577.53 609.32,-1581.37\"/>\n",
       "</g>\n",
       "<!-- 1956247271296 -->\n",
       "<g id=\"node51\" class=\"node\">\n",
       "<title>1956247271296</title>\n",
       "<polygon fill=\"lightblue\" stroke=\"black\" points=\"660,-1707 493,-1707 493,-1677 660,-1677 660,-1707\"/>\n",
       "<text text-anchor=\"middle\" x=\"576.5\" y=\"-1695\" font-family=\"monospace\" font-size=\"10.00\">encoder.encoder.10.weight</text>\n",
       "<text text-anchor=\"middle\" x=\"576.5\" y=\"-1684\" font-family=\"monospace\" font-size=\"10.00\"> (625, 9216)</text>\n",
       "</g>\n",
       "<!-- 1956247271296&#45;&gt;1957151469088 -->\n",
       "<g id=\"edge49\" class=\"edge\">\n",
       "<title>1956247271296&#45;&gt;1957151469088</title>\n",
       "<path fill=\"none\" stroke=\"black\" d=\"M576.5,-1676.8C576.5,-1668.09 576.5,-1656.81 576.5,-1647.18\"/>\n",
       "<polygon fill=\"black\" stroke=\"black\" points=\"580,-1647.36 576.5,-1637.36 573,-1647.36 580,-1647.36\"/>\n",
       "</g>\n",
       "<!-- 1957901939664 -->\n",
       "<g id=\"node52\" class=\"node\">\n",
       "<title>1957901939664</title>\n",
       "<polygon fill=\"lightgrey\" stroke=\"black\" points=\"390,-1503.5 289,-1503.5 289,-1484.5 390,-1484.5 390,-1503.5\"/>\n",
       "<text text-anchor=\"middle\" x=\"339.5\" y=\"-1491.5\" font-family=\"monospace\" font-size=\"10.00\">AccumulateGrad</text>\n",
       "</g>\n",
       "<!-- 1957901939664&#45;&gt;1957901942352 -->\n",
       "<g id=\"edge50\" class=\"edge\">\n",
       "<title>1957901939664&#45;&gt;1957901942352</title>\n",
       "<path fill=\"none\" stroke=\"black\" d=\"M364.53,-1484.1C395.47,-1473.1 448.36,-1454.3 483.62,-1441.76\"/>\n",
       "<polygon fill=\"black\" stroke=\"black\" points=\"484.72,-1445.08 492.97,-1438.43 482.37,-1438.49 484.72,-1445.08\"/>\n",
       "</g>\n",
       "<!-- 1956247270784 -->\n",
       "<g id=\"node53\" class=\"node\">\n",
       "<title>1956247270784</title>\n",
       "<polygon fill=\"lightblue\" stroke=\"black\" points=\"392,-1575 225,-1575 225,-1545 392,-1545 392,-1575\"/>\n",
       "<text text-anchor=\"middle\" x=\"308.5\" y=\"-1563\" font-family=\"monospace\" font-size=\"10.00\">encoder.encoder.11.weight</text>\n",
       "<text text-anchor=\"middle\" x=\"308.5\" y=\"-1552\" font-family=\"monospace\" font-size=\"10.00\"> (625)</text>\n",
       "</g>\n",
       "<!-- 1956247270784&#45;&gt;1957901939664 -->\n",
       "<g id=\"edge51\" class=\"edge\">\n",
       "<title>1956247270784&#45;&gt;1957901939664</title>\n",
       "<path fill=\"none\" stroke=\"black\" d=\"M315.38,-1544.8C319.79,-1535.7 325.56,-1523.79 330.35,-1513.9\"/>\n",
       "<polygon fill=\"black\" stroke=\"black\" points=\"333.35,-1515.73 334.56,-1505.21 327.05,-1512.68 333.35,-1515.73\"/>\n",
       "</g>\n",
       "<!-- 1957151468464 -->\n",
       "<g id=\"node54\" class=\"node\">\n",
       "<title>1957151468464</title>\n",
       "<polygon fill=\"lightgrey\" stroke=\"black\" points=\"546,-1503.5 445,-1503.5 445,-1484.5 546,-1484.5 546,-1503.5\"/>\n",
       "<text text-anchor=\"middle\" x=\"495.5\" y=\"-1491.5\" font-family=\"monospace\" font-size=\"10.00\">AccumulateGrad</text>\n",
       "</g>\n",
       "<!-- 1957151468464&#45;&gt;1957901942352 -->\n",
       "<g id=\"edge52\" class=\"edge\">\n",
       "<title>1957151468464&#45;&gt;1957901942352</title>\n",
       "<path fill=\"none\" stroke=\"black\" d=\"M498.84,-1484.1C502.28,-1474.93 507.75,-1460.34 512.2,-1448.48\"/>\n",
       "<polygon fill=\"black\" stroke=\"black\" points=\"515.43,-1449.83 515.66,-1439.24 508.87,-1447.37 515.43,-1449.83\"/>\n",
       "</g>\n",
       "<!-- 1956247714304 -->\n",
       "<g id=\"node55\" class=\"node\">\n",
       "<title>1956247714304</title>\n",
       "<polygon fill=\"lightblue\" stroke=\"black\" points=\"565,-1575 410,-1575 410,-1545 565,-1545 565,-1575\"/>\n",
       "<text text-anchor=\"middle\" x=\"487.5\" y=\"-1563\" font-family=\"monospace\" font-size=\"10.00\">encoder.encoder.11.bias</text>\n",
       "<text text-anchor=\"middle\" x=\"487.5\" y=\"-1552\" font-family=\"monospace\" font-size=\"10.00\"> (625)</text>\n",
       "</g>\n",
       "<!-- 1956247714304&#45;&gt;1957151468464 -->\n",
       "<g id=\"edge53\" class=\"edge\">\n",
       "<title>1956247714304&#45;&gt;1957151468464</title>\n",
       "<path fill=\"none\" stroke=\"black\" d=\"M489.28,-1544.8C490.36,-1536.09 491.77,-1524.81 492.98,-1515.18\"/>\n",
       "<polygon fill=\"black\" stroke=\"black\" points=\"496.44,-1515.7 494.21,-1505.35 489.49,-1514.83 496.44,-1515.7\"/>\n",
       "</g>\n",
       "<!-- 1957917444224 -->\n",
       "<g id=\"node56\" class=\"node\">\n",
       "<title>1957917444224</title>\n",
       "<polygon fill=\"lightgrey\" stroke=\"black\" points=\"754,-1371.5 683,-1371.5 683,-1352.5 754,-1352.5 754,-1371.5\"/>\n",
       "<text text-anchor=\"middle\" x=\"718.5\" y=\"-1359.5\" font-family=\"monospace\" font-size=\"10.00\">TBackward</text>\n",
       "</g>\n",
       "<!-- 1957917444224&#45;&gt;1957917445328 -->\n",
       "<g id=\"edge54\" class=\"edge\">\n",
       "<title>1957917444224&#45;&gt;1957917445328</title>\n",
       "<path fill=\"none\" stroke=\"black\" d=\"M718.5,-1352.1C718.5,-1343.12 718.5,-1328.95 718.5,-1317.22\"/>\n",
       "<polygon fill=\"black\" stroke=\"black\" points=\"722,-1317.34 718.5,-1307.34 715,-1317.34 722,-1317.34\"/>\n",
       "</g>\n",
       "<!-- 1957901939280 -->\n",
       "<g id=\"node57\" class=\"node\">\n",
       "<title>1957901939280</title>\n",
       "<polygon fill=\"lightgrey\" stroke=\"black\" points=\"769,-1437.5 668,-1437.5 668,-1418.5 769,-1418.5 769,-1437.5\"/>\n",
       "<text text-anchor=\"middle\" x=\"718.5\" y=\"-1425.5\" font-family=\"monospace\" font-size=\"10.00\">AccumulateGrad</text>\n",
       "</g>\n",
       "<!-- 1957901939280&#45;&gt;1957917444224 -->\n",
       "<g id=\"edge55\" class=\"edge\">\n",
       "<title>1957901939280&#45;&gt;1957917444224</title>\n",
       "<path fill=\"none\" stroke=\"black\" d=\"M718.5,-1418.1C718.5,-1409.12 718.5,-1394.95 718.5,-1383.22\"/>\n",
       "<polygon fill=\"black\" stroke=\"black\" points=\"722,-1383.34 718.5,-1373.34 715,-1383.34 722,-1383.34\"/>\n",
       "</g>\n",
       "<!-- 1956247714688 -->\n",
       "<g id=\"node58\" class=\"node\">\n",
       "<title>1956247714688</title>\n",
       "<polygon fill=\"lightblue\" stroke=\"black\" points=\"851,-1509 684,-1509 684,-1479 851,-1479 851,-1509\"/>\n",
       "<text text-anchor=\"middle\" x=\"767.5\" y=\"-1497\" font-family=\"monospace\" font-size=\"10.00\">encoder.encoder.13.weight</text>\n",
       "<text text-anchor=\"middle\" x=\"767.5\" y=\"-1486\" font-family=\"monospace\" font-size=\"10.00\"> (4, 625)</text>\n",
       "</g>\n",
       "<!-- 1956247714688&#45;&gt;1957901939280 -->\n",
       "<g id=\"edge56\" class=\"edge\">\n",
       "<title>1956247714688&#45;&gt;1957901939280</title>\n",
       "<path fill=\"none\" stroke=\"black\" d=\"M756.63,-1478.8C749.44,-1469.41 739.95,-1457.02 732.24,-1446.95\"/>\n",
       "<polygon fill=\"black\" stroke=\"black\" points=\"735.05,-1444.86 726.19,-1439.05 729.49,-1449.11 735.05,-1444.86\"/>\n",
       "</g>\n",
       "<!-- 1954292790784&#45;&gt;1956248140992 -->\n",
       "<g id=\"edge59\" class=\"edge\">\n",
       "<title>1954292790784&#45;&gt;1956248140992</title>\n",
       "<path fill=\"none\" stroke=\"black\" stroke-dasharray=\"1,5\" d=\"M770.5,-1213.75C770.5,-1206.6 770.5,-1197.8 770.5,-1189.58\"/>\n",
       "<polygon fill=\"black\" stroke=\"black\" points=\"774,-1189.7 770.5,-1179.7 767,-1189.7 774,-1189.7\"/>\n",
       "</g>\n",
       "<!-- 1956248827584 -->\n",
       "<g id=\"node60\" class=\"node\">\n",
       "<title>1956248827584</title>\n",
       "<polygon fill=\"#caff70\" stroke=\"black\" points=\"538,-31 431,-31 431,0 538,0 538,-31\"/>\n",
       "<text text-anchor=\"middle\" x=\"484.5\" y=\"-7\" font-family=\"monospace\" font-size=\"10.00\"> (2, 1, 28, 28)</text>\n",
       "</g>\n",
       "<!-- 1957917442160 -->\n",
       "<g id=\"node61\" class=\"node\">\n",
       "<title>1957917442160</title>\n",
       "<polygon fill=\"lightgrey\" stroke=\"black\" points=\"538,-86 431,-86 431,-67 538,-67 538,-86\"/>\n",
       "<text text-anchor=\"middle\" x=\"484.5\" y=\"-74\" font-family=\"monospace\" font-size=\"10.00\">SigmoidBackward</text>\n",
       "</g>\n",
       "<!-- 1957917442160&#45;&gt;1956248827584 -->\n",
       "<g id=\"edge117\" class=\"edge\">\n",
       "<title>1957917442160&#45;&gt;1956248827584</title>\n",
       "<path fill=\"none\" stroke=\"black\" d=\"M484.5,-66.54C484.5,-60.07 484.5,-50.98 484.5,-42.32\"/>\n",
       "<polygon fill=\"black\" stroke=\"black\" points=\"488,-42.58 484.5,-32.58 481,-42.58 488,-42.58\"/>\n",
       "</g>\n",
       "<!-- 1957917444032 -->\n",
       "<g id=\"node62\" class=\"node\">\n",
       "<title>1957917444032</title>\n",
       "<polygon fill=\"lightgrey\" stroke=\"black\" points=\"529,-141 440,-141 440,-122 529,-122 529,-141\"/>\n",
       "<text text-anchor=\"middle\" x=\"484.5\" y=\"-129\" font-family=\"monospace\" font-size=\"10.00\">AddBackward0</text>\n",
       "</g>\n",
       "<!-- 1957917444032&#45;&gt;1957917442160 -->\n",
       "<g id=\"edge60\" class=\"edge\">\n",
       "<title>1957917444032&#45;&gt;1957917442160</title>\n",
       "<path fill=\"none\" stroke=\"black\" d=\"M484.5,-121.75C484.5,-115.27 484.5,-106.16 484.5,-97.9\"/>\n",
       "<polygon fill=\"black\" stroke=\"black\" points=\"488,-97.96 484.5,-87.96 481,-97.96 488,-97.96\"/>\n",
       "</g>\n",
       "<!-- 1957151468944 -->\n",
       "<g id=\"node63\" class=\"node\">\n",
       "<title>1957151468944</title>\n",
       "<polygon fill=\"lightgrey\" stroke=\"black\" points=\"677,-196 462,-196 462,-177 677,-177 677,-196\"/>\n",
       "<text text-anchor=\"middle\" x=\"569.5\" y=\"-184\" font-family=\"monospace\" font-size=\"10.00\">CudnnConvolutionTransposeBackward</text>\n",
       "</g>\n",
       "<!-- 1957151468944&#45;&gt;1957917444032 -->\n",
       "<g id=\"edge61\" class=\"edge\">\n",
       "<title>1957151468944&#45;&gt;1957917444032</title>\n",
       "<path fill=\"none\" stroke=\"black\" d=\"M555.08,-176.51C542.3,-168.54 523.4,-156.75 508.37,-147.38\"/>\n",
       "<polygon fill=\"black\" stroke=\"black\" points=\"510.33,-144.48 499.99,-142.16 506.62,-150.42 510.33,-144.48\"/>\n",
       "</g>\n",
       "<!-- 1957151467264 -->\n",
       "<g id=\"node64\" class=\"node\">\n",
       "<title>1957151467264</title>\n",
       "<polygon fill=\"lightgrey\" stroke=\"black\" points=\"606,-251 517,-251 517,-232 606,-232 606,-251\"/>\n",
       "<text text-anchor=\"middle\" x=\"561.5\" y=\"-239\" font-family=\"monospace\" font-size=\"10.00\">SiluBackward</text>\n",
       "</g>\n",
       "<!-- 1957151467264&#45;&gt;1957151468944 -->\n",
       "<g id=\"edge62\" class=\"edge\">\n",
       "<title>1957151467264&#45;&gt;1957151468944</title>\n",
       "<path fill=\"none\" stroke=\"black\" d=\"M562.82,-231.75C563.81,-225.19 565.21,-215.95 566.47,-207.6\"/>\n",
       "<polygon fill=\"black\" stroke=\"black\" points=\"569.89,-208.35 567.92,-197.94 562.97,-207.3 569.89,-208.35\"/>\n",
       "</g>\n",
       "<!-- 1957151467360 -->\n",
       "<g id=\"node65\" class=\"node\">\n",
       "<title>1957151467360</title>\n",
       "<polygon fill=\"lightgrey\" stroke=\"black\" points=\"599,-311.5 510,-311.5 510,-292.5 599,-292.5 599,-311.5\"/>\n",
       "<text text-anchor=\"middle\" x=\"554.5\" y=\"-299.5\" font-family=\"monospace\" font-size=\"10.00\">AddBackward0</text>\n",
       "</g>\n",
       "<!-- 1957151467360&#45;&gt;1957151467264 -->\n",
       "<g id=\"edge63\" class=\"edge\">\n",
       "<title>1957151467360&#45;&gt;1957151467264</title>\n",
       "<path fill=\"none\" stroke=\"black\" d=\"M555.53,-292.37C556.47,-284.5 557.9,-272.6 559.12,-262.39\"/>\n",
       "<polygon fill=\"black\" stroke=\"black\" points=\"562.57,-263.02 560.28,-252.67 555.62,-262.18 562.57,-263.02\"/>\n",
       "</g>\n",
       "<!-- 1956924544480 -->\n",
       "<g id=\"node66\" class=\"node\">\n",
       "<title>1956924544480</title>\n",
       "<polygon fill=\"lightgrey\" stroke=\"black\" points=\"747,-372 532,-372 532,-353 747,-353 747,-372\"/>\n",
       "<text text-anchor=\"middle\" x=\"639.5\" y=\"-360\" font-family=\"monospace\" font-size=\"10.00\">CudnnConvolutionTransposeBackward</text>\n",
       "</g>\n",
       "<!-- 1956924544480&#45;&gt;1957151467360 -->\n",
       "<g id=\"edge64\" class=\"edge\">\n",
       "<title>1956924544480&#45;&gt;1957151467360</title>\n",
       "<path fill=\"none\" stroke=\"black\" d=\"M626.59,-352.62C613.36,-343.51 592.53,-329.18 576.66,-318.25\"/>\n",
       "<polygon fill=\"black\" stroke=\"black\" points=\"579,-315.61 568.78,-312.83 575.03,-321.38 579,-315.61\"/>\n",
       "</g>\n",
       "<!-- 1956924544576 -->\n",
       "<g id=\"node67\" class=\"node\">\n",
       "<title>1956924544576</title>\n",
       "<polygon fill=\"lightgrey\" stroke=\"black\" points=\"676,-427 587,-427 587,-408 676,-408 676,-427\"/>\n",
       "<text text-anchor=\"middle\" x=\"631.5\" y=\"-415\" font-family=\"monospace\" font-size=\"10.00\">SiluBackward</text>\n",
       "</g>\n",
       "<!-- 1956924544576&#45;&gt;1956924544480 -->\n",
       "<g id=\"edge65\" class=\"edge\">\n",
       "<title>1956924544576&#45;&gt;1956924544480</title>\n",
       "<path fill=\"none\" stroke=\"black\" d=\"M632.82,-407.75C633.81,-401.19 635.21,-391.95 636.47,-383.6\"/>\n",
       "<polygon fill=\"black\" stroke=\"black\" points=\"639.89,-384.35 637.92,-373.94 632.97,-383.3 639.89,-384.35\"/>\n",
       "</g>\n",
       "<!-- 1957151485232 -->\n",
       "<g id=\"node68\" class=\"node\">\n",
       "<title>1957151485232</title>\n",
       "<polygon fill=\"lightgrey\" stroke=\"black\" points=\"669,-487.5 580,-487.5 580,-468.5 669,-468.5 669,-487.5\"/>\n",
       "<text text-anchor=\"middle\" x=\"624.5\" y=\"-475.5\" font-family=\"monospace\" font-size=\"10.00\">AddBackward0</text>\n",
       "</g>\n",
       "<!-- 1957151485232&#45;&gt;1956924544576 -->\n",
       "<g id=\"edge66\" class=\"edge\">\n",
       "<title>1957151485232&#45;&gt;1956924544576</title>\n",
       "<path fill=\"none\" stroke=\"black\" d=\"M625.53,-468.37C626.47,-460.5 627.9,-448.6 629.12,-438.39\"/>\n",
       "<polygon fill=\"black\" stroke=\"black\" points=\"632.57,-439.02 630.28,-428.67 625.62,-438.18 632.57,-439.02\"/>\n",
       "</g>\n",
       "<!-- 1957151484128 -->\n",
       "<g id=\"node69\" class=\"node\">\n",
       "<title>1957151484128</title>\n",
       "<polygon fill=\"lightgrey\" stroke=\"black\" points=\"647,-554 432,-554 432,-535 647,-535 647,-554\"/>\n",
       "<text text-anchor=\"middle\" x=\"539.5\" y=\"-542\" font-family=\"monospace\" font-size=\"10.00\">CudnnConvolutionTransposeBackward</text>\n",
       "</g>\n",
       "<!-- 1957151484128&#45;&gt;1957151485232 -->\n",
       "<g id=\"edge67\" class=\"edge\">\n",
       "<title>1957151484128&#45;&gt;1957151485232</title>\n",
       "<path fill=\"none\" stroke=\"black\" d=\"M551.32,-534.53C564.89,-524.23 587.41,-507.14 603.89,-494.64\"/>\n",
       "<polygon fill=\"black\" stroke=\"black\" points=\"605.73,-497.64 611.58,-488.81 601.49,-492.06 605.73,-497.64\"/>\n",
       "</g>\n",
       "<!-- 1957151485760 -->\n",
       "<g id=\"node70\" class=\"node\">\n",
       "<title>1957151485760</title>\n",
       "<polygon fill=\"lightgrey\" stroke=\"black\" points=\"593,-621 504,-621 504,-602 593,-602 593,-621\"/>\n",
       "<text text-anchor=\"middle\" x=\"548.5\" y=\"-609\" font-family=\"monospace\" font-size=\"10.00\">SiluBackward</text>\n",
       "</g>\n",
       "<!-- 1957151485760&#45;&gt;1957151484128 -->\n",
       "<g id=\"edge68\" class=\"edge\">\n",
       "<title>1957151485760&#45;&gt;1957151484128</title>\n",
       "<path fill=\"none\" stroke=\"black\" d=\"M547.29,-601.73C546,-592.48 543.94,-577.57 542.26,-565.42\"/>\n",
       "<polygon fill=\"black\" stroke=\"black\" points=\"545.74,-565.05 540.9,-555.63 538.81,-566.01 545.74,-565.05\"/>\n",
       "</g>\n",
       "<!-- 1957151485328 -->\n",
       "<g id=\"node71\" class=\"node\">\n",
       "<title>1957151485328</title>\n",
       "<polygon fill=\"lightgrey\" stroke=\"black\" points=\"608,-687.5 519,-687.5 519,-668.5 608,-668.5 608,-687.5\"/>\n",
       "<text text-anchor=\"middle\" x=\"563.5\" y=\"-675.5\" font-family=\"monospace\" font-size=\"10.00\">AddBackward0</text>\n",
       "</g>\n",
       "<!-- 1957151485328&#45;&gt;1957151485760 -->\n",
       "<g id=\"edge69\" class=\"edge\">\n",
       "<title>1957151485328&#45;&gt;1957151485760</title>\n",
       "<path fill=\"none\" stroke=\"black\" d=\"M561.41,-668.03C559.29,-658.89 555.92,-644.39 553.15,-632.5\"/>\n",
       "<polygon fill=\"black\" stroke=\"black\" points=\"556.59,-631.81 550.91,-622.87 549.77,-633.4 556.59,-631.81\"/>\n",
       "</g>\n",
       "<!-- 1957151484032 -->\n",
       "<g id=\"node72\" class=\"node\">\n",
       "<title>1957151484032</title>\n",
       "<polygon fill=\"lightgrey\" stroke=\"black\" points=\"651,-748 436,-748 436,-729 651,-729 651,-748\"/>\n",
       "<text text-anchor=\"middle\" x=\"543.5\" y=\"-736\" font-family=\"monospace\" font-size=\"10.00\">CudnnConvolutionTransposeBackward</text>\n",
       "</g>\n",
       "<!-- 1957151484032&#45;&gt;1957151485328 -->\n",
       "<g id=\"edge70\" class=\"edge\">\n",
       "<title>1957151484032&#45;&gt;1957151485328</title>\n",
       "<path fill=\"none\" stroke=\"black\" d=\"M546.45,-728.87C549.17,-720.92 553.3,-708.83 556.82,-698.55\"/>\n",
       "<polygon fill=\"black\" stroke=\"black\" points=\"560.12,-699.69 560.05,-689.1 553.5,-697.43 560.12,-699.69\"/>\n",
       "</g>\n",
       "<!-- 1957151485184 -->\n",
       "<g id=\"node73\" class=\"node\">\n",
       "<title>1957151485184</title>\n",
       "<polygon fill=\"lightgrey\" stroke=\"black\" points=\"460,-803 371,-803 371,-784 460,-784 460,-803\"/>\n",
       "<text text-anchor=\"middle\" x=\"415.5\" y=\"-791\" font-family=\"monospace\" font-size=\"10.00\">ViewBackward</text>\n",
       "</g>\n",
       "<!-- 1957151485184&#45;&gt;1957151484032 -->\n",
       "<g id=\"edge71\" class=\"edge\">\n",
       "<title>1957151485184&#45;&gt;1957151484032</title>\n",
       "<path fill=\"none\" stroke=\"black\" d=\"M437.21,-783.51C457.66,-775.04 488.52,-762.27 511.73,-752.66\"/>\n",
       "<polygon fill=\"black\" stroke=\"black\" points=\"512.81,-756 520.71,-748.94 510.13,-749.53 512.81,-756\"/>\n",
       "</g>\n",
       "<!-- 1957151483984 -->\n",
       "<g id=\"node74\" class=\"node\">\n",
       "<title>1957151483984</title>\n",
       "<polygon fill=\"lightgrey\" stroke=\"black\" points=\"445,-863.5 356,-863.5 356,-844.5 445,-844.5 445,-863.5\"/>\n",
       "<text text-anchor=\"middle\" x=\"400.5\" y=\"-851.5\" font-family=\"monospace\" font-size=\"10.00\">SiluBackward</text>\n",
       "</g>\n",
       "<!-- 1957151483984&#45;&gt;1957151485184 -->\n",
       "<g id=\"edge72\" class=\"edge\">\n",
       "<title>1957151483984&#45;&gt;1957151485184</title>\n",
       "<path fill=\"none\" stroke=\"black\" d=\"M402.71,-844.37C404.75,-836.42 407.85,-824.33 410.49,-814.05\"/>\n",
       "<polygon fill=\"black\" stroke=\"black\" points=\"413.81,-815.19 412.9,-804.63 407.03,-813.45 413.81,-815.19\"/>\n",
       "</g>\n",
       "<!-- 1957151484080 -->\n",
       "<g id=\"node75\" class=\"node\">\n",
       "<title>1957151484080</title>\n",
       "<polygon fill=\"lightgrey\" stroke=\"black\" points=\"475,-924 326,-924 326,-905 475,-905 475,-924\"/>\n",
       "<text text-anchor=\"middle\" x=\"400.5\" y=\"-912\" font-family=\"monospace\" font-size=\"10.00\">CudnnBatchNormBackward</text>\n",
       "</g>\n",
       "<!-- 1957151484080&#45;&gt;1957151483984 -->\n",
       "<g id=\"edge73\" class=\"edge\">\n",
       "<title>1957151484080&#45;&gt;1957151483984</title>\n",
       "<path fill=\"none\" stroke=\"black\" d=\"M400.5,-904.87C400.5,-897 400.5,-885.1 400.5,-874.89\"/>\n",
       "<polygon fill=\"black\" stroke=\"black\" points=\"404,-875.18 400.5,-865.18 397,-875.18 404,-875.18\"/>\n",
       "</g>\n",
       "<!-- 1957151483360 -->\n",
       "<g id=\"node76\" class=\"node\">\n",
       "<title>1957151483360</title>\n",
       "<polygon fill=\"lightgrey\" stroke=\"black\" points=\"448,-979 353,-979 353,-960 448,-960 448,-979\"/>\n",
       "<text text-anchor=\"middle\" x=\"400.5\" y=\"-967\" font-family=\"monospace\" font-size=\"10.00\">AddmmBackward</text>\n",
       "</g>\n",
       "<!-- 1957151483360&#45;&gt;1957151484080 -->\n",
       "<g id=\"edge74\" class=\"edge\">\n",
       "<title>1957151483360&#45;&gt;1957151484080</title>\n",
       "<path fill=\"none\" stroke=\"black\" d=\"M400.5,-959.75C400.5,-953.27 400.5,-944.16 400.5,-935.9\"/>\n",
       "<polygon fill=\"black\" stroke=\"black\" points=\"404,-935.96 400.5,-925.96 397,-935.96 404,-935.96\"/>\n",
       "</g>\n",
       "<!-- 1957151483024 -->\n",
       "<g id=\"node77\" class=\"node\">\n",
       "<title>1957151483024</title>\n",
       "<polygon fill=\"lightgrey\" stroke=\"black\" points=\"451,-1039.5 350,-1039.5 350,-1020.5 451,-1020.5 451,-1039.5\"/>\n",
       "<text text-anchor=\"middle\" x=\"400.5\" y=\"-1027.5\" font-family=\"monospace\" font-size=\"10.00\">AccumulateGrad</text>\n",
       "</g>\n",
       "<!-- 1957151483024&#45;&gt;1957151483360 -->\n",
       "<g id=\"edge75\" class=\"edge\">\n",
       "<title>1957151483024&#45;&gt;1957151483360</title>\n",
       "<path fill=\"none\" stroke=\"black\" d=\"M400.5,-1020.37C400.5,-1012.5 400.5,-1000.6 400.5,-990.39\"/>\n",
       "<polygon fill=\"black\" stroke=\"black\" points=\"404,-990.68 400.5,-980.68 397,-990.68 404,-990.68\"/>\n",
       "</g>\n",
       "<!-- 1956247798400 -->\n",
       "<g id=\"node78\" class=\"node\">\n",
       "<title>1956247798400</title>\n",
       "<polygon fill=\"lightblue\" stroke=\"black\" points=\"475,-1111 326,-1111 326,-1081 475,-1081 475,-1111\"/>\n",
       "<text text-anchor=\"middle\" x=\"400.5\" y=\"-1099\" font-family=\"monospace\" font-size=\"10.00\">decoder.decoder.3.bias</text>\n",
       "<text text-anchor=\"middle\" x=\"400.5\" y=\"-1088\" font-family=\"monospace\" font-size=\"10.00\"> (9216)</text>\n",
       "</g>\n",
       "<!-- 1956247798400&#45;&gt;1957151483024 -->\n",
       "<g id=\"edge76\" class=\"edge\">\n",
       "<title>1956247798400&#45;&gt;1957151483024</title>\n",
       "<path fill=\"none\" stroke=\"black\" d=\"M400.5,-1080.8C400.5,-1072.09 400.5,-1060.81 400.5,-1051.18\"/>\n",
       "<polygon fill=\"black\" stroke=\"black\" points=\"404,-1051.36 400.5,-1041.36 397,-1051.36 404,-1051.36\"/>\n",
       "</g>\n",
       "<!-- 1957151484368 -->\n",
       "<g id=\"node79\" class=\"node\">\n",
       "<title>1957151484368</title>\n",
       "<polygon fill=\"lightgrey\" stroke=\"black\" points=\"332,-1039.5 243,-1039.5 243,-1020.5 332,-1020.5 332,-1039.5\"/>\n",
       "<text text-anchor=\"middle\" x=\"287.5\" y=\"-1027.5\" font-family=\"monospace\" font-size=\"10.00\">SiluBackward</text>\n",
       "</g>\n",
       "<!-- 1957151484368&#45;&gt;1957151483360 -->\n",
       "<g id=\"edge77\" class=\"edge\">\n",
       "<title>1957151484368&#45;&gt;1957151483360</title>\n",
       "<path fill=\"none\" stroke=\"black\" d=\"M304.66,-1020.12C322.83,-1010.71 351.78,-995.72 373.11,-984.68\"/>\n",
       "<polygon fill=\"black\" stroke=\"black\" points=\"374.56,-987.87 381.83,-980.16 371.34,-981.65 374.56,-987.87\"/>\n",
       "</g>\n",
       "<!-- 1957151485664 -->\n",
       "<g id=\"node80\" class=\"node\">\n",
       "<title>1957151485664</title>\n",
       "<polygon fill=\"lightgrey\" stroke=\"black\" points=\"308,-1105.5 159,-1105.5 159,-1086.5 308,-1086.5 308,-1105.5\"/>\n",
       "<text text-anchor=\"middle\" x=\"233.5\" y=\"-1093.5\" font-family=\"monospace\" font-size=\"10.00\">CudnnBatchNormBackward</text>\n",
       "</g>\n",
       "<!-- 1957151485664&#45;&gt;1957151484368 -->\n",
       "<g id=\"edge78\" class=\"edge\">\n",
       "<title>1957151485664&#45;&gt;1957151484368</title>\n",
       "<path fill=\"none\" stroke=\"black\" d=\"M241.01,-1086.1C249.23,-1076.36 262.61,-1060.5 272.92,-1048.29\"/>\n",
       "<polygon fill=\"black\" stroke=\"black\" points=\"275.31,-1050.88 279.08,-1040.98 269.96,-1046.37 275.31,-1050.88\"/>\n",
       "</g>\n",
       "<!-- 1957151482352&#45;&gt;1957151485664 -->\n",
       "<g id=\"edge79\" class=\"edge\">\n",
       "<title>1957151482352&#45;&gt;1957151485664</title>\n",
       "<path fill=\"none\" stroke=\"black\" d=\"M365.23,-1152.53C339.19,-1141.56 294.89,-1122.88 264.92,-1110.25\"/>\n",
       "<polygon fill=\"black\" stroke=\"black\" points=\"266.56,-1107.14 255.99,-1106.48 263.84,-1113.59 266.56,-1107.14\"/>\n",
       "</g>\n",
       "<!-- 1957151483216 -->\n",
       "<g id=\"node82\" class=\"node\">\n",
       "<title>1957151483216</title>\n",
       "<polygon fill=\"lightgrey\" stroke=\"black\" points=\"550,-1239 449,-1239 449,-1220 550,-1220 550,-1239\"/>\n",
       "<text text-anchor=\"middle\" x=\"499.5\" y=\"-1227\" font-family=\"monospace\" font-size=\"10.00\">AccumulateGrad</text>\n",
       "</g>\n",
       "<!-- 1957151483216&#45;&gt;1957151482352 -->\n",
       "<g id=\"edge80\" class=\"edge\">\n",
       "<title>1957151483216&#45;&gt;1957151482352</title>\n",
       "<path fill=\"none\" stroke=\"black\" d=\"M484.26,-1219.73C465.64,-1209.02 433.88,-1190.75 411.63,-1177.95\"/>\n",
       "<polygon fill=\"black\" stroke=\"black\" points=\"413.58,-1175.04 403.17,-1173.09 410.09,-1181.11 413.58,-1175.04\"/>\n",
       "</g>\n",
       "<!-- 1956247715776 -->\n",
       "<g id=\"node83\" class=\"node\">\n",
       "<title>1956247715776</title>\n",
       "<polygon fill=\"lightblue\" stroke=\"black\" points=\"586,-1311 437,-1311 437,-1281 586,-1281 586,-1311\"/>\n",
       "<text text-anchor=\"middle\" x=\"511.5\" y=\"-1299\" font-family=\"monospace\" font-size=\"10.00\">decoder.decoder.0.bias</text>\n",
       "<text text-anchor=\"middle\" x=\"511.5\" y=\"-1288\" font-family=\"monospace\" font-size=\"10.00\"> (625)</text>\n",
       "</g>\n",
       "<!-- 1956247715776&#45;&gt;1957151483216 -->\n",
       "<g id=\"edge81\" class=\"edge\">\n",
       "<title>1956247715776&#45;&gt;1957151483216</title>\n",
       "<path fill=\"none\" stroke=\"black\" d=\"M508.84,-1280.69C507.19,-1271.81 505.04,-1260.28 503.22,-1250.52\"/>\n",
       "<polygon fill=\"black\" stroke=\"black\" points=\"506.71,-1250.09 501.44,-1240.9 499.82,-1251.37 506.71,-1250.09\"/>\n",
       "</g>\n",
       "<!-- 1957151482736 -->\n",
       "<g id=\"node84\" class=\"node\">\n",
       "<title>1957151482736</title>\n",
       "<polygon fill=\"lightgrey\" stroke=\"black\" points=\"420,-1239 349,-1239 349,-1220 420,-1220 420,-1239\"/>\n",
       "<text text-anchor=\"middle\" x=\"384.5\" y=\"-1227\" font-family=\"monospace\" font-size=\"10.00\">TBackward</text>\n",
       "</g>\n",
       "<!-- 1957151482736&#45;&gt;1957151482352 -->\n",
       "<g id=\"edge83\" class=\"edge\">\n",
       "<title>1957151482736&#45;&gt;1957151482352</title>\n",
       "<path fill=\"none\" stroke=\"black\" d=\"M384.77,-1219.73C385.05,-1210.48 385.51,-1195.57 385.89,-1183.42\"/>\n",
       "<polygon fill=\"black\" stroke=\"black\" points=\"389.38,-1183.74 386.19,-1173.64 382.38,-1183.53 389.38,-1183.74\"/>\n",
       "</g>\n",
       "<!-- 1957151483120 -->\n",
       "<g id=\"node85\" class=\"node\">\n",
       "<title>1957151483120</title>\n",
       "<polygon fill=\"lightgrey\" stroke=\"black\" points=\"419,-1305.5 318,-1305.5 318,-1286.5 419,-1286.5 419,-1305.5\"/>\n",
       "<text text-anchor=\"middle\" x=\"368.5\" y=\"-1293.5\" font-family=\"monospace\" font-size=\"10.00\">AccumulateGrad</text>\n",
       "</g>\n",
       "<!-- 1957151483120&#45;&gt;1957151482736 -->\n",
       "<g id=\"edge84\" class=\"edge\">\n",
       "<title>1957151483120&#45;&gt;1957151482736</title>\n",
       "<path fill=\"none\" stroke=\"black\" d=\"M370.72,-1286.03C372.99,-1276.89 376.59,-1262.39 379.54,-1250.5\"/>\n",
       "<polygon fill=\"black\" stroke=\"black\" points=\"382.92,-1251.41 381.93,-1240.86 376.12,-1249.72 382.92,-1251.41\"/>\n",
       "</g>\n",
       "<!-- 1956247714752 -->\n",
       "<g id=\"node86\" class=\"node\">\n",
       "<title>1956247714752</title>\n",
       "<polygon fill=\"lightblue\" stroke=\"black\" points=\"449,-1377 288,-1377 288,-1347 449,-1347 449,-1377\"/>\n",
       "<text text-anchor=\"middle\" x=\"368.5\" y=\"-1365\" font-family=\"monospace\" font-size=\"10.00\">decoder.decoder.0.weight</text>\n",
       "<text text-anchor=\"middle\" x=\"368.5\" y=\"-1354\" font-family=\"monospace\" font-size=\"10.00\"> (625, 2)</text>\n",
       "</g>\n",
       "<!-- 1956247714752&#45;&gt;1957151483120 -->\n",
       "<g id=\"edge85\" class=\"edge\">\n",
       "<title>1956247714752&#45;&gt;1957151483120</title>\n",
       "<path fill=\"none\" stroke=\"black\" d=\"M368.5,-1346.8C368.5,-1338.09 368.5,-1326.81 368.5,-1317.18\"/>\n",
       "<polygon fill=\"black\" stroke=\"black\" points=\"372,-1317.36 368.5,-1307.36 365,-1317.36 372,-1317.36\"/>\n",
       "</g>\n",
       "<!-- 1957151482832 -->\n",
       "<g id=\"node87\" class=\"node\">\n",
       "<title>1957151482832</title>\n",
       "<polygon fill=\"lightgrey\" stroke=\"black\" points=\"154,-1172 53,-1172 53,-1153 154,-1153 154,-1172\"/>\n",
       "<text text-anchor=\"middle\" x=\"103.5\" y=\"-1160\" font-family=\"monospace\" font-size=\"10.00\">AccumulateGrad</text>\n",
       "</g>\n",
       "<!-- 1957151482832&#45;&gt;1957151485664 -->\n",
       "<g id=\"edge86\" class=\"edge\">\n",
       "<title>1957151482832&#45;&gt;1957151485664</title>\n",
       "<path fill=\"none\" stroke=\"black\" d=\"M121.58,-1152.53C143.31,-1141.75 180.03,-1123.53 205.45,-1110.92\"/>\n",
       "<polygon fill=\"black\" stroke=\"black\" points=\"206.82,-1114.14 214.22,-1106.56 203.71,-1107.87 206.82,-1114.14\"/>\n",
       "</g>\n",
       "<!-- 1956247797824 -->\n",
       "<g id=\"node88\" class=\"node\">\n",
       "<title>1956247797824</title>\n",
       "<polygon fill=\"lightblue\" stroke=\"black\" points=\"161,-1244.5 0,-1244.5 0,-1214.5 161,-1214.5 161,-1244.5\"/>\n",
       "<text text-anchor=\"middle\" x=\"80.5\" y=\"-1232.5\" font-family=\"monospace\" font-size=\"10.00\">decoder.decoder.1.weight</text>\n",
       "<text text-anchor=\"middle\" x=\"80.5\" y=\"-1221.5\" font-family=\"monospace\" font-size=\"10.00\"> (625)</text>\n",
       "</g>\n",
       "<!-- 1956247797824&#45;&gt;1957151482832 -->\n",
       "<g id=\"edge87\" class=\"edge\">\n",
       "<title>1956247797824&#45;&gt;1957151482832</title>\n",
       "<path fill=\"none\" stroke=\"black\" d=\"M85.6,-1214.07C88.84,-1204.93 93.06,-1193 96.59,-1183.02\"/>\n",
       "<polygon fill=\"black\" stroke=\"black\" points=\"99.78,-1184.5 99.82,-1173.91 93.18,-1182.17 99.78,-1184.5\"/>\n",
       "</g>\n",
       "<!-- 1957151483888 -->\n",
       "<g id=\"node89\" class=\"node\">\n",
       "<title>1957151483888</title>\n",
       "<polygon fill=\"lightgrey\" stroke=\"black\" points=\"302,-1172 201,-1172 201,-1153 302,-1153 302,-1172\"/>\n",
       "<text text-anchor=\"middle\" x=\"251.5\" y=\"-1160\" font-family=\"monospace\" font-size=\"10.00\">AccumulateGrad</text>\n",
       "</g>\n",
       "<!-- 1957151483888&#45;&gt;1957151485664 -->\n",
       "<g id=\"edge88\" class=\"edge\">\n",
       "<title>1957151483888&#45;&gt;1957151485664</title>\n",
       "<path fill=\"none\" stroke=\"black\" d=\"M249,-1152.53C246.42,-1143.29 242.31,-1128.58 238.98,-1116.63\"/>\n",
       "<polygon fill=\"black\" stroke=\"black\" points=\"242.45,-1116.04 236.39,-1107.35 235.71,-1117.92 242.45,-1116.04\"/>\n",
       "</g>\n",
       "<!-- 1956247797952 -->\n",
       "<g id=\"node90\" class=\"node\">\n",
       "<title>1956247797952</title>\n",
       "<polygon fill=\"lightblue\" stroke=\"black\" points=\"328,-1244.5 179,-1244.5 179,-1214.5 328,-1214.5 328,-1244.5\"/>\n",
       "<text text-anchor=\"middle\" x=\"253.5\" y=\"-1232.5\" font-family=\"monospace\" font-size=\"10.00\">decoder.decoder.1.bias</text>\n",
       "<text text-anchor=\"middle\" x=\"253.5\" y=\"-1221.5\" font-family=\"monospace\" font-size=\"10.00\"> (625)</text>\n",
       "</g>\n",
       "<!-- 1956247797952&#45;&gt;1957151483888 -->\n",
       "<g id=\"edge89\" class=\"edge\">\n",
       "<title>1956247797952&#45;&gt;1957151483888</title>\n",
       "<path fill=\"none\" stroke=\"black\" d=\"M253.06,-1214.07C252.78,-1205.13 252.42,-1193.52 252.12,-1183.67\"/>\n",
       "<polygon fill=\"black\" stroke=\"black\" points=\"255.63,-1183.88 251.82,-1174 248.63,-1184.1 255.63,-1183.88\"/>\n",
       "</g>\n",
       "<!-- 1957151483840 -->\n",
       "<g id=\"node91\" class=\"node\">\n",
       "<title>1957151483840</title>\n",
       "<polygon fill=\"lightgrey\" stroke=\"black\" points=\"540,-1039.5 469,-1039.5 469,-1020.5 540,-1020.5 540,-1039.5\"/>\n",
       "<text text-anchor=\"middle\" x=\"504.5\" y=\"-1027.5\" font-family=\"monospace\" font-size=\"10.00\">TBackward</text>\n",
       "</g>\n",
       "<!-- 1957151483840&#45;&gt;1957151483360 -->\n",
       "<g id=\"edge90\" class=\"edge\">\n",
       "<title>1957151483840&#45;&gt;1957151483360</title>\n",
       "<path fill=\"none\" stroke=\"black\" d=\"M488.7,-1020.12C472.14,-1010.79 445.83,-996 426.25,-984.99\"/>\n",
       "<polygon fill=\"black\" stroke=\"black\" points=\"428.19,-982.06 417.76,-980.21 424.76,-988.16 428.19,-982.06\"/>\n",
       "</g>\n",
       "<!-- 1957151481920 -->\n",
       "<g id=\"node92\" class=\"node\">\n",
       "<title>1957151481920</title>\n",
       "<polygon fill=\"lightgrey\" stroke=\"black\" points=\"594,-1105.5 493,-1105.5 493,-1086.5 594,-1086.5 594,-1105.5\"/>\n",
       "<text text-anchor=\"middle\" x=\"543.5\" y=\"-1093.5\" font-family=\"monospace\" font-size=\"10.00\">AccumulateGrad</text>\n",
       "</g>\n",
       "<!-- 1957151481920&#45;&gt;1957151483840 -->\n",
       "<g id=\"edge91\" class=\"edge\">\n",
       "<title>1957151481920&#45;&gt;1957151483840</title>\n",
       "<path fill=\"none\" stroke=\"black\" d=\"M538.08,-1086.1C532.31,-1076.64 523.04,-1061.42 515.7,-1049.37\"/>\n",
       "<polygon fill=\"black\" stroke=\"black\" points=\"518.86,-1047.83 510.66,-1041.12 512.88,-1051.48 518.86,-1047.83\"/>\n",
       "</g>\n",
       "<!-- 1956247798272 -->\n",
       "<g id=\"node93\" class=\"node\">\n",
       "<title>1956247798272</title>\n",
       "<polygon fill=\"lightblue\" stroke=\"black\" points=\"622,-1177.5 461,-1177.5 461,-1147.5 622,-1147.5 622,-1177.5\"/>\n",
       "<text text-anchor=\"middle\" x=\"541.5\" y=\"-1165.5\" font-family=\"monospace\" font-size=\"10.00\">decoder.decoder.3.weight</text>\n",
       "<text text-anchor=\"middle\" x=\"541.5\" y=\"-1154.5\" font-family=\"monospace\" font-size=\"10.00\"> (9216, 625)</text>\n",
       "</g>\n",
       "<!-- 1956247798272&#45;&gt;1957151481920 -->\n",
       "<g id=\"edge92\" class=\"edge\">\n",
       "<title>1956247798272&#45;&gt;1957151481920</title>\n",
       "<path fill=\"none\" stroke=\"black\" d=\"M541.94,-1147.19C542.22,-1138.41 542.57,-1127.04 542.87,-1117.34\"/>\n",
       "<polygon fill=\"black\" stroke=\"black\" points=\"546.36,-1117.53 543.18,-1107.43 539.37,-1117.31 546.36,-1117.53\"/>\n",
       "</g>\n",
       "<!-- 1957151482256 -->\n",
       "<g id=\"node94\" class=\"node\">\n",
       "<title>1957151482256</title>\n",
       "<polygon fill=\"lightgrey\" stroke=\"black\" points=\"628,-979 527,-979 527,-960 628,-960 628,-979\"/>\n",
       "<text text-anchor=\"middle\" x=\"577.5\" y=\"-967\" font-family=\"monospace\" font-size=\"10.00\">AccumulateGrad</text>\n",
       "</g>\n",
       "<!-- 1957151482256&#45;&gt;1957151484080 -->\n",
       "<g id=\"edge93\" class=\"edge\">\n",
       "<title>1957151482256&#45;&gt;1957151484080</title>\n",
       "<path fill=\"none\" stroke=\"black\" d=\"M547.47,-959.51C518.27,-950.76 473.69,-937.42 441.29,-927.71\"/>\n",
       "<polygon fill=\"black\" stroke=\"black\" points=\"442.41,-924.4 431.83,-924.88 440.4,-931.1 442.41,-924.4\"/>\n",
       "</g>\n",
       "<!-- 1956247798464 -->\n",
       "<g id=\"node95\" class=\"node\">\n",
       "<title>1956247798464</title>\n",
       "<polygon fill=\"lightblue\" stroke=\"black\" points=\"719,-1045 558,-1045 558,-1015 719,-1015 719,-1045\"/>\n",
       "<text text-anchor=\"middle\" x=\"638.5\" y=\"-1033\" font-family=\"monospace\" font-size=\"10.00\">decoder.decoder.4.weight</text>\n",
       "<text text-anchor=\"middle\" x=\"638.5\" y=\"-1022\" font-family=\"monospace\" font-size=\"10.00\"> (9216)</text>\n",
       "</g>\n",
       "<!-- 1956247798464&#45;&gt;1957151482256 -->\n",
       "<g id=\"edge94\" class=\"edge\">\n",
       "<title>1956247798464&#45;&gt;1957151482256</title>\n",
       "<path fill=\"none\" stroke=\"black\" d=\"M623.42,-1014.54C614.74,-1006.22 603.8,-995.72 594.78,-987.07\"/>\n",
       "<polygon fill=\"black\" stroke=\"black\" points=\"597.28,-984.62 587.64,-980.22 592.43,-989.67 597.28,-984.62\"/>\n",
       "</g>\n",
       "<!-- 1957151485424 -->\n",
       "<g id=\"node96\" class=\"node\">\n",
       "<title>1957151485424</title>\n",
       "<polygon fill=\"lightgrey\" stroke=\"black\" points=\"268,-979 167,-979 167,-960 268,-960 268,-979\"/>\n",
       "<text text-anchor=\"middle\" x=\"217.5\" y=\"-967\" font-family=\"monospace\" font-size=\"10.00\">AccumulateGrad</text>\n",
       "</g>\n",
       "<!-- 1957151485424&#45;&gt;1957151484080 -->\n",
       "<g id=\"edge95\" class=\"edge\">\n",
       "<title>1957151485424&#45;&gt;1957151484080</title>\n",
       "<path fill=\"none\" stroke=\"black\" d=\"M248.54,-959.51C278.87,-950.73 325.23,-937.3 358.77,-927.59\"/>\n",
       "<polygon fill=\"black\" stroke=\"black\" points=\"359.52,-931.01 368.16,-924.87 357.58,-924.29 359.52,-931.01\"/>\n",
       "</g>\n",
       "<!-- 1956247798592 -->\n",
       "<g id=\"node97\" class=\"node\">\n",
       "<title>1956247798592</title>\n",
       "<polygon fill=\"lightblue\" stroke=\"black\" points=\"225,-1045 76,-1045 76,-1015 225,-1015 225,-1045\"/>\n",
       "<text text-anchor=\"middle\" x=\"150.5\" y=\"-1033\" font-family=\"monospace\" font-size=\"10.00\">decoder.decoder.4.bias</text>\n",
       "<text text-anchor=\"middle\" x=\"150.5\" y=\"-1022\" font-family=\"monospace\" font-size=\"10.00\"> (9216)</text>\n",
       "</g>\n",
       "<!-- 1956247798592&#45;&gt;1957151485424 -->\n",
       "<g id=\"edge96\" class=\"edge\">\n",
       "<title>1956247798592&#45;&gt;1957151485424</title>\n",
       "<path fill=\"none\" stroke=\"black\" d=\"M167.06,-1014.54C176.79,-1006.04 189.11,-995.29 199.14,-986.53\"/>\n",
       "<polygon fill=\"black\" stroke=\"black\" points=\"201.19,-989.38 206.42,-980.17 196.59,-984.11 201.19,-989.38\"/>\n",
       "</g>\n",
       "<!-- 1957151484512 -->\n",
       "<g id=\"node98\" class=\"node\">\n",
       "<title>1957151484512</title>\n",
       "<polygon fill=\"lightgrey\" stroke=\"black\" points=\"594,-803 493,-803 493,-784 594,-784 594,-803\"/>\n",
       "<text text-anchor=\"middle\" x=\"543.5\" y=\"-791\" font-family=\"monospace\" font-size=\"10.00\">AccumulateGrad</text>\n",
       "</g>\n",
       "<!-- 1957151484512&#45;&gt;1957151484032 -->\n",
       "<g id=\"edge97\" class=\"edge\">\n",
       "<title>1957151484512&#45;&gt;1957151484032</title>\n",
       "<path fill=\"none\" stroke=\"black\" d=\"M543.5,-783.75C543.5,-777.27 543.5,-768.16 543.5,-759.9\"/>\n",
       "<polygon fill=\"black\" stroke=\"black\" points=\"547,-759.96 543.5,-749.96 540,-759.96 547,-759.96\"/>\n",
       "</g>\n",
       "<!-- 1956247798848 -->\n",
       "<g id=\"node99\" class=\"node\">\n",
       "<title>1956247798848</title>\n",
       "<polygon fill=\"lightblue\" stroke=\"black\" points=\"624,-869 463,-869 463,-839 624,-839 624,-869\"/>\n",
       "<text text-anchor=\"middle\" x=\"543.5\" y=\"-857\" font-family=\"monospace\" font-size=\"10.00\">decoder.decoder.7.weight</text>\n",
       "<text text-anchor=\"middle\" x=\"543.5\" y=\"-846\" font-family=\"monospace\" font-size=\"10.00\"> (64, 32, 5, 5)</text>\n",
       "</g>\n",
       "<!-- 1956247798848&#45;&gt;1957151484512 -->\n",
       "<g id=\"edge98\" class=\"edge\">\n",
       "<title>1956247798848&#45;&gt;1957151484512</title>\n",
       "<path fill=\"none\" stroke=\"black\" d=\"M543.5,-838.54C543.5,-831.34 543.5,-822.53 543.5,-814.68\"/>\n",
       "<polygon fill=\"black\" stroke=\"black\" points=\"547,-814.69 543.5,-804.69 540,-814.69 547,-814.69\"/>\n",
       "</g>\n",
       "<!-- 1957151485616 -->\n",
       "<g id=\"node100\" class=\"node\">\n",
       "<title>1957151485616</title>\n",
       "<polygon fill=\"lightgrey\" stroke=\"black\" points=\"759,-748 670,-748 670,-729 759,-729 759,-748\"/>\n",
       "<text text-anchor=\"middle\" x=\"714.5\" y=\"-736\" font-family=\"monospace\" font-size=\"10.00\">ViewBackward</text>\n",
       "</g>\n",
       "<!-- 1957151485616&#45;&gt;1957151485328 -->\n",
       "<g id=\"edge99\" class=\"edge\">\n",
       "<title>1957151485616&#45;&gt;1957151485328</title>\n",
       "<path fill=\"none\" stroke=\"black\" d=\"M691.57,-728.62C666.4,-718.87 625.77,-703.12 597.02,-691.99\"/>\n",
       "<polygon fill=\"black\" stroke=\"black\" points=\"598.65,-688.86 588.06,-688.52 596.12,-695.39 598.65,-688.86\"/>\n",
       "</g>\n",
       "<!-- 1957151485040 -->\n",
       "<g id=\"node101\" class=\"node\">\n",
       "<title>1957151485040</title>\n",
       "<polygon fill=\"lightgrey\" stroke=\"black\" points=\"766,-803 665,-803 665,-784 766,-784 766,-803\"/>\n",
       "<text text-anchor=\"middle\" x=\"715.5\" y=\"-791\" font-family=\"monospace\" font-size=\"10.00\">AccumulateGrad</text>\n",
       "</g>\n",
       "<!-- 1957151485040&#45;&gt;1957151485616 -->\n",
       "<g id=\"edge100\" class=\"edge\">\n",
       "<title>1957151485040&#45;&gt;1957151485616</title>\n",
       "<path fill=\"none\" stroke=\"black\" d=\"M715.33,-783.75C715.21,-777.27 715.04,-768.16 714.88,-759.9\"/>\n",
       "<polygon fill=\"black\" stroke=\"black\" points=\"718.39,-759.89 714.7,-749.96 711.39,-760.02 718.39,-759.89\"/>\n",
       "</g>\n",
       "<!-- 1956247798976 -->\n",
       "<g id=\"node102\" class=\"node\">\n",
       "<title>1956247798976</title>\n",
       "<polygon fill=\"lightblue\" stroke=\"black\" points=\"791,-869 642,-869 642,-839 791,-839 791,-869\"/>\n",
       "<text text-anchor=\"middle\" x=\"716.5\" y=\"-857\" font-family=\"monospace\" font-size=\"10.00\">decoder.decoder.7.bias</text>\n",
       "<text text-anchor=\"middle\" x=\"716.5\" y=\"-846\" font-family=\"monospace\" font-size=\"10.00\"> (32)</text>\n",
       "</g>\n",
       "<!-- 1956247798976&#45;&gt;1957151485040 -->\n",
       "<g id=\"edge101\" class=\"edge\">\n",
       "<title>1956247798976&#45;&gt;1957151485040</title>\n",
       "<path fill=\"none\" stroke=\"black\" d=\"M716.25,-838.54C716.13,-831.34 715.98,-822.53 715.84,-814.68\"/>\n",
       "<polygon fill=\"black\" stroke=\"black\" points=\"719.34,-814.63 715.67,-804.69 712.35,-814.75 719.34,-814.63\"/>\n",
       "</g>\n",
       "<!-- 1957151482592 -->\n",
       "<g id=\"node103\" class=\"node\">\n",
       "<title>1957151482592</title>\n",
       "<polygon fill=\"lightgrey\" stroke=\"black\" points=\"479,-621 378,-621 378,-602 479,-602 479,-621\"/>\n",
       "<text text-anchor=\"middle\" x=\"428.5\" y=\"-609\" font-family=\"monospace\" font-size=\"10.00\">AccumulateGrad</text>\n",
       "</g>\n",
       "<!-- 1957151482592&#45;&gt;1957151484128 -->\n",
       "<g id=\"edge102\" class=\"edge\">\n",
       "<title>1957151482592&#45;&gt;1957151484128</title>\n",
       "<path fill=\"none\" stroke=\"black\" d=\"M443.47,-601.73C461.68,-591.07 492.68,-572.92 514.52,-560.13\"/>\n",
       "<polygon fill=\"black\" stroke=\"black\" points=\"516.25,-563.17 523.11,-555.1 512.71,-557.13 516.25,-563.17\"/>\n",
       "</g>\n",
       "<!-- 1956247798912 -->\n",
       "<g id=\"node104\" class=\"node\">\n",
       "<title>1956247798912</title>\n",
       "<polygon fill=\"lightblue\" stroke=\"black\" points=\"501,-693 340,-693 340,-663 501,-663 501,-693\"/>\n",
       "<text text-anchor=\"middle\" x=\"420.5\" y=\"-681\" font-family=\"monospace\" font-size=\"10.00\">decoder.decoder.9.weight</text>\n",
       "<text text-anchor=\"middle\" x=\"420.5\" y=\"-670\" font-family=\"monospace\" font-size=\"10.00\"> (32, 16, 5, 5)</text>\n",
       "</g>\n",
       "<!-- 1956247798912&#45;&gt;1957151482592 -->\n",
       "<g id=\"edge103\" class=\"edge\">\n",
       "<title>1956247798912&#45;&gt;1957151482592</title>\n",
       "<path fill=\"none\" stroke=\"black\" d=\"M422.28,-662.69C423.38,-653.81 424.81,-642.28 426.02,-632.52\"/>\n",
       "<polygon fill=\"black\" stroke=\"black\" points=\"429.45,-633.27 427.21,-622.92 422.5,-632.41 429.45,-633.27\"/>\n",
       "</g>\n",
       "<!-- 1957151483600 -->\n",
       "<g id=\"node105\" class=\"node\">\n",
       "<title>1957151483600</title>\n",
       "<polygon fill=\"lightgrey\" stroke=\"black\" points=\"754,-554 665,-554 665,-535 754,-535 754,-554\"/>\n",
       "<text text-anchor=\"middle\" x=\"709.5\" y=\"-542\" font-family=\"monospace\" font-size=\"10.00\">ViewBackward</text>\n",
       "</g>\n",
       "<!-- 1957151483600&#45;&gt;1957151485232 -->\n",
       "<g id=\"edge104\" class=\"edge\">\n",
       "<title>1957151483600&#45;&gt;1957151485232</title>\n",
       "<path fill=\"none\" stroke=\"black\" d=\"M697.68,-534.53C684.11,-524.23 661.59,-507.14 645.11,-494.64\"/>\n",
       "<polygon fill=\"black\" stroke=\"black\" points=\"647.51,-492.06 637.42,-488.81 643.27,-497.64 647.51,-492.06\"/>\n",
       "</g>\n",
       "<!-- 1957151485568 -->\n",
       "<g id=\"node106\" class=\"node\">\n",
       "<title>1957151485568</title>\n",
       "<polygon fill=\"lightgrey\" stroke=\"black\" points=\"760,-621 659,-621 659,-602 760,-602 760,-621\"/>\n",
       "<text text-anchor=\"middle\" x=\"709.5\" y=\"-609\" font-family=\"monospace\" font-size=\"10.00\">AccumulateGrad</text>\n",
       "</g>\n",
       "<!-- 1957151485568&#45;&gt;1957151483600 -->\n",
       "<g id=\"edge105\" class=\"edge\">\n",
       "<title>1957151485568&#45;&gt;1957151483600</title>\n",
       "<path fill=\"none\" stroke=\"black\" d=\"M709.5,-601.73C709.5,-592.48 709.5,-577.57 709.5,-565.42\"/>\n",
       "<polygon fill=\"black\" stroke=\"black\" points=\"713,-565.64 709.5,-555.64 706,-565.64 713,-565.64\"/>\n",
       "</g>\n",
       "<!-- 1956247799168 -->\n",
       "<g id=\"node107\" class=\"node\">\n",
       "<title>1956247799168</title>\n",
       "<polygon fill=\"lightblue\" stroke=\"black\" points=\"784,-693 635,-693 635,-663 784,-663 784,-693\"/>\n",
       "<text text-anchor=\"middle\" x=\"709.5\" y=\"-681\" font-family=\"monospace\" font-size=\"10.00\">decoder.decoder.9.bias</text>\n",
       "<text text-anchor=\"middle\" x=\"709.5\" y=\"-670\" font-family=\"monospace\" font-size=\"10.00\"> (16)</text>\n",
       "</g>\n",
       "<!-- 1956247799168&#45;&gt;1957151485568 -->\n",
       "<g id=\"edge106\" class=\"edge\">\n",
       "<title>1956247799168&#45;&gt;1957151485568</title>\n",
       "<path fill=\"none\" stroke=\"black\" d=\"M709.5,-662.69C709.5,-653.91 709.5,-642.54 709.5,-632.84\"/>\n",
       "<polygon fill=\"black\" stroke=\"black\" points=\"713,-632.93 709.5,-622.93 706,-632.93 713,-632.93\"/>\n",
       "</g>\n",
       "<!-- 1956924543664 -->\n",
       "<g id=\"node108\" class=\"node\">\n",
       "<title>1956924543664</title>\n",
       "<polygon fill=\"lightgrey\" stroke=\"black\" points=\"808,-427 707,-427 707,-408 808,-408 808,-427\"/>\n",
       "<text text-anchor=\"middle\" x=\"757.5\" y=\"-415\" font-family=\"monospace\" font-size=\"10.00\">AccumulateGrad</text>\n",
       "</g>\n",
       "<!-- 1956924543664&#45;&gt;1956924544480 -->\n",
       "<g id=\"edge107\" class=\"edge\">\n",
       "<title>1956924543664&#45;&gt;1956924544480</title>\n",
       "<path fill=\"none\" stroke=\"black\" d=\"M737.48,-407.51C718.89,-399.16 690.96,-386.61 669.67,-377.05\"/>\n",
       "<polygon fill=\"black\" stroke=\"black\" points=\"671.16,-373.88 660.6,-372.98 668.29,-380.27 671.16,-373.88\"/>\n",
       "</g>\n",
       "<!-- 1956247799040 -->\n",
       "<g id=\"node109\" class=\"node\">\n",
       "<title>1956247799040</title>\n",
       "<polygon fill=\"lightblue\" stroke=\"black\" points=\"854,-493 687,-493 687,-463 854,-463 854,-493\"/>\n",
       "<text text-anchor=\"middle\" x=\"770.5\" y=\"-481\" font-family=\"monospace\" font-size=\"10.00\">decoder.decoder.11.weight</text>\n",
       "<text text-anchor=\"middle\" x=\"770.5\" y=\"-470\" font-family=\"monospace\" font-size=\"10.00\"> (16, 8, 5, 5)</text>\n",
       "</g>\n",
       "<!-- 1956247799040&#45;&gt;1956924543664 -->\n",
       "<g id=\"edge108\" class=\"edge\">\n",
       "<title>1956247799040&#45;&gt;1956924543664</title>\n",
       "<path fill=\"none\" stroke=\"black\" d=\"M767.29,-462.54C765.67,-455.26 763.68,-446.31 761.92,-438.39\"/>\n",
       "<polygon fill=\"black\" stroke=\"black\" points=\"765.34,-437.66 759.76,-428.65 758.51,-439.17 765.34,-437.66\"/>\n",
       "</g>\n",
       "<!-- 1956924544288 -->\n",
       "<g id=\"node110\" class=\"node\">\n",
       "<title>1956924544288</title>\n",
       "<polygon fill=\"lightgrey\" stroke=\"black\" points=\"514,-372 425,-372 425,-353 514,-353 514,-372\"/>\n",
       "<text text-anchor=\"middle\" x=\"469.5\" y=\"-360\" font-family=\"monospace\" font-size=\"10.00\">ViewBackward</text>\n",
       "</g>\n",
       "<!-- 1956924544288&#45;&gt;1957151467360 -->\n",
       "<g id=\"edge109\" class=\"edge\">\n",
       "<title>1956924544288&#45;&gt;1957151467360</title>\n",
       "<path fill=\"none\" stroke=\"black\" d=\"M482.41,-352.62C495.64,-343.51 516.47,-329.18 532.34,-318.25\"/>\n",
       "<polygon fill=\"black\" stroke=\"black\" points=\"533.97,-321.38 540.22,-312.83 530,-315.61 533.97,-321.38\"/>\n",
       "</g>\n",
       "<!-- 1956924543904 -->\n",
       "<g id=\"node111\" class=\"node\">\n",
       "<title>1956924543904</title>\n",
       "<polygon fill=\"lightgrey\" stroke=\"black\" points=\"520,-427 419,-427 419,-408 520,-408 520,-427\"/>\n",
       "<text text-anchor=\"middle\" x=\"469.5\" y=\"-415\" font-family=\"monospace\" font-size=\"10.00\">AccumulateGrad</text>\n",
       "</g>\n",
       "<!-- 1956924543904&#45;&gt;1956924544288 -->\n",
       "<g id=\"edge110\" class=\"edge\">\n",
       "<title>1956924543904&#45;&gt;1956924544288</title>\n",
       "<path fill=\"none\" stroke=\"black\" d=\"M469.5,-407.75C469.5,-401.27 469.5,-392.16 469.5,-383.9\"/>\n",
       "<polygon fill=\"black\" stroke=\"black\" points=\"473,-383.96 469.5,-373.96 466,-383.96 473,-383.96\"/>\n",
       "</g>\n",
       "<!-- 1956247799360 -->\n",
       "<g id=\"node112\" class=\"node\">\n",
       "<title>1956247799360</title>\n",
       "<polygon fill=\"lightblue\" stroke=\"black\" points=\"547,-493 392,-493 392,-463 547,-463 547,-493\"/>\n",
       "<text text-anchor=\"middle\" x=\"469.5\" y=\"-481\" font-family=\"monospace\" font-size=\"10.00\">decoder.decoder.11.bias</text>\n",
       "<text text-anchor=\"middle\" x=\"469.5\" y=\"-470\" font-family=\"monospace\" font-size=\"10.00\"> (8)</text>\n",
       "</g>\n",
       "<!-- 1956247799360&#45;&gt;1956924543904 -->\n",
       "<g id=\"edge111\" class=\"edge\">\n",
       "<title>1956247799360&#45;&gt;1956924543904</title>\n",
       "<path fill=\"none\" stroke=\"black\" d=\"M469.5,-462.54C469.5,-455.34 469.5,-446.53 469.5,-438.68\"/>\n",
       "<polygon fill=\"black\" stroke=\"black\" points=\"473,-438.69 469.5,-428.69 466,-438.69 473,-438.69\"/>\n",
       "</g>\n",
       "<!-- 1957151469280 -->\n",
       "<g id=\"node113\" class=\"node\">\n",
       "<title>1957151469280</title>\n",
       "<polygon fill=\"lightgrey\" stroke=\"black\" points=\"741,-251 640,-251 640,-232 741,-232 741,-251\"/>\n",
       "<text text-anchor=\"middle\" x=\"690.5\" y=\"-239\" font-family=\"monospace\" font-size=\"10.00\">AccumulateGrad</text>\n",
       "</g>\n",
       "<!-- 1957151469280&#45;&gt;1957151468944 -->\n",
       "<g id=\"edge112\" class=\"edge\">\n",
       "<title>1957151469280&#45;&gt;1957151468944</title>\n",
       "<path fill=\"none\" stroke=\"black\" d=\"M669.97,-231.51C650.82,-223.12 622,-210.5 600.13,-200.92\"/>\n",
       "<polygon fill=\"black\" stroke=\"black\" points=\"601.67,-197.77 591.11,-196.97 598.86,-204.18 601.67,-197.77\"/>\n",
       "</g>\n",
       "<!-- 1956247799232 -->\n",
       "<g id=\"node114\" class=\"node\">\n",
       "<title>1956247799232</title>\n",
       "<polygon fill=\"lightblue\" stroke=\"black\" points=\"784,-317 617,-317 617,-287 784,-287 784,-317\"/>\n",
       "<text text-anchor=\"middle\" x=\"700.5\" y=\"-305\" font-family=\"monospace\" font-size=\"10.00\">decoder.decoder.13.weight</text>\n",
       "<text text-anchor=\"middle\" x=\"700.5\" y=\"-294\" font-family=\"monospace\" font-size=\"10.00\"> (8, 1, 5, 5)</text>\n",
       "</g>\n",
       "<!-- 1956247799232&#45;&gt;1957151469280 -->\n",
       "<g id=\"edge113\" class=\"edge\">\n",
       "<title>1956247799232&#45;&gt;1957151469280</title>\n",
       "<path fill=\"none\" stroke=\"black\" d=\"M698.03,-286.54C696.78,-279.26 695.25,-270.31 693.9,-262.39\"/>\n",
       "<polygon fill=\"black\" stroke=\"black\" points=\"697.37,-261.93 692.24,-252.67 690.47,-263.11 697.37,-261.93\"/>\n",
       "</g>\n",
       "<!-- 1957151468896 -->\n",
       "<g id=\"node115\" class=\"node\">\n",
       "<title>1957151468896</title>\n",
       "<polygon fill=\"lightgrey\" stroke=\"black\" points=\"444,-196 355,-196 355,-177 444,-177 444,-196\"/>\n",
       "<text text-anchor=\"middle\" x=\"399.5\" y=\"-184\" font-family=\"monospace\" font-size=\"10.00\">ViewBackward</text>\n",
       "</g>\n",
       "<!-- 1957151468896&#45;&gt;1957917444032 -->\n",
       "<g id=\"edge114\" class=\"edge\">\n",
       "<title>1957151468896&#45;&gt;1957917444032</title>\n",
       "<path fill=\"none\" stroke=\"black\" d=\"M413.92,-176.51C426.7,-168.54 445.6,-156.75 460.63,-147.38\"/>\n",
       "<polygon fill=\"black\" stroke=\"black\" points=\"462.38,-150.42 469.01,-142.16 458.67,-144.48 462.38,-150.42\"/>\n",
       "</g>\n",
       "<!-- 1957151468032 -->\n",
       "<g id=\"node116\" class=\"node\">\n",
       "<title>1957151468032</title>\n",
       "<polygon fill=\"lightgrey\" stroke=\"black\" points=\"450,-251 349,-251 349,-232 450,-232 450,-251\"/>\n",
       "<text text-anchor=\"middle\" x=\"399.5\" y=\"-239\" font-family=\"monospace\" font-size=\"10.00\">AccumulateGrad</text>\n",
       "</g>\n",
       "<!-- 1957151468032&#45;&gt;1957151468896 -->\n",
       "<g id=\"edge115\" class=\"edge\">\n",
       "<title>1957151468032&#45;&gt;1957151468896</title>\n",
       "<path fill=\"none\" stroke=\"black\" d=\"M399.5,-231.75C399.5,-225.27 399.5,-216.16 399.5,-207.9\"/>\n",
       "<polygon fill=\"black\" stroke=\"black\" points=\"403,-207.96 399.5,-197.96 396,-207.96 403,-207.96\"/>\n",
       "</g>\n",
       "<!-- 1956247799552 -->\n",
       "<g id=\"node117\" class=\"node\">\n",
       "<title>1956247799552</title>\n",
       "<polygon fill=\"lightblue\" stroke=\"black\" points=\"477,-317 322,-317 322,-287 477,-287 477,-317\"/>\n",
       "<text text-anchor=\"middle\" x=\"399.5\" y=\"-305\" font-family=\"monospace\" font-size=\"10.00\">decoder.decoder.13.bias</text>\n",
       "<text text-anchor=\"middle\" x=\"399.5\" y=\"-294\" font-family=\"monospace\" font-size=\"10.00\"> (1)</text>\n",
       "</g>\n",
       "<!-- 1956247799552&#45;&gt;1957151468032 -->\n",
       "<g id=\"edge116\" class=\"edge\">\n",
       "<title>1956247799552&#45;&gt;1957151468032</title>\n",
       "<path fill=\"none\" stroke=\"black\" d=\"M399.5,-286.54C399.5,-279.34 399.5,-270.53 399.5,-262.68\"/>\n",
       "<polygon fill=\"black\" stroke=\"black\" points=\"403,-262.69 399.5,-252.69 396,-262.69 403,-262.69\"/>\n",
       "</g>\n",
       "<!-- 1954292790016 -->\n",
       "<g id=\"node118\" class=\"node\">\n",
       "<title>1954292790016</title>\n",
       "<polygon fill=\"#caff70\" stroke=\"black\" points=\"938,-560 873,-560 873,-529 938,-529 938,-560\"/>\n",
       "<text text-anchor=\"middle\" x=\"905.5\" y=\"-536\" font-family=\"monospace\" font-size=\"10.00\"> (2, 12)</text>\n",
       "</g>\n",
       "<!-- 1957151467936 -->\n",
       "<g id=\"node119\" class=\"node\">\n",
       "<title>1957151467936</title>\n",
       "<polygon fill=\"lightgrey\" stroke=\"black\" points=\"912,-621 787,-621 787,-602 912,-602 912,-621\"/>\n",
       "<text text-anchor=\"middle\" x=\"849.5\" y=\"-609\" font-family=\"monospace\" font-size=\"10.00\">TransposeBackward0</text>\n",
       "</g>\n",
       "<!-- 1957151467936&#45;&gt;1954292790016 -->\n",
       "<g id=\"edge132\" class=\"edge\">\n",
       "<title>1957151467936&#45;&gt;1954292790016</title>\n",
       "<path fill=\"none\" stroke=\"black\" d=\"M857.05,-601.73C864.31,-593.31 875.59,-580.22 885.44,-568.78\"/>\n",
       "<polygon fill=\"black\" stroke=\"black\" points=\"888.07,-571.09 891.95,-561.23 882.77,-566.52 888.07,-571.09\"/>\n",
       "</g>\n",
       "<!-- 1956924544384 -->\n",
       "<g id=\"node120\" class=\"node\">\n",
       "<title>1956924544384</title>\n",
       "<polygon fill=\"lightgrey\" stroke=\"black\" points=\"901,-687.5 818,-687.5 818,-668.5 901,-668.5 901,-687.5\"/>\n",
       "<text text-anchor=\"middle\" x=\"859.5\" y=\"-675.5\" font-family=\"monospace\" font-size=\"10.00\">ExpBackward</text>\n",
       "</g>\n",
       "<!-- 1956924544384&#45;&gt;1957151467936 -->\n",
       "<g id=\"edge118\" class=\"edge\">\n",
       "<title>1956924544384&#45;&gt;1957151467936</title>\n",
       "<path fill=\"none\" stroke=\"black\" d=\"M858.11,-668.03C856.69,-658.89 854.44,-644.39 852.6,-632.5\"/>\n",
       "<polygon fill=\"black\" stroke=\"black\" points=\"856.1,-632.23 851.11,-622.89 849.18,-633.31 856.1,-632.23\"/>\n",
       "</g>\n",
       "<!-- 1954292792256 -->\n",
       "<g id=\"node133\" class=\"node\">\n",
       "<title>1954292792256</title>\n",
       "<polygon fill=\"#a2cd5a\" stroke=\"black\" points=\"995,-627 930,-627 930,-596 995,-596 995,-627\"/>\n",
       "<text text-anchor=\"middle\" x=\"962.5\" y=\"-603\" font-family=\"monospace\" font-size=\"10.00\"> (12, 2)</text>\n",
       "</g>\n",
       "<!-- 1956924544384&#45;&gt;1954292792256 -->\n",
       "<g id=\"edge133\" class=\"edge\">\n",
       "<title>1956924544384&#45;&gt;1954292792256</title>\n",
       "<path fill=\"none\" stroke=\"black\" d=\"M873.82,-668.03C888.07,-659.11 910.43,-645.1 929.14,-633.39\"/>\n",
       "<polygon fill=\"black\" stroke=\"black\" points=\"930.9,-636.42 937.52,-628.14 927.19,-630.48 930.9,-636.42\"/>\n",
       "</g>\n",
       "<!-- 1957151468752 -->\n",
       "<g id=\"node121\" class=\"node\">\n",
       "<title>1957151468752</title>\n",
       "<polygon fill=\"lightgrey\" stroke=\"black\" points=\"901,-748 818,-748 818,-729 901,-729 901,-748\"/>\n",
       "<text text-anchor=\"middle\" x=\"859.5\" y=\"-736\" font-family=\"monospace\" font-size=\"10.00\">NegBackward</text>\n",
       "</g>\n",
       "<!-- 1957151468752&#45;&gt;1956924544384 -->\n",
       "<g id=\"edge119\" class=\"edge\">\n",
       "<title>1957151468752&#45;&gt;1956924544384</title>\n",
       "<path fill=\"none\" stroke=\"black\" d=\"M859.5,-728.87C859.5,-721 859.5,-709.1 859.5,-698.89\"/>\n",
       "<polygon fill=\"black\" stroke=\"black\" points=\"863,-699.18 859.5,-689.18 856,-699.18 863,-699.18\"/>\n",
       "</g>\n",
       "<!-- 1957151483648 -->\n",
       "<g id=\"node122\" class=\"node\">\n",
       "<title>1957151483648</title>\n",
       "<polygon fill=\"lightgrey\" stroke=\"black\" points=\"907,-803 812,-803 812,-784 907,-784 907,-803\"/>\n",
       "<text text-anchor=\"middle\" x=\"859.5\" y=\"-791\" font-family=\"monospace\" font-size=\"10.00\">NormBackward1</text>\n",
       "</g>\n",
       "<!-- 1957151483648&#45;&gt;1957151468752 -->\n",
       "<g id=\"edge120\" class=\"edge\">\n",
       "<title>1957151483648&#45;&gt;1957151468752</title>\n",
       "<path fill=\"none\" stroke=\"black\" d=\"M859.5,-783.75C859.5,-777.27 859.5,-768.16 859.5,-759.9\"/>\n",
       "<polygon fill=\"black\" stroke=\"black\" points=\"863,-759.96 859.5,-749.96 856,-759.96 863,-759.96\"/>\n",
       "</g>\n",
       "<!-- 1957151483696 -->\n",
       "<g id=\"node123\" class=\"node\">\n",
       "<title>1957151483696</title>\n",
       "<polygon fill=\"lightgrey\" stroke=\"black\" points=\"907,-863.5 812,-863.5 812,-844.5 907,-844.5 907,-863.5\"/>\n",
       "<text text-anchor=\"middle\" x=\"859.5\" y=\"-851.5\" font-family=\"monospace\" font-size=\"10.00\">SliceBackward</text>\n",
       "</g>\n",
       "<!-- 1957151483696&#45;&gt;1957151483648 -->\n",
       "<g id=\"edge121\" class=\"edge\">\n",
       "<title>1957151483696&#45;&gt;1957151483648</title>\n",
       "<path fill=\"none\" stroke=\"black\" d=\"M859.5,-844.37C859.5,-836.5 859.5,-824.6 859.5,-814.39\"/>\n",
       "<polygon fill=\"black\" stroke=\"black\" points=\"863,-814.68 859.5,-804.68 856,-814.68 863,-814.68\"/>\n",
       "</g>\n",
       "<!-- 1957151484944 -->\n",
       "<g id=\"node124\" class=\"node\">\n",
       "<title>1957151484944</title>\n",
       "<polygon fill=\"lightgrey\" stroke=\"black\" points=\"907,-924 812,-924 812,-905 907,-905 907,-924\"/>\n",
       "<text text-anchor=\"middle\" x=\"859.5\" y=\"-912\" font-family=\"monospace\" font-size=\"10.00\">SliceBackward</text>\n",
       "</g>\n",
       "<!-- 1957151484944&#45;&gt;1957151483696 -->\n",
       "<g id=\"edge122\" class=\"edge\">\n",
       "<title>1957151484944&#45;&gt;1957151483696</title>\n",
       "<path fill=\"none\" stroke=\"black\" d=\"M859.5,-904.87C859.5,-897 859.5,-885.1 859.5,-874.89\"/>\n",
       "<polygon fill=\"black\" stroke=\"black\" points=\"863,-875.18 859.5,-865.18 856,-875.18 863,-875.18\"/>\n",
       "</g>\n",
       "<!-- 1957151483792 -->\n",
       "<g id=\"node125\" class=\"node\">\n",
       "<title>1957151483792</title>\n",
       "<polygon fill=\"lightgrey\" stroke=\"black\" points=\"922,-979 797,-979 797,-960 922,-960 922,-979\"/>\n",
       "<text text-anchor=\"middle\" x=\"859.5\" y=\"-967\" font-family=\"monospace\" font-size=\"10.00\">UnsafeViewBackward</text>\n",
       "</g>\n",
       "<!-- 1957151483792&#45;&gt;1957151484944 -->\n",
       "<g id=\"edge123\" class=\"edge\">\n",
       "<title>1957151483792&#45;&gt;1957151484944</title>\n",
       "<path fill=\"none\" stroke=\"black\" d=\"M859.5,-959.75C859.5,-953.27 859.5,-944.16 859.5,-935.9\"/>\n",
       "<polygon fill=\"black\" stroke=\"black\" points=\"863,-935.96 859.5,-925.96 856,-935.96 863,-935.96\"/>\n",
       "</g>\n",
       "<!-- 1957151482928 -->\n",
       "<g id=\"node126\" class=\"node\">\n",
       "<title>1957151482928</title>\n",
       "<polygon fill=\"lightgrey\" stroke=\"black\" points=\"898,-1039.5 821,-1039.5 821,-1020.5 898,-1020.5 898,-1039.5\"/>\n",
       "<text text-anchor=\"middle\" x=\"859.5\" y=\"-1027.5\" font-family=\"monospace\" font-size=\"10.00\">MmBackward</text>\n",
       "</g>\n",
       "<!-- 1957151482928&#45;&gt;1957151483792 -->\n",
       "<g id=\"edge124\" class=\"edge\">\n",
       "<title>1957151482928&#45;&gt;1957151483792</title>\n",
       "<path fill=\"none\" stroke=\"black\" d=\"M859.5,-1020.37C859.5,-1012.5 859.5,-1000.6 859.5,-990.39\"/>\n",
       "<polygon fill=\"black\" stroke=\"black\" points=\"863,-990.68 859.5,-980.68 856,-990.68 863,-990.68\"/>\n",
       "</g>\n",
       "<!-- 1957151483504 -->\n",
       "<g id=\"node127\" class=\"node\">\n",
       "<title>1957151483504</title>\n",
       "<polygon fill=\"lightgrey\" stroke=\"black\" points=\"905,-1105.5 816,-1105.5 816,-1086.5 905,-1086.5 905,-1105.5\"/>\n",
       "<text text-anchor=\"middle\" x=\"860.5\" y=\"-1093.5\" font-family=\"monospace\" font-size=\"10.00\">ViewBackward</text>\n",
       "</g>\n",
       "<!-- 1957151483504&#45;&gt;1957151482928 -->\n",
       "<g id=\"edge125\" class=\"edge\">\n",
       "<title>1957151483504&#45;&gt;1957151482928</title>\n",
       "<path fill=\"none\" stroke=\"black\" d=\"M860.36,-1086.1C860.22,-1077.12 860,-1062.95 859.82,-1051.22\"/>\n",
       "<polygon fill=\"black\" stroke=\"black\" points=\"863.32,-1051.28 859.66,-1041.34 856.32,-1051.39 863.32,-1051.28\"/>\n",
       "</g>\n",
       "<!-- 1957151482640 -->\n",
       "<g id=\"node128\" class=\"node\">\n",
       "<title>1957151482640</title>\n",
       "<polygon fill=\"lightgrey\" stroke=\"black\" points=\"905,-1172 822,-1172 822,-1153 905,-1153 905,-1172\"/>\n",
       "<text text-anchor=\"middle\" x=\"863.5\" y=\"-1160\" font-family=\"monospace\" font-size=\"10.00\">CatBackward</text>\n",
       "</g>\n",
       "<!-- 1957151482640&#45;&gt;1957151483504 -->\n",
       "<g id=\"edge126\" class=\"edge\">\n",
       "<title>1957151482640&#45;&gt;1957151483504</title>\n",
       "<path fill=\"none\" stroke=\"black\" d=\"M863.08,-1152.53C862.66,-1143.48 862,-1129.2 861.45,-1117.38\"/>\n",
       "<polygon fill=\"black\" stroke=\"black\" points=\"864.94,-1117.23 860.98,-1107.4 857.95,-1117.56 864.94,-1117.23\"/>\n",
       "</g>\n",
       "<!-- 1957151483456 -->\n",
       "<g id=\"node129\" class=\"node\">\n",
       "<title>1957151483456</title>\n",
       "<polygon fill=\"lightgrey\" stroke=\"black\" points=\"919,-1239 818,-1239 818,-1220 919,-1220 919,-1239\"/>\n",
       "<text text-anchor=\"middle\" x=\"868.5\" y=\"-1227\" font-family=\"monospace\" font-size=\"10.00\">AccumulateGrad</text>\n",
       "</g>\n",
       "<!-- 1957151483456&#45;&gt;1957151482640 -->\n",
       "<g id=\"edge127\" class=\"edge\">\n",
       "<title>1957151483456&#45;&gt;1957151482640</title>\n",
       "<path fill=\"none\" stroke=\"black\" d=\"M867.83,-1219.73C867.11,-1210.48 865.97,-1195.57 865.03,-1183.42\"/>\n",
       "<polygon fill=\"black\" stroke=\"black\" points=\"868.54,-1183.34 864.28,-1173.64 861.56,-1183.88 868.54,-1183.34\"/>\n",
       "</g>\n",
       "<!-- 1956247801664 -->\n",
       "<g id=\"node130\" class=\"node\">\n",
       "<title>1956247801664</title>\n",
       "<polygon fill=\"lightblue\" stroke=\"black\" points=\"910,-1311 827,-1311 827,-1281 910,-1281 910,-1311\"/>\n",
       "<text text-anchor=\"middle\" x=\"868.5\" y=\"-1299\" font-family=\"monospace\" font-size=\"10.00\">fuzzy.0.A</text>\n",
       "<text text-anchor=\"middle\" x=\"868.5\" y=\"-1288\" font-family=\"monospace\" font-size=\"10.00\"> (12, 2, 3)</text>\n",
       "</g>\n",
       "<!-- 1956247801664&#45;&gt;1957151483456 -->\n",
       "<g id=\"edge128\" class=\"edge\">\n",
       "<title>1956247801664&#45;&gt;1957151483456</title>\n",
       "<path fill=\"none\" stroke=\"black\" d=\"M868.5,-1280.69C868.5,-1271.91 868.5,-1260.54 868.5,-1250.84\"/>\n",
       "<polygon fill=\"black\" stroke=\"black\" points=\"872,-1250.93 868.5,-1240.93 865,-1250.93 872,-1250.93\"/>\n",
       "</g>\n",
       "<!-- 1957151482448 -->\n",
       "<g id=\"node131\" class=\"node\">\n",
       "<title>1957151482448</title>\n",
       "<polygon fill=\"lightgrey\" stroke=\"black\" points=\"773,-1105.5 648,-1105.5 648,-1086.5 773,-1086.5 773,-1105.5\"/>\n",
       "<text text-anchor=\"middle\" x=\"710.5\" y=\"-1093.5\" font-family=\"monospace\" font-size=\"10.00\">TransposeBackward0</text>\n",
       "</g>\n",
       "<!-- 1957151482448&#45;&gt;1957151482928 -->\n",
       "<g id=\"edge129\" class=\"edge\">\n",
       "<title>1957151482448&#45;&gt;1957151482928</title>\n",
       "<path fill=\"none\" stroke=\"black\" d=\"M731.22,-1086.1C756.46,-1075.26 799.34,-1056.84 828.51,-1044.31\"/>\n",
       "<polygon fill=\"black\" stroke=\"black\" points=\"829.76,-1047.58 837.57,-1040.42 827,-1041.15 829.76,-1047.58\"/>\n",
       "</g>\n",
       "<!-- 1957151484656&#45;&gt;1957151482448 -->\n",
       "<g id=\"edge130\" class=\"edge\">\n",
       "<title>1957151484656&#45;&gt;1957151482448</title>\n",
       "<path fill=\"none\" stroke=\"black\" d=\"M685.53,-1152.53C689.73,-1143.19 696.44,-1128.28 701.84,-1116.26\"/>\n",
       "<polygon fill=\"black\" stroke=\"black\" points=\"704.97,-1117.83 705.88,-1107.27 698.59,-1114.96 704.97,-1117.83\"/>\n",
       "</g>\n",
       "<!-- 1954292792256&#45;&gt;1954292790016 -->\n",
       "<g id=\"edge134\" class=\"edge\">\n",
       "<title>1954292792256&#45;&gt;1954292790016</title>\n",
       "<path fill=\"none\" stroke=\"black\" stroke-dasharray=\"1,5\" d=\"M949.57,-595.75C942.57,-587.77 933.77,-577.74 925.87,-568.73\"/>\n",
       "<polygon fill=\"black\" stroke=\"black\" points=\"928.61,-566.54 919.38,-561.33 923.34,-571.16 928.61,-566.54\"/>\n",
       "</g>\n",
       "</g>\n",
       "</svg>\n"
      ],
      "text/plain": [
       "<graphviz.graphs.Digraph at 0x1c7dcf945b0>"
      ]
     },
     "execution_count": 29,
     "metadata": {},
     "output_type": "execute_result"
    }
   ],
   "source": [
    "import torchviz\n",
    "import os\n",
    "os.environ[\"PATH\"] += os.pathsep + 'F:/Users/Yuri/Downloads/windows_10_msbuild_Release_graphviz-7.0.4-win32/Graphviz/bin'\n",
    "\n",
    "\n",
    "x = torch.randn(2, 1, 28, 28).to(device)\n",
    "torchviz.make_dot(model(x), params=dict(model.named_parameters()))"
   ]
  },
  {
   "cell_type": "code",
   "execution_count": 45,
   "metadata": {},
   "outputs": [],
   "source": [
    "optimizer = torch.optim.AdamW(model.parameters(), lr=learning_rate, weight_decay=weight_decay)"
   ]
  },
  {
   "cell_type": "code",
   "execution_count": 46,
   "metadata": {},
   "outputs": [],
   "source": [
    "def train(model, dataloader, optimizer, prev_updates, writer=None):\n",
    "    model.train()  \n",
    "    \n",
    "    for batch_idx, (data, target) in enumerate(tqdm(dataloader)):\n",
    "        n_upd = prev_updates + batch_idx\n",
    "        \n",
    "        data = data.to(device)\n",
    "        \n",
    "        optimizer.zero_grad()  \n",
    "        \n",
    "        mu, logcar, z, labels = model.half_pass(data)  \n",
    "        recon_x = model.decoder_pass(z)\n",
    "        loss, loss_recon, loss_kl, loss_fuzzy = compute_loss(data, recon_x, mu, logcar, z, target, labels)\n",
    "        \n",
    "        loss.backward()\n",
    "        \n",
    "        if n_upd % 100 == 0:\n",
    "            total_norm = 0.0\n",
    "            for p in model.parameters():\n",
    "                if p.grad is not None:\n",
    "                    param_norm = p.grad.data.norm(2)\n",
    "                    total_norm += param_norm.item() ** 2\n",
    "            total_norm = total_norm ** (1. / 2)\n",
    "        \n",
    "            print(f'Step {n_upd:,} (N samples: {n_upd*batch_size:,}), Loss: {loss.item():.4f} (Recon: {loss_recon.item():.4f}, KL: {loss_kl.item():.4f} Fuzzy: {loss_fuzzy.item():.4f}) Grad: {total_norm:.4f}')\n",
    "\n",
    "            if writer is not None:\n",
    "                global_step = n_upd\n",
    "                writer.add_scalar('Loss/Train', loss.item(), global_step)\n",
    "                writer.add_scalar('Loss/Train/BCE', loss_recon.item(), global_step)\n",
    "                writer.add_scalar('Loss/Train/KLD', loss_kl.item(), global_step)\n",
    "                writer.add_scalar('Fuzzy/Train/Loss', loss_fuzzy.item(), global_step)\n",
    "                writer.add_scalar('GradNorm/Train', total_norm, global_step)\n",
    "            \n",
    "        torch.nn.utils.clip_grad_norm_(model.parameters(), 1.0)    \n",
    "        \n",
    "        optimizer.step()  \n",
    "        \n",
    "    return prev_updates + len(dataloader)"
   ]
  },
  {
   "cell_type": "code",
   "execution_count": 47,
   "metadata": {},
   "outputs": [],
   "source": [
    "def test(model, dataloader, cur_step, writer=None):\n",
    "    model.eval() \n",
    "    test_loss = 0\n",
    "    test_recon_loss = 0\n",
    "    test_kl_loss = 0\n",
    "    test_fuzzy_loss = 0\n",
    "    test_accuracy = 0\n",
    "    \n",
    "    with torch.no_grad():\n",
    "        for data, target in tqdm(dataloader, desc='Testing'):\n",
    "            data = data.to(device)\n",
    "            mu, logcar, z, labels = model.half_pass(data)  \n",
    "            recon_x = model.decoder_pass(z)\n",
    "            loss, loss_recon, loss_kl, loss_fuzzy = compute_loss(data, recon_x, mu, logcar, z,  target, labels)\n",
    "            \n",
    "            test_loss += loss.item()\n",
    "            test_recon_loss += loss_recon.item()\n",
    "            test_kl_loss += loss_kl.item()\n",
    "            test_fuzzy_loss += loss_fuzzy.item()\n",
    "            pred_target = np.argmax(labels[:,0:(fuzzy_labels-2)].cpu().numpy(), axis=1)\n",
    "            target_labels =  np.argmax(target[:,0,0:(fuzzy_labels-2)].cpu().numpy(), axis=1)\n",
    "            test_accuracy += np.sum(target_labels==pred_target) / len(pred_target)\n",
    "\n",
    "    test_loss /= len(dataloader)\n",
    "    test_recon_loss /= len(dataloader)\n",
    "    test_kl_loss /= len(dataloader)\n",
    "    test_fuzzy_loss /= len(dataloader)\n",
    "    test_accuracy /= len(dataloader)\n",
    "\n",
    "    print(f'====> Test set loss: {test_loss:.4f} (BCE: {test_recon_loss:.4f}, KLD: {test_kl_loss:.4f} Fuzzy: {test_fuzzy_loss:.4f} Accuracy {test_accuracy:.4f})')\n",
    "    \n",
    "    if writer is not None:\n",
    "        writer.add_scalar('Loss/Test', test_loss, global_step=cur_step)\n",
    "        writer.add_scalar('Loss/Test/BCE', loss_recon.item(), global_step=cur_step)\n",
    "        writer.add_scalar('Loss/Test/KLD', loss_kl.item(), global_step=cur_step)\n",
    "        writer.add_scalar('Fuzzy/Test/Loss', loss_fuzzy.item(), global_step=cur_step)\n",
    "        writer.add_scalar('Fuzzy/Test/Accuracy', test_accuracy, global_step=cur_step)\n",
    "        \n",
    "        z = torch.randn(16, latent_dim).to(device)\n",
    "        samples = model.decoder_pass(z)\n",
    "        writer.add_images('Test/Samples', samples.view(-1, 1, 28, 28), global_step=cur_step)"
   ]
  },
  {
   "cell_type": "code",
   "execution_count": 48,
   "metadata": {},
   "outputs": [
    {
     "name": "stdout",
     "output_type": "stream",
     "text": [
      "Epoch 1/50\n"
     ]
    },
    {
     "data": {
      "application/vnd.jupyter.widget-view+json": {
       "model_id": "cec3a7eeb4d64bf084fc4dcecc2c4d09",
       "version_major": 2,
       "version_minor": 0
      },
      "text/plain": [
       "  0%|          | 0/235 [00:00<?, ?it/s]"
      ]
     },
     "metadata": {},
     "output_type": "display_data"
    },
    {
     "name": "stdout",
     "output_type": "stream",
     "text": [
      "Step 0 (N samples: 0), Loss: 20.1706 (Recon: 17.9419, KL: 0.1758 Fuzzy: 2.0529) Grad: 13.7765\n",
      "Step 100 (N samples: 25,600), Loss: 8.8911 (Recon: 7.3126, KL: 0.3896 Fuzzy: 1.1888) Grad: 4.2196\n",
      "Step 200 (N samples: 51,200), Loss: 8.2124 (Recon: 6.5742, KL: 0.6878 Fuzzy: 0.9504) Grad: 3.5141\n"
     ]
    },
    {
     "data": {
      "application/vnd.jupyter.widget-view+json": {
       "model_id": "0fb2fb6a00e1401090484b55b65e6e2f",
       "version_major": 2,
       "version_minor": 0
      },
      "text/plain": [
       "Testing:   0%|          | 0/40 [00:00<?, ?it/s]"
      ]
     },
     "metadata": {},
     "output_type": "display_data"
    },
    {
     "name": "stdout",
     "output_type": "stream",
     "text": [
      "====> Test set loss: 8.2873 (BCE: 6.4706, KLD: 0.8991 Fuzzy: 0.9177 Accuracy 0.5651)\n",
      "Epoch 2/50\n"
     ]
    },
    {
     "data": {
      "application/vnd.jupyter.widget-view+json": {
       "model_id": "6d9ff2bc82d849558c5237c5824209de",
       "version_major": 2,
       "version_minor": 0
      },
      "text/plain": [
       "  0%|          | 0/235 [00:00<?, ?it/s]"
      ]
     },
     "metadata": {},
     "output_type": "display_data"
    },
    {
     "name": "stdout",
     "output_type": "stream",
     "text": [
      "Step 300 (N samples: 76,800), Loss: 8.2186 (Recon: 6.6694, KL: 0.6389 Fuzzy: 0.9103) Grad: 3.4113\n",
      "Step 400 (N samples: 102,400), Loss: 8.0290 (Recon: 6.5384, KL: 0.7540 Fuzzy: 0.7367) Grad: 2.8973\n"
     ]
    },
    {
     "data": {
      "application/vnd.jupyter.widget-view+json": {
       "model_id": "19cd3ea3ec324facb825aec73e29af11",
       "version_major": 2,
       "version_minor": 0
      },
      "text/plain": [
       "Testing:   0%|          | 0/40 [00:00<?, ?it/s]"
      ]
     },
     "metadata": {},
     "output_type": "display_data"
    },
    {
     "name": "stdout",
     "output_type": "stream",
     "text": [
      "====> Test set loss: 7.9511 (BCE: 6.3838, KLD: 0.8369 Fuzzy: 0.7305 Accuracy 0.7105)\n",
      "Epoch 3/50\n"
     ]
    },
    {
     "data": {
      "application/vnd.jupyter.widget-view+json": {
       "model_id": "d10b57406f3f4724b4589a078c509317",
       "version_major": 2,
       "version_minor": 0
      },
      "text/plain": [
       "  0%|          | 0/235 [00:00<?, ?it/s]"
      ]
     },
     "metadata": {},
     "output_type": "display_data"
    },
    {
     "name": "stdout",
     "output_type": "stream",
     "text": [
      "Step 500 (N samples: 128,000), Loss: 7.7741 (Recon: 6.3116, KL: 0.7983 Fuzzy: 0.6642) Grad: 3.0152\n",
      "Step 600 (N samples: 153,600), Loss: 7.8810 (Recon: 6.4440, KL: 0.7804 Fuzzy: 0.6566) Grad: 2.8799\n",
      "Step 700 (N samples: 179,200), Loss: 7.8964 (Recon: 6.4667, KL: 0.8128 Fuzzy: 0.6169) Grad: 2.4284\n"
     ]
    },
    {
     "data": {
      "application/vnd.jupyter.widget-view+json": {
       "model_id": "87e6fc87730544d485dbda7d6b01d504",
       "version_major": 2,
       "version_minor": 0
      },
      "text/plain": [
       "Testing:   0%|          | 0/40 [00:00<?, ?it/s]"
      ]
     },
     "metadata": {},
     "output_type": "display_data"
    },
    {
     "name": "stdout",
     "output_type": "stream",
     "text": [
      "====> Test set loss: 7.7898 (BCE: 6.3701, KLD: 0.8405 Fuzzy: 0.5792 Accuracy 0.8284)\n",
      "Epoch 4/50\n"
     ]
    },
    {
     "data": {
      "application/vnd.jupyter.widget-view+json": {
       "model_id": "0b7bfe976169499ba529876259449dc7",
       "version_major": 2,
       "version_minor": 0
      },
      "text/plain": [
       "  0%|          | 0/235 [00:00<?, ?it/s]"
      ]
     },
     "metadata": {},
     "output_type": "display_data"
    },
    {
     "name": "stdout",
     "output_type": "stream",
     "text": [
      "Step 800 (N samples: 204,800), Loss: 7.6548 (Recon: 6.2951, KL: 0.8131 Fuzzy: 0.5465) Grad: 2.4329\n",
      "Step 900 (N samples: 230,400), Loss: 7.6564 (Recon: 6.3047, KL: 0.8041 Fuzzy: 0.5477) Grad: 2.9995\n"
     ]
    },
    {
     "data": {
      "application/vnd.jupyter.widget-view+json": {
       "model_id": "2c5bb1ade38547b4b0739286474a2c2c",
       "version_major": 2,
       "version_minor": 0
      },
      "text/plain": [
       "Testing:   0%|          | 0/40 [00:00<?, ?it/s]"
      ]
     },
     "metadata": {},
     "output_type": "display_data"
    },
    {
     "name": "stdout",
     "output_type": "stream",
     "text": [
      "====> Test set loss: 7.7367 (BCE: 6.3921, KLD: 0.7907 Fuzzy: 0.5539 Accuracy 0.8387)\n",
      "Epoch 5/50\n"
     ]
    },
    {
     "data": {
      "application/vnd.jupyter.widget-view+json": {
       "model_id": "cf5d07784aaf4356b871317c4293e586",
       "version_major": 2,
       "version_minor": 0
      },
      "text/plain": [
       "  0%|          | 0/235 [00:00<?, ?it/s]"
      ]
     },
     "metadata": {},
     "output_type": "display_data"
    },
    {
     "name": "stdout",
     "output_type": "stream",
     "text": [
      "Step 1,000 (N samples: 256,000), Loss: 7.6192 (Recon: 6.3113, KL: 0.7934 Fuzzy: 0.5145) Grad: 3.3123\n",
      "Step 1,100 (N samples: 281,600), Loss: 7.7493 (Recon: 6.4589, KL: 0.7707 Fuzzy: 0.5196) Grad: 3.3169\n"
     ]
    },
    {
     "data": {
      "application/vnd.jupyter.widget-view+json": {
       "model_id": "a5c7a4f7f3624912a6ede41799cfab04",
       "version_major": 2,
       "version_minor": 0
      },
      "text/plain": [
       "Testing:   0%|          | 0/40 [00:00<?, ?it/s]"
      ]
     },
     "metadata": {},
     "output_type": "display_data"
    },
    {
     "name": "stdout",
     "output_type": "stream",
     "text": [
      "====> Test set loss: 7.6773 (BCE: 6.3633, KLD: 0.8141 Fuzzy: 0.4999 Accuracy 0.8911)\n",
      "Epoch 6/50\n"
     ]
    },
    {
     "data": {
      "application/vnd.jupyter.widget-view+json": {
       "model_id": "636b9cd3b6554119a58124f8de05bae3",
       "version_major": 2,
       "version_minor": 0
      },
      "text/plain": [
       "  0%|          | 0/235 [00:00<?, ?it/s]"
      ]
     },
     "metadata": {},
     "output_type": "display_data"
    },
    {
     "name": "stdout",
     "output_type": "stream",
     "text": [
      "Step 1,200 (N samples: 307,200), Loss: 7.6478 (Recon: 6.3934, KL: 0.8100 Fuzzy: 0.4445) Grad: 2.5862\n",
      "Step 1,300 (N samples: 332,800), Loss: 7.6206 (Recon: 6.3484, KL: 0.8210 Fuzzy: 0.4512) Grad: 3.8174\n",
      "Step 1,400 (N samples: 358,400), Loss: 7.9118 (Recon: 6.6083, KL: 0.8258 Fuzzy: 0.4776) Grad: 3.1993\n"
     ]
    },
    {
     "data": {
      "application/vnd.jupyter.widget-view+json": {
       "model_id": "57f95cfa616449d18db5bf5d1caa2045",
       "version_major": 2,
       "version_minor": 0
      },
      "text/plain": [
       "Testing:   0%|          | 0/40 [00:00<?, ?it/s]"
      ]
     },
     "metadata": {},
     "output_type": "display_data"
    },
    {
     "name": "stdout",
     "output_type": "stream",
     "text": [
      "====> Test set loss: 7.5485 (BCE: 6.3482, KLD: 0.7956 Fuzzy: 0.4047 Accuracy 0.9374)\n",
      "Epoch 7/50\n"
     ]
    },
    {
     "data": {
      "application/vnd.jupyter.widget-view+json": {
       "model_id": "a97be07e2fe94ce89ffbd749683ea720",
       "version_major": 2,
       "version_minor": 0
      },
      "text/plain": [
       "  0%|          | 0/235 [00:00<?, ?it/s]"
      ]
     },
     "metadata": {},
     "output_type": "display_data"
    },
    {
     "name": "stdout",
     "output_type": "stream",
     "text": [
      "Step 1,500 (N samples: 384,000), Loss: 7.7020 (Recon: 6.4190, KL: 0.8465 Fuzzy: 0.4365) Grad: 3.3305\n",
      "Step 1,600 (N samples: 409,600), Loss: 7.5322 (Recon: 6.2811, KL: 0.8352 Fuzzy: 0.4159) Grad: 3.7990\n"
     ]
    },
    {
     "data": {
      "application/vnd.jupyter.widget-view+json": {
       "model_id": "cc71b007c1ec41ea8e667f1944823642",
       "version_major": 2,
       "version_minor": 0
      },
      "text/plain": [
       "Testing:   0%|          | 0/40 [00:00<?, ?it/s]"
      ]
     },
     "metadata": {},
     "output_type": "display_data"
    },
    {
     "name": "stdout",
     "output_type": "stream",
     "text": [
      "====> Test set loss: 7.5313 (BCE: 6.2542, KLD: 0.8880 Fuzzy: 0.3891 Accuracy 0.9495)\n",
      "Epoch 8/50\n"
     ]
    },
    {
     "data": {
      "application/vnd.jupyter.widget-view+json": {
       "model_id": "454a429004e24d838896f590491cfa75",
       "version_major": 2,
       "version_minor": 0
      },
      "text/plain": [
       "  0%|          | 0/235 [00:00<?, ?it/s]"
      ]
     },
     "metadata": {},
     "output_type": "display_data"
    },
    {
     "name": "stdout",
     "output_type": "stream",
     "text": [
      "Step 1,700 (N samples: 435,200), Loss: 7.4820 (Recon: 6.2649, KL: 0.8443 Fuzzy: 0.3728) Grad: 2.4274\n",
      "Step 1,800 (N samples: 460,800), Loss: 7.6245 (Recon: 6.4216, KL: 0.8387 Fuzzy: 0.3643) Grad: 2.2541\n"
     ]
    },
    {
     "data": {
      "application/vnd.jupyter.widget-view+json": {
       "model_id": "e39e6794b7db482e8d1b77dfffd36131",
       "version_major": 2,
       "version_minor": 0
      },
      "text/plain": [
       "Testing:   0%|          | 0/40 [00:00<?, ?it/s]"
      ]
     },
     "metadata": {},
     "output_type": "display_data"
    },
    {
     "name": "stdout",
     "output_type": "stream",
     "text": [
      "====> Test set loss: 7.5312 (BCE: 6.3270, KLD: 0.8262 Fuzzy: 0.3780 Accuracy 0.9462)\n",
      "Epoch 9/50\n"
     ]
    },
    {
     "data": {
      "application/vnd.jupyter.widget-view+json": {
       "model_id": "89871216771c470894c3f1305e376e63",
       "version_major": 2,
       "version_minor": 0
      },
      "text/plain": [
       "  0%|          | 0/235 [00:00<?, ?it/s]"
      ]
     },
     "metadata": {},
     "output_type": "display_data"
    },
    {
     "name": "stdout",
     "output_type": "stream",
     "text": [
      "Step 1,900 (N samples: 486,400), Loss: 7.2726 (Recon: 6.0479, KL: 0.8486 Fuzzy: 0.3761) Grad: 3.0576\n",
      "Step 2,000 (N samples: 512,000), Loss: 7.5801 (Recon: 6.3225, KL: 0.9105 Fuzzy: 0.3472) Grad: 2.5237\n",
      "Step 2,100 (N samples: 537,600), Loss: 7.5527 (Recon: 6.3426, KL: 0.9014 Fuzzy: 0.3088) Grad: 2.8651\n"
     ]
    },
    {
     "data": {
      "application/vnd.jupyter.widget-view+json": {
       "model_id": "7ec3e21973974a0986bd798e0b86e90c",
       "version_major": 2,
       "version_minor": 0
      },
      "text/plain": [
       "Testing:   0%|          | 0/40 [00:00<?, ?it/s]"
      ]
     },
     "metadata": {},
     "output_type": "display_data"
    },
    {
     "name": "stdout",
     "output_type": "stream",
     "text": [
      "====> Test set loss: 7.4446 (BCE: 6.2319, KLD: 0.8684 Fuzzy: 0.3443 Accuracy 0.9567)\n",
      "Epoch 10/50\n"
     ]
    },
    {
     "data": {
      "application/vnd.jupyter.widget-view+json": {
       "model_id": "c300f3b4f16b4c8794bbb1a1c7710455",
       "version_major": 2,
       "version_minor": 0
      },
      "text/plain": [
       "  0%|          | 0/235 [00:00<?, ?it/s]"
      ]
     },
     "metadata": {},
     "output_type": "display_data"
    },
    {
     "name": "stdout",
     "output_type": "stream",
     "text": [
      "Step 2,200 (N samples: 563,200), Loss: 7.5468 (Recon: 6.2217, KL: 0.9095 Fuzzy: 0.4157) Grad: 2.9828\n",
      "Step 2,300 (N samples: 588,800), Loss: 7.4966 (Recon: 6.2535, KL: 0.8967 Fuzzy: 0.3465) Grad: 2.3485\n"
     ]
    },
    {
     "data": {
      "application/vnd.jupyter.widget-view+json": {
       "model_id": "271f2a0f292a4107896162f6baa584ec",
       "version_major": 2,
       "version_minor": 0
      },
      "text/plain": [
       "Testing:   0%|          | 0/40 [00:00<?, ?it/s]"
      ]
     },
     "metadata": {},
     "output_type": "display_data"
    },
    {
     "name": "stdout",
     "output_type": "stream",
     "text": [
      "====> Test set loss: 7.4460 (BCE: 6.2311, KLD: 0.9010 Fuzzy: 0.3139 Accuracy 0.9587)\n",
      "Epoch 11/50\n"
     ]
    },
    {
     "data": {
      "application/vnd.jupyter.widget-view+json": {
       "model_id": "9623c2baf8204d6d8409ed40354115fb",
       "version_major": 2,
       "version_minor": 0
      },
      "text/plain": [
       "  0%|          | 0/235 [00:00<?, ?it/s]"
      ]
     },
     "metadata": {},
     "output_type": "display_data"
    },
    {
     "name": "stdout",
     "output_type": "stream",
     "text": [
      "Step 2,400 (N samples: 614,400), Loss: 7.4501 (Recon: 6.2456, KL: 0.8880 Fuzzy: 0.3165) Grad: 2.1255\n",
      "Step 2,500 (N samples: 640,000), Loss: 7.4038 (Recon: 6.1790, KL: 0.8808 Fuzzy: 0.3440) Grad: 3.2949\n"
     ]
    },
    {
     "data": {
      "application/vnd.jupyter.widget-view+json": {
       "model_id": "8b8a8f1f0839401bb703ca2315119ddf",
       "version_major": 2,
       "version_minor": 0
      },
      "text/plain": [
       "Testing:   0%|          | 0/40 [00:00<?, ?it/s]"
      ]
     },
     "metadata": {},
     "output_type": "display_data"
    },
    {
     "name": "stdout",
     "output_type": "stream",
     "text": [
      "====> Test set loss: 7.4213 (BCE: 6.2107, KLD: 0.8857 Fuzzy: 0.3249 Accuracy 0.9609)\n",
      "Epoch 12/50\n"
     ]
    },
    {
     "data": {
      "application/vnd.jupyter.widget-view+json": {
       "model_id": "812b0f6fc5c44c67894269a1ebd8868b",
       "version_major": 2,
       "version_minor": 0
      },
      "text/plain": [
       "  0%|          | 0/235 [00:00<?, ?it/s]"
      ]
     },
     "metadata": {},
     "output_type": "display_data"
    },
    {
     "name": "stdout",
     "output_type": "stream",
     "text": [
      "Step 2,600 (N samples: 665,600), Loss: 7.3980 (Recon: 6.1679, KL: 0.9067 Fuzzy: 0.3234) Grad: 2.7536\n",
      "Step 2,700 (N samples: 691,200), Loss: 7.5196 (Recon: 6.2819, KL: 0.8787 Fuzzy: 0.3591) Grad: 2.7716\n",
      "Step 2,800 (N samples: 716,800), Loss: 7.5978 (Recon: 6.2907, KL: 0.9561 Fuzzy: 0.3510) Grad: 2.3514\n"
     ]
    },
    {
     "data": {
      "application/vnd.jupyter.widget-view+json": {
       "model_id": "c5a944fdab4b4b45ad3851a8924531a0",
       "version_major": 2,
       "version_minor": 0
      },
      "text/plain": [
       "Testing:   0%|          | 0/40 [00:00<?, ?it/s]"
      ]
     },
     "metadata": {},
     "output_type": "display_data"
    },
    {
     "name": "stdout",
     "output_type": "stream",
     "text": [
      "====> Test set loss: 7.4131 (BCE: 6.2126, KLD: 0.8977 Fuzzy: 0.3028 Accuracy 0.9606)\n",
      "Epoch 13/50\n"
     ]
    },
    {
     "data": {
      "application/vnd.jupyter.widget-view+json": {
       "model_id": "40722ad973bb4c518fdcca5fd7238d06",
       "version_major": 2,
       "version_minor": 0
      },
      "text/plain": [
       "  0%|          | 0/235 [00:00<?, ?it/s]"
      ]
     },
     "metadata": {},
     "output_type": "display_data"
    },
    {
     "name": "stdout",
     "output_type": "stream",
     "text": [
      "Step 2,900 (N samples: 742,400), Loss: 7.6600 (Recon: 6.4148, KL: 0.9265 Fuzzy: 0.3187) Grad: 2.7938\n",
      "Step 3,000 (N samples: 768,000), Loss: 7.4291 (Recon: 6.2016, KL: 0.9230 Fuzzy: 0.3044) Grad: 2.2647\n"
     ]
    },
    {
     "data": {
      "application/vnd.jupyter.widget-view+json": {
       "model_id": "a8b8595ce2d14da2be955d084f77696e",
       "version_major": 2,
       "version_minor": 0
      },
      "text/plain": [
       "Testing:   0%|          | 0/40 [00:00<?, ?it/s]"
      ]
     },
     "metadata": {},
     "output_type": "display_data"
    },
    {
     "name": "stdout",
     "output_type": "stream",
     "text": [
      "====> Test set loss: 7.4083 (BCE: 6.1364, KLD: 0.9574 Fuzzy: 0.3146 Accuracy 0.9592)\n",
      "Epoch 14/50\n"
     ]
    },
    {
     "data": {
      "application/vnd.jupyter.widget-view+json": {
       "model_id": "64ea3d8f66284dab89dbe03744534757",
       "version_major": 2,
       "version_minor": 0
      },
      "text/plain": [
       "  0%|          | 0/235 [00:00<?, ?it/s]"
      ]
     },
     "metadata": {},
     "output_type": "display_data"
    },
    {
     "name": "stdout",
     "output_type": "stream",
     "text": [
      "Step 3,100 (N samples: 793,600), Loss: 7.5097 (Recon: 6.1998, KL: 0.9908 Fuzzy: 0.3191) Grad: 2.6727\n",
      "Step 3,200 (N samples: 819,200), Loss: 7.6135 (Recon: 6.3572, KL: 0.9552 Fuzzy: 0.3012) Grad: 2.5131\n"
     ]
    },
    {
     "data": {
      "application/vnd.jupyter.widget-view+json": {
       "model_id": "b1f93594b2504488b4c158e43f349a8d",
       "version_major": 2,
       "version_minor": 0
      },
      "text/plain": [
       "Testing:   0%|          | 0/40 [00:00<?, ?it/s]"
      ]
     },
     "metadata": {},
     "output_type": "display_data"
    },
    {
     "name": "stdout",
     "output_type": "stream",
     "text": [
      "====> Test set loss: 7.3632 (BCE: 6.1261, KLD: 0.9427 Fuzzy: 0.2944 Accuracy 0.9649)\n",
      "Epoch 15/50\n"
     ]
    },
    {
     "data": {
      "application/vnd.jupyter.widget-view+json": {
       "model_id": "e1279305e77944b5bd356deae578e0e0",
       "version_major": 2,
       "version_minor": 0
      },
      "text/plain": [
       "  0%|          | 0/235 [00:00<?, ?it/s]"
      ]
     },
     "metadata": {},
     "output_type": "display_data"
    },
    {
     "name": "stdout",
     "output_type": "stream",
     "text": [
      "Step 3,300 (N samples: 844,800), Loss: 7.3427 (Recon: 6.1389, KL: 0.8699 Fuzzy: 0.3340) Grad: 3.3807\n",
      "Step 3,400 (N samples: 870,400), Loss: 7.4677 (Recon: 6.2297, KL: 0.9250 Fuzzy: 0.3130) Grad: 2.0980\n",
      "Step 3,500 (N samples: 896,000), Loss: 7.4776 (Recon: 6.2479, KL: 0.9118 Fuzzy: 0.3179) Grad: 3.2137\n"
     ]
    },
    {
     "data": {
      "application/vnd.jupyter.widget-view+json": {
       "model_id": "ecd2d6e4105a44708161c68c33ea5625",
       "version_major": 2,
       "version_minor": 0
      },
      "text/plain": [
       "Testing:   0%|          | 0/40 [00:00<?, ?it/s]"
      ]
     },
     "metadata": {},
     "output_type": "display_data"
    },
    {
     "name": "stdout",
     "output_type": "stream",
     "text": [
      "====> Test set loss: 7.3835 (BCE: 6.1641, KLD: 0.9287 Fuzzy: 0.2908 Accuracy 0.9670)\n",
      "Epoch 16/50\n"
     ]
    },
    {
     "data": {
      "application/vnd.jupyter.widget-view+json": {
       "model_id": "b06bdaf611434630aeadc3974f0cdcad",
       "version_major": 2,
       "version_minor": 0
      },
      "text/plain": [
       "  0%|          | 0/235 [00:00<?, ?it/s]"
      ]
     },
     "metadata": {},
     "output_type": "display_data"
    },
    {
     "name": "stdout",
     "output_type": "stream",
     "text": [
      "Step 3,600 (N samples: 921,600), Loss: 7.4267 (Recon: 6.2130, KL: 0.9305 Fuzzy: 0.2832) Grad: 2.2151\n",
      "Step 3,700 (N samples: 947,200), Loss: 7.5067 (Recon: 6.1949, KL: 0.9605 Fuzzy: 0.3512) Grad: 2.1498\n"
     ]
    },
    {
     "data": {
      "application/vnd.jupyter.widget-view+json": {
       "model_id": "d737a04c84f4459a97e35472d6737918",
       "version_major": 2,
       "version_minor": 0
      },
      "text/plain": [
       "Testing:   0%|          | 0/40 [00:00<?, ?it/s]"
      ]
     },
     "metadata": {},
     "output_type": "display_data"
    },
    {
     "name": "stdout",
     "output_type": "stream",
     "text": [
      "====> Test set loss: 7.3974 (BCE: 6.2069, KLD: 0.9055 Fuzzy: 0.2851 Accuracy 0.9671)\n",
      "Epoch 17/50\n"
     ]
    },
    {
     "data": {
      "application/vnd.jupyter.widget-view+json": {
       "model_id": "8e34a0bff8cc44cab9a790a5b151f89e",
       "version_major": 2,
       "version_minor": 0
      },
      "text/plain": [
       "  0%|          | 0/235 [00:00<?, ?it/s]"
      ]
     },
     "metadata": {},
     "output_type": "display_data"
    },
    {
     "name": "stdout",
     "output_type": "stream",
     "text": [
      "Step 3,800 (N samples: 972,800), Loss: 7.4152 (Recon: 6.1914, KL: 0.9339 Fuzzy: 0.2898) Grad: 2.6019\n",
      "Step 3,900 (N samples: 998,400), Loss: 7.4067 (Recon: 6.1121, KL: 0.9633 Fuzzy: 0.3314) Grad: 2.6875\n"
     ]
    },
    {
     "data": {
      "application/vnd.jupyter.widget-view+json": {
       "model_id": "94cf8cf64254480bac8a16a0e16d5cef",
       "version_major": 2,
       "version_minor": 0
      },
      "text/plain": [
       "Testing:   0%|          | 0/40 [00:00<?, ?it/s]"
      ]
     },
     "metadata": {},
     "output_type": "display_data"
    },
    {
     "name": "stdout",
     "output_type": "stream",
     "text": [
      "====> Test set loss: 7.3711 (BCE: 6.1461, KLD: 0.9430 Fuzzy: 0.2820 Accuracy 0.9677)\n",
      "Epoch 18/50\n"
     ]
    },
    {
     "data": {
      "application/vnd.jupyter.widget-view+json": {
       "model_id": "3ea2428240224f0f8b75affe8a695444",
       "version_major": 2,
       "version_minor": 0
      },
      "text/plain": [
       "  0%|          | 0/235 [00:00<?, ?it/s]"
      ]
     },
     "metadata": {},
     "output_type": "display_data"
    },
    {
     "name": "stdout",
     "output_type": "stream",
     "text": [
      "Step 4,000 (N samples: 1,024,000), Loss: 7.8138 (Recon: 6.5058, KL: 0.9896 Fuzzy: 0.3185) Grad: 3.0970\n",
      "Step 4,100 (N samples: 1,049,600), Loss: 7.5436 (Recon: 6.2883, KL: 0.9359 Fuzzy: 0.3194) Grad: 2.3266\n",
      "Step 4,200 (N samples: 1,075,200), Loss: 7.2809 (Recon: 6.0557, KL: 0.9276 Fuzzy: 0.2976) Grad: 2.5113\n"
     ]
    },
    {
     "data": {
      "application/vnd.jupyter.widget-view+json": {
       "model_id": "1e853a6850574ac8b54e93a7195d7ff6",
       "version_major": 2,
       "version_minor": 0
      },
      "text/plain": [
       "Testing:   0%|          | 0/40 [00:00<?, ?it/s]"
      ]
     },
     "metadata": {},
     "output_type": "display_data"
    },
    {
     "name": "stdout",
     "output_type": "stream",
     "text": [
      "====> Test set loss: 7.3816 (BCE: 6.1817, KLD: 0.9295 Fuzzy: 0.2704 Accuracy 0.9687)\n",
      "Epoch 19/50\n"
     ]
    },
    {
     "data": {
      "application/vnd.jupyter.widget-view+json": {
       "model_id": "b72edef444e546108a66976083497ac5",
       "version_major": 2,
       "version_minor": 0
      },
      "text/plain": [
       "  0%|          | 0/235 [00:00<?, ?it/s]"
      ]
     },
     "metadata": {},
     "output_type": "display_data"
    },
    {
     "name": "stdout",
     "output_type": "stream",
     "text": [
      "Step 4,300 (N samples: 1,100,800), Loss: 7.2718 (Recon: 6.0713, KL: 0.9139 Fuzzy: 0.2866) Grad: 2.4552\n",
      "Step 4,400 (N samples: 1,126,400), Loss: 7.4865 (Recon: 6.2325, KL: 0.9421 Fuzzy: 0.3119) Grad: 2.3914\n"
     ]
    },
    {
     "data": {
      "application/vnd.jupyter.widget-view+json": {
       "model_id": "60e6482d14194116ac189910b801f94b",
       "version_major": 2,
       "version_minor": 0
      },
      "text/plain": [
       "Testing:   0%|          | 0/40 [00:00<?, ?it/s]"
      ]
     },
     "metadata": {},
     "output_type": "display_data"
    },
    {
     "name": "stdout",
     "output_type": "stream",
     "text": [
      "====> Test set loss: 7.3457 (BCE: 6.1280, KLD: 0.9500 Fuzzy: 0.2677 Accuracy 0.9693)\n",
      "Epoch 20/50\n"
     ]
    },
    {
     "data": {
      "application/vnd.jupyter.widget-view+json": {
       "model_id": "77e904020fd94d2bb4a963250f5bdf9b",
       "version_major": 2,
       "version_minor": 0
      },
      "text/plain": [
       "  0%|          | 0/235 [00:00<?, ?it/s]"
      ]
     },
     "metadata": {},
     "output_type": "display_data"
    },
    {
     "name": "stdout",
     "output_type": "stream",
     "text": [
      "Step 4,500 (N samples: 1,152,000), Loss: 7.4869 (Recon: 6.2700, KL: 0.9243 Fuzzy: 0.2926) Grad: 2.5639\n",
      "Step 4,600 (N samples: 1,177,600), Loss: 7.3903 (Recon: 6.1232, KL: 0.9427 Fuzzy: 0.3243) Grad: 2.5216\n"
     ]
    },
    {
     "data": {
      "application/vnd.jupyter.widget-view+json": {
       "model_id": "ff1b6a54d14c4f43a0ea9ab8e04ff70c",
       "version_major": 2,
       "version_minor": 0
      },
      "text/plain": [
       "Testing:   0%|          | 0/40 [00:00<?, ?it/s]"
      ]
     },
     "metadata": {},
     "output_type": "display_data"
    },
    {
     "name": "stdout",
     "output_type": "stream",
     "text": [
      "====> Test set loss: 7.3254 (BCE: 6.1127, KLD: 0.9486 Fuzzy: 0.2641 Accuracy 0.9708)\n",
      "Epoch 21/50\n"
     ]
    },
    {
     "data": {
      "application/vnd.jupyter.widget-view+json": {
       "model_id": "b08d75ad6bab482da3361029ba665428",
       "version_major": 2,
       "version_minor": 0
      },
      "text/plain": [
       "  0%|          | 0/235 [00:00<?, ?it/s]"
      ]
     },
     "metadata": {},
     "output_type": "display_data"
    },
    {
     "name": "stdout",
     "output_type": "stream",
     "text": [
      "Step 4,700 (N samples: 1,203,200), Loss: 7.5739 (Recon: 6.3296, KL: 0.9432 Fuzzy: 0.3011) Grad: 2.1595\n",
      "Step 4,800 (N samples: 1,228,800), Loss: 7.4857 (Recon: 6.2678, KL: 0.9335 Fuzzy: 0.2844) Grad: 2.0198\n",
      "Step 4,900 (N samples: 1,254,400), Loss: 7.3108 (Recon: 6.0527, KL: 0.9908 Fuzzy: 0.2673) Grad: 1.9726\n"
     ]
    },
    {
     "data": {
      "application/vnd.jupyter.widget-view+json": {
       "model_id": "59eacbe052e445db802213b60fa0bda3",
       "version_major": 2,
       "version_minor": 0
      },
      "text/plain": [
       "Testing:   0%|          | 0/40 [00:00<?, ?it/s]"
      ]
     },
     "metadata": {},
     "output_type": "display_data"
    },
    {
     "name": "stdout",
     "output_type": "stream",
     "text": [
      "====> Test set loss: 7.3289 (BCE: 6.1224, KLD: 0.9375 Fuzzy: 0.2690 Accuracy 0.9695)\n",
      "Epoch 22/50\n"
     ]
    },
    {
     "data": {
      "application/vnd.jupyter.widget-view+json": {
       "model_id": "848aa3ff22184e369b3e963819ee7aff",
       "version_major": 2,
       "version_minor": 0
      },
      "text/plain": [
       "  0%|          | 0/235 [00:00<?, ?it/s]"
      ]
     },
     "metadata": {},
     "output_type": "display_data"
    },
    {
     "name": "stdout",
     "output_type": "stream",
     "text": [
      "Step 5,000 (N samples: 1,280,000), Loss: 7.4386 (Recon: 6.1959, KL: 0.9699 Fuzzy: 0.2728) Grad: 1.7973\n",
      "Step 5,100 (N samples: 1,305,600), Loss: 7.3366 (Recon: 6.0884, KL: 0.9719 Fuzzy: 0.2764) Grad: 1.5880\n"
     ]
    },
    {
     "data": {
      "application/vnd.jupyter.widget-view+json": {
       "model_id": "37531a4308cb4665b235ff7a5149aaa3",
       "version_major": 2,
       "version_minor": 0
      },
      "text/plain": [
       "Testing:   0%|          | 0/40 [00:00<?, ?it/s]"
      ]
     },
     "metadata": {},
     "output_type": "display_data"
    },
    {
     "name": "stdout",
     "output_type": "stream",
     "text": [
      "====> Test set loss: 7.3261 (BCE: 6.1077, KLD: 0.9526 Fuzzy: 0.2658 Accuracy 0.9723)\n",
      "Epoch 23/50\n"
     ]
    },
    {
     "data": {
      "application/vnd.jupyter.widget-view+json": {
       "model_id": "8b504463f8df4cd8a1f4212c675a8fed",
       "version_major": 2,
       "version_minor": 0
      },
      "text/plain": [
       "  0%|          | 0/235 [00:00<?, ?it/s]"
      ]
     },
     "metadata": {},
     "output_type": "display_data"
    },
    {
     "name": "stdout",
     "output_type": "stream",
     "text": [
      "Step 5,200 (N samples: 1,331,200), Loss: 7.3333 (Recon: 6.1168, KL: 0.9401 Fuzzy: 0.2764) Grad: 2.0571\n",
      "Step 5,300 (N samples: 1,356,800), Loss: 7.3908 (Recon: 6.1719, KL: 0.9578 Fuzzy: 0.2612) Grad: 2.2853\n",
      "Step 5,400 (N samples: 1,382,400), Loss: 7.5016 (Recon: 6.2195, KL: 0.9577 Fuzzy: 0.3243) Grad: 2.3395\n"
     ]
    },
    {
     "data": {
      "application/vnd.jupyter.widget-view+json": {
       "model_id": "51d2ae8dacf6441d8f29694ce07a5308",
       "version_major": 2,
       "version_minor": 0
      },
      "text/plain": [
       "Testing:   0%|          | 0/40 [00:00<?, ?it/s]"
      ]
     },
     "metadata": {},
     "output_type": "display_data"
    },
    {
     "name": "stdout",
     "output_type": "stream",
     "text": [
      "====> Test set loss: 7.3309 (BCE: 6.1168, KLD: 0.9540 Fuzzy: 0.2601 Accuracy 0.9704)\n",
      "Epoch 24/50\n"
     ]
    },
    {
     "data": {
      "application/vnd.jupyter.widget-view+json": {
       "model_id": "49257de64df44b70b5d1daf25e16edae",
       "version_major": 2,
       "version_minor": 0
      },
      "text/plain": [
       "  0%|          | 0/235 [00:00<?, ?it/s]"
      ]
     },
     "metadata": {},
     "output_type": "display_data"
    },
    {
     "name": "stdout",
     "output_type": "stream",
     "text": [
      "Step 5,500 (N samples: 1,408,000), Loss: 7.5008 (Recon: 6.2997, KL: 0.9366 Fuzzy: 0.2646) Grad: 1.5207\n",
      "Step 5,600 (N samples: 1,433,600), Loss: 7.4027 (Recon: 6.1749, KL: 0.9621 Fuzzy: 0.2657) Grad: 1.6952\n"
     ]
    },
    {
     "data": {
      "application/vnd.jupyter.widget-view+json": {
       "model_id": "0c8f3c2823944d76bb334aa22eef104c",
       "version_major": 2,
       "version_minor": 0
      },
      "text/plain": [
       "Testing:   0%|          | 0/40 [00:00<?, ?it/s]"
      ]
     },
     "metadata": {},
     "output_type": "display_data"
    },
    {
     "name": "stdout",
     "output_type": "stream",
     "text": [
      "====> Test set loss: 7.3267 (BCE: 6.1145, KLD: 0.9543 Fuzzy: 0.2578 Accuracy 0.9730)\n",
      "Epoch 25/50\n"
     ]
    },
    {
     "data": {
      "application/vnd.jupyter.widget-view+json": {
       "model_id": "9dc0319171ab441587f1e7b01cfc0e7c",
       "version_major": 2,
       "version_minor": 0
      },
      "text/plain": [
       "  0%|          | 0/235 [00:00<?, ?it/s]"
      ]
     },
     "metadata": {},
     "output_type": "display_data"
    },
    {
     "name": "stdout",
     "output_type": "stream",
     "text": [
      "Step 5,700 (N samples: 1,459,200), Loss: 7.5951 (Recon: 6.3263, KL: 0.9535 Fuzzy: 0.3153) Grad: 2.1536\n",
      "Step 5,800 (N samples: 1,484,800), Loss: 7.4371 (Recon: 6.1709, KL: 0.9806 Fuzzy: 0.2857) Grad: 1.6904\n"
     ]
    },
    {
     "data": {
      "application/vnd.jupyter.widget-view+json": {
       "model_id": "0234784462064a69b928fbc61c9f5433",
       "version_major": 2,
       "version_minor": 0
      },
      "text/plain": [
       "Testing:   0%|          | 0/40 [00:00<?, ?it/s]"
      ]
     },
     "metadata": {},
     "output_type": "display_data"
    },
    {
     "name": "stdout",
     "output_type": "stream",
     "text": [
      "====> Test set loss: 7.3442 (BCE: 6.1326, KLD: 0.9382 Fuzzy: 0.2734 Accuracy 0.9700)\n",
      "Epoch 26/50\n"
     ]
    },
    {
     "data": {
      "application/vnd.jupyter.widget-view+json": {
       "model_id": "38142f8e4fd94675ac5a561ccb7130ff",
       "version_major": 2,
       "version_minor": 0
      },
      "text/plain": [
       "  0%|          | 0/235 [00:00<?, ?it/s]"
      ]
     },
     "metadata": {},
     "output_type": "display_data"
    },
    {
     "name": "stdout",
     "output_type": "stream",
     "text": [
      "Step 5,900 (N samples: 1,510,400), Loss: 7.4110 (Recon: 6.1602, KL: 0.9632 Fuzzy: 0.2876) Grad: 2.3867\n",
      "Step 6,000 (N samples: 1,536,000), Loss: 7.0649 (Recon: 5.8647, KL: 0.9538 Fuzzy: 0.2464) Grad: 2.0921\n",
      "Step 6,100 (N samples: 1,561,600), Loss: 7.5064 (Recon: 6.2659, KL: 0.9921 Fuzzy: 0.2483) Grad: 2.1922\n"
     ]
    },
    {
     "data": {
      "application/vnd.jupyter.widget-view+json": {
       "model_id": "5b11bfc260c54b6e9bf9a7b9686eefd8",
       "version_major": 2,
       "version_minor": 0
      },
      "text/plain": [
       "Testing:   0%|          | 0/40 [00:00<?, ?it/s]"
      ]
     },
     "metadata": {},
     "output_type": "display_data"
    },
    {
     "name": "stdout",
     "output_type": "stream",
     "text": [
      "====> Test set loss: 7.3401 (BCE: 6.1250, KLD: 0.9440 Fuzzy: 0.2711 Accuracy 0.9723)\n",
      "Epoch 27/50\n"
     ]
    },
    {
     "data": {
      "application/vnd.jupyter.widget-view+json": {
       "model_id": "6836690dd34b4718a4b421940777f430",
       "version_major": 2,
       "version_minor": 0
      },
      "text/plain": [
       "  0%|          | 0/235 [00:00<?, ?it/s]"
      ]
     },
     "metadata": {},
     "output_type": "display_data"
    },
    {
     "name": "stdout",
     "output_type": "stream",
     "text": [
      "Step 6,200 (N samples: 1,587,200), Loss: 7.6249 (Recon: 6.2875, KL: 1.0016 Fuzzy: 0.3358) Grad: 3.1282\n",
      "Step 6,300 (N samples: 1,612,800), Loss: 7.7421 (Recon: 6.3820, KL: 0.9910 Fuzzy: 0.3691) Grad: 3.7105\n"
     ]
    },
    {
     "data": {
      "application/vnd.jupyter.widget-view+json": {
       "model_id": "1e1f8e586b8b4aadb82030070729f1e0",
       "version_major": 2,
       "version_minor": 0
      },
      "text/plain": [
       "Testing:   0%|          | 0/40 [00:00<?, ?it/s]"
      ]
     },
     "metadata": {},
     "output_type": "display_data"
    },
    {
     "name": "stdout",
     "output_type": "stream",
     "text": [
      "====> Test set loss: 7.3184 (BCE: 6.0979, KLD: 0.9657 Fuzzy: 0.2547 Accuracy 0.9717)\n",
      "Epoch 28/50\n"
     ]
    },
    {
     "data": {
      "application/vnd.jupyter.widget-view+json": {
       "model_id": "adf153e42d034f84944c63b9491706f0",
       "version_major": 2,
       "version_minor": 0
      },
      "text/plain": [
       "  0%|          | 0/235 [00:00<?, ?it/s]"
      ]
     },
     "metadata": {},
     "output_type": "display_data"
    },
    {
     "name": "stdout",
     "output_type": "stream",
     "text": [
      "Step 6,400 (N samples: 1,638,400), Loss: 7.3509 (Recon: 6.0480, KL: 0.9951 Fuzzy: 0.3079) Grad: 2.7875\n",
      "Step 6,500 (N samples: 1,664,000), Loss: 7.2305 (Recon: 5.9608, KL: 1.0032 Fuzzy: 0.2665) Grad: 2.2138\n"
     ]
    },
    {
     "data": {
      "application/vnd.jupyter.widget-view+json": {
       "model_id": "52e0b01a7e374a37a319a944c623afa4",
       "version_major": 2,
       "version_minor": 0
      },
      "text/plain": [
       "Testing:   0%|          | 0/40 [00:00<?, ?it/s]"
      ]
     },
     "metadata": {},
     "output_type": "display_data"
    },
    {
     "name": "stdout",
     "output_type": "stream",
     "text": [
      "====> Test set loss: 7.3278 (BCE: 6.1049, KLD: 0.9731 Fuzzy: 0.2498 Accuracy 0.9719)\n",
      "Epoch 29/50\n"
     ]
    },
    {
     "data": {
      "application/vnd.jupyter.widget-view+json": {
       "model_id": "400361923aaf4633a1c19fd796f84c84",
       "version_major": 2,
       "version_minor": 0
      },
      "text/plain": [
       "  0%|          | 0/235 [00:00<?, ?it/s]"
      ]
     },
     "metadata": {},
     "output_type": "display_data"
    },
    {
     "name": "stdout",
     "output_type": "stream",
     "text": [
      "Step 6,600 (N samples: 1,689,600), Loss: 7.4342 (Recon: 6.1892, KL: 0.9852 Fuzzy: 0.2597) Grad: 2.0617\n",
      "Step 6,700 (N samples: 1,715,200), Loss: 7.1481 (Recon: 5.8529, KL: 0.9986 Fuzzy: 0.2966) Grad: 2.2267\n",
      "Step 6,800 (N samples: 1,740,800), Loss: 7.2985 (Recon: 6.0353, KL: 0.9771 Fuzzy: 0.2862) Grad: 2.2457\n"
     ]
    },
    {
     "data": {
      "application/vnd.jupyter.widget-view+json": {
       "model_id": "76e75f3ad884469c97183890e8845f70",
       "version_major": 2,
       "version_minor": 0
      },
      "text/plain": [
       "Testing:   0%|          | 0/40 [00:00<?, ?it/s]"
      ]
     },
     "metadata": {},
     "output_type": "display_data"
    },
    {
     "name": "stdout",
     "output_type": "stream",
     "text": [
      "====> Test set loss: 7.3044 (BCE: 6.0701, KLD: 0.9732 Fuzzy: 0.2611 Accuracy 0.9720)\n",
      "Epoch 30/50\n"
     ]
    },
    {
     "data": {
      "application/vnd.jupyter.widget-view+json": {
       "model_id": "1ae333d3b5c54fd6a847835b750ada9a",
       "version_major": 2,
       "version_minor": 0
      },
      "text/plain": [
       "  0%|          | 0/235 [00:00<?, ?it/s]"
      ]
     },
     "metadata": {},
     "output_type": "display_data"
    },
    {
     "name": "stdout",
     "output_type": "stream",
     "text": [
      "Step 6,900 (N samples: 1,766,400), Loss: 7.3549 (Recon: 6.1375, KL: 0.9820 Fuzzy: 0.2354) Grad: 1.3654\n",
      "Step 7,000 (N samples: 1,792,000), Loss: 7.2587 (Recon: 5.9805, KL: 1.0151 Fuzzy: 0.2631) Grad: 2.3490\n"
     ]
    },
    {
     "data": {
      "application/vnd.jupyter.widget-view+json": {
       "model_id": "147cf381c590465994bda0917ec8a9ca",
       "version_major": 2,
       "version_minor": 0
      },
      "text/plain": [
       "Testing:   0%|          | 0/40 [00:00<?, ?it/s]"
      ]
     },
     "metadata": {},
     "output_type": "display_data"
    },
    {
     "name": "stdout",
     "output_type": "stream",
     "text": [
      "====> Test set loss: 7.2792 (BCE: 6.0330, KLD: 0.9915 Fuzzy: 0.2547 Accuracy 0.9720)\n",
      "Epoch 31/50\n"
     ]
    },
    {
     "data": {
      "application/vnd.jupyter.widget-view+json": {
       "model_id": "c9e982e71544471aaa355ac3d76f5a4c",
       "version_major": 2,
       "version_minor": 0
      },
      "text/plain": [
       "  0%|          | 0/235 [00:00<?, ?it/s]"
      ]
     },
     "metadata": {},
     "output_type": "display_data"
    },
    {
     "name": "stdout",
     "output_type": "stream",
     "text": [
      "Step 7,100 (N samples: 1,817,600), Loss: 7.2570 (Recon: 5.9846, KL: 1.0157 Fuzzy: 0.2566) Grad: 2.0524\n",
      "Step 7,200 (N samples: 1,843,200), Loss: 7.3726 (Recon: 6.1022, KL: 0.9996 Fuzzy: 0.2708) Grad: 2.2763\n"
     ]
    },
    {
     "data": {
      "application/vnd.jupyter.widget-view+json": {
       "model_id": "271854cf04af4de28b2c57a919a6dee5",
       "version_major": 2,
       "version_minor": 0
      },
      "text/plain": [
       "Testing:   0%|          | 0/40 [00:00<?, ?it/s]"
      ]
     },
     "metadata": {},
     "output_type": "display_data"
    },
    {
     "name": "stdout",
     "output_type": "stream",
     "text": [
      "====> Test set loss: 7.2990 (BCE: 6.0449, KLD: 1.0027 Fuzzy: 0.2514 Accuracy 0.9718)\n",
      "Epoch 32/50\n"
     ]
    },
    {
     "data": {
      "application/vnd.jupyter.widget-view+json": {
       "model_id": "dbf53327811e4d3ea088eb5ea469614b",
       "version_major": 2,
       "version_minor": 0
      },
      "text/plain": [
       "  0%|          | 0/235 [00:00<?, ?it/s]"
      ]
     },
     "metadata": {},
     "output_type": "display_data"
    },
    {
     "name": "stdout",
     "output_type": "stream",
     "text": [
      "Step 7,300 (N samples: 1,868,800), Loss: 7.3315 (Recon: 6.0074, KL: 1.0313 Fuzzy: 0.2928) Grad: 2.8448\n",
      "Step 7,400 (N samples: 1,894,400), Loss: 7.6537 (Recon: 6.3630, KL: 1.0017 Fuzzy: 0.2890) Grad: 2.4493\n",
      "Step 7,500 (N samples: 1,920,000), Loss: 7.3163 (Recon: 6.0328, KL: 0.9952 Fuzzy: 0.2882) Grad: 2.0484\n"
     ]
    },
    {
     "data": {
      "application/vnd.jupyter.widget-view+json": {
       "model_id": "d9aaec99fc2c427db1e826409ecb9700",
       "version_major": 2,
       "version_minor": 0
      },
      "text/plain": [
       "Testing:   0%|          | 0/40 [00:00<?, ?it/s]"
      ]
     },
     "metadata": {},
     "output_type": "display_data"
    },
    {
     "name": "stdout",
     "output_type": "stream",
     "text": [
      "====> Test set loss: 7.2860 (BCE: 6.0620, KLD: 0.9765 Fuzzy: 0.2474 Accuracy 0.9727)\n",
      "Epoch 33/50\n"
     ]
    },
    {
     "data": {
      "application/vnd.jupyter.widget-view+json": {
       "model_id": "3f243360b63241319f9669acc9043035",
       "version_major": 2,
       "version_minor": 0
      },
      "text/plain": [
       "  0%|          | 0/235 [00:00<?, ?it/s]"
      ]
     },
     "metadata": {},
     "output_type": "display_data"
    },
    {
     "name": "stdout",
     "output_type": "stream",
     "text": [
      "Step 7,600 (N samples: 1,945,600), Loss: 7.4494 (Recon: 6.1642, KL: 1.0172 Fuzzy: 0.2680) Grad: 1.7870\n",
      "Step 7,700 (N samples: 1,971,200), Loss: 7.4284 (Recon: 6.1762, KL: 1.0133 Fuzzy: 0.2389) Grad: 1.8766\n"
     ]
    },
    {
     "data": {
      "application/vnd.jupyter.widget-view+json": {
       "model_id": "8e308c0017aa44daa61035f23fe536dd",
       "version_major": 2,
       "version_minor": 0
      },
      "text/plain": [
       "Testing:   0%|          | 0/40 [00:00<?, ?it/s]"
      ]
     },
     "metadata": {},
     "output_type": "display_data"
    },
    {
     "name": "stdout",
     "output_type": "stream",
     "text": [
      "====> Test set loss: 7.2826 (BCE: 6.0184, KLD: 1.0087 Fuzzy: 0.2554 Accuracy 0.9721)\n",
      "Epoch 34/50\n"
     ]
    },
    {
     "data": {
      "application/vnd.jupyter.widget-view+json": {
       "model_id": "49a93e17fce241ff99adecdd7412f325",
       "version_major": 2,
       "version_minor": 0
      },
      "text/plain": [
       "  0%|          | 0/235 [00:00<?, ?it/s]"
      ]
     },
     "metadata": {},
     "output_type": "display_data"
    },
    {
     "name": "stdout",
     "output_type": "stream",
     "text": [
      "Step 7,800 (N samples: 1,996,800), Loss: 7.3218 (Recon: 6.0515, KL: 0.9778 Fuzzy: 0.2925) Grad: 1.8746\n",
      "Step 7,900 (N samples: 2,022,400), Loss: 7.4994 (Recon: 6.2324, KL: 1.0091 Fuzzy: 0.2580) Grad: 1.8505\n"
     ]
    },
    {
     "data": {
      "application/vnd.jupyter.widget-view+json": {
       "model_id": "ff2cc6b68a724ba7b195d9f19f822467",
       "version_major": 2,
       "version_minor": 0
      },
      "text/plain": [
       "Testing:   0%|          | 0/40 [00:00<?, ?it/s]"
      ]
     },
     "metadata": {},
     "output_type": "display_data"
    },
    {
     "name": "stdout",
     "output_type": "stream",
     "text": [
      "====> Test set loss: 7.2904 (BCE: 6.0078, KLD: 1.0326 Fuzzy: 0.2501 Accuracy 0.9735)\n",
      "Epoch 35/50\n"
     ]
    },
    {
     "data": {
      "application/vnd.jupyter.widget-view+json": {
       "model_id": "c9667adacd0c4ff98368a59e78f18b12",
       "version_major": 2,
       "version_minor": 0
      },
      "text/plain": [
       "  0%|          | 0/235 [00:00<?, ?it/s]"
      ]
     },
     "metadata": {},
     "output_type": "display_data"
    },
    {
     "name": "stdout",
     "output_type": "stream",
     "text": [
      "Step 8,000 (N samples: 2,048,000), Loss: 7.3450 (Recon: 6.0976, KL: 0.9895 Fuzzy: 0.2579) Grad: 1.9938\n",
      "Step 8,100 (N samples: 2,073,600), Loss: 7.1615 (Recon: 5.8791, KL: 1.0242 Fuzzy: 0.2582) Grad: 2.4243\n",
      "Step 8,200 (N samples: 2,099,200), Loss: 7.0604 (Recon: 5.7816, KL: 1.0189 Fuzzy: 0.2600) Grad: 1.2956\n"
     ]
    },
    {
     "data": {
      "application/vnd.jupyter.widget-view+json": {
       "model_id": "88e72254f8f545dbaf4d8e803be11138",
       "version_major": 2,
       "version_minor": 0
      },
      "text/plain": [
       "Testing:   0%|          | 0/40 [00:00<?, ?it/s]"
      ]
     },
     "metadata": {},
     "output_type": "display_data"
    },
    {
     "name": "stdout",
     "output_type": "stream",
     "text": [
      "====> Test set loss: 7.2897 (BCE: 6.0270, KLD: 1.0119 Fuzzy: 0.2508 Accuracy 0.9744)\n",
      "Epoch 36/50\n"
     ]
    },
    {
     "data": {
      "application/vnd.jupyter.widget-view+json": {
       "model_id": "5dbdeed4bbd741aaa5e9abff12a89164",
       "version_major": 2,
       "version_minor": 0
      },
      "text/plain": [
       "  0%|          | 0/235 [00:00<?, ?it/s]"
      ]
     },
     "metadata": {},
     "output_type": "display_data"
    },
    {
     "name": "stdout",
     "output_type": "stream",
     "text": [
      "Step 8,300 (N samples: 2,124,800), Loss: 7.2897 (Recon: 6.0208, KL: 1.0001 Fuzzy: 0.2688) Grad: 2.2198\n",
      "Step 8,400 (N samples: 2,150,400), Loss: 7.6875 (Recon: 6.2697, KL: 1.0570 Fuzzy: 0.3607) Grad: 3.4183\n"
     ]
    },
    {
     "data": {
      "application/vnd.jupyter.widget-view+json": {
       "model_id": "52e4d0b0ff8c475cbdb7c12e5398cb44",
       "version_major": 2,
       "version_minor": 0
      },
      "text/plain": [
       "Testing:   0%|          | 0/40 [00:00<?, ?it/s]"
      ]
     },
     "metadata": {},
     "output_type": "display_data"
    },
    {
     "name": "stdout",
     "output_type": "stream",
     "text": [
      "====> Test set loss: 7.2723 (BCE: 6.0023, KLD: 1.0244 Fuzzy: 0.2457 Accuracy 0.9732)\n",
      "Epoch 37/50\n"
     ]
    },
    {
     "data": {
      "application/vnd.jupyter.widget-view+json": {
       "model_id": "83ec1306236949de91d9760b935ca79c",
       "version_major": 2,
       "version_minor": 0
      },
      "text/plain": [
       "  0%|          | 0/235 [00:00<?, ?it/s]"
      ]
     },
     "metadata": {},
     "output_type": "display_data"
    },
    {
     "name": "stdout",
     "output_type": "stream",
     "text": [
      "Step 8,500 (N samples: 2,176,000), Loss: 7.4695 (Recon: 6.1534, KL: 1.0189 Fuzzy: 0.2972) Grad: 2.8954\n",
      "Step 8,600 (N samples: 2,201,600), Loss: 7.3734 (Recon: 6.1238, KL: 1.0132 Fuzzy: 0.2364) Grad: 1.7265\n"
     ]
    },
    {
     "data": {
      "application/vnd.jupyter.widget-view+json": {
       "model_id": "70e694a867f245c6a6a2be60fab41742",
       "version_major": 2,
       "version_minor": 0
      },
      "text/plain": [
       "Testing:   0%|          | 0/40 [00:00<?, ?it/s]"
      ]
     },
     "metadata": {},
     "output_type": "display_data"
    },
    {
     "name": "stdout",
     "output_type": "stream",
     "text": [
      "====> Test set loss: 7.3243 (BCE: 6.0191, KLD: 1.0370 Fuzzy: 0.2682 Accuracy 0.9732)\n",
      "Epoch 38/50\n"
     ]
    },
    {
     "data": {
      "application/vnd.jupyter.widget-view+json": {
       "model_id": "e745cc11153041f59c57827e766b6a6a",
       "version_major": 2,
       "version_minor": 0
      },
      "text/plain": [
       "  0%|          | 0/235 [00:00<?, ?it/s]"
      ]
     },
     "metadata": {},
     "output_type": "display_data"
    },
    {
     "name": "stdout",
     "output_type": "stream",
     "text": [
      "Step 8,700 (N samples: 2,227,200), Loss: 7.4760 (Recon: 6.2009, KL: 1.0180 Fuzzy: 0.2571) Grad: 2.2004\n",
      "Step 8,800 (N samples: 2,252,800), Loss: 7.3369 (Recon: 6.0698, KL: 1.0025 Fuzzy: 0.2647) Grad: 1.9752\n",
      "Step 8,900 (N samples: 2,278,400), Loss: 7.3243 (Recon: 6.0289, KL: 1.0202 Fuzzy: 0.2751) Grad: 2.3372\n"
     ]
    },
    {
     "data": {
      "application/vnd.jupyter.widget-view+json": {
       "model_id": "279c7afebae142b9a4623e17cc7d58d6",
       "version_major": 2,
       "version_minor": 0
      },
      "text/plain": [
       "Testing:   0%|          | 0/40 [00:00<?, ?it/s]"
      ]
     },
     "metadata": {},
     "output_type": "display_data"
    },
    {
     "name": "stdout",
     "output_type": "stream",
     "text": [
      "====> Test set loss: 7.2812 (BCE: 5.9883, KLD: 1.0327 Fuzzy: 0.2602 Accuracy 0.9744)\n",
      "Epoch 39/50\n"
     ]
    },
    {
     "data": {
      "application/vnd.jupyter.widget-view+json": {
       "model_id": "82965875395b4999970dcaf1505ff066",
       "version_major": 2,
       "version_minor": 0
      },
      "text/plain": [
       "  0%|          | 0/235 [00:00<?, ?it/s]"
      ]
     },
     "metadata": {},
     "output_type": "display_data"
    },
    {
     "name": "stdout",
     "output_type": "stream",
     "text": [
      "Step 9,000 (N samples: 2,304,000), Loss: 7.3007 (Recon: 6.0076, KL: 1.0486 Fuzzy: 0.2445) Grad: 2.2135\n",
      "Step 9,100 (N samples: 2,329,600), Loss: 7.3499 (Recon: 6.0216, KL: 1.0668 Fuzzy: 0.2615) Grad: 1.8083\n"
     ]
    },
    {
     "data": {
      "application/vnd.jupyter.widget-view+json": {
       "model_id": "1b74532c62874cafbc66f43986d1a40c",
       "version_major": 2,
       "version_minor": 0
      },
      "text/plain": [
       "Testing:   0%|          | 0/40 [00:00<?, ?it/s]"
      ]
     },
     "metadata": {},
     "output_type": "display_data"
    },
    {
     "name": "stdout",
     "output_type": "stream",
     "text": [
      "====> Test set loss: 7.2854 (BCE: 6.0123, KLD: 1.0270 Fuzzy: 0.2460 Accuracy 0.9754)\n",
      "Epoch 40/50\n"
     ]
    },
    {
     "data": {
      "application/vnd.jupyter.widget-view+json": {
       "model_id": "1e57a1821bc54c348eec276c258a4094",
       "version_major": 2,
       "version_minor": 0
      },
      "text/plain": [
       "  0%|          | 0/235 [00:00<?, ?it/s]"
      ]
     },
     "metadata": {},
     "output_type": "display_data"
    },
    {
     "name": "stdout",
     "output_type": "stream",
     "text": [
      "Step 9,200 (N samples: 2,355,200), Loss: 7.2959 (Recon: 5.9985, KL: 1.0460 Fuzzy: 0.2514) Grad: 2.0925\n",
      "Step 9,300 (N samples: 2,380,800), Loss: 7.5747 (Recon: 6.2293, KL: 1.0417 Fuzzy: 0.3037) Grad: 2.8367\n"
     ]
    },
    {
     "data": {
      "application/vnd.jupyter.widget-view+json": {
       "model_id": "03e3265b9bd841709458a30e3021269f",
       "version_major": 2,
       "version_minor": 0
      },
      "text/plain": [
       "Testing:   0%|          | 0/40 [00:00<?, ?it/s]"
      ]
     },
     "metadata": {},
     "output_type": "display_data"
    },
    {
     "name": "stdout",
     "output_type": "stream",
     "text": [
      "====> Test set loss: 7.2734 (BCE: 5.9998, KLD: 1.0324 Fuzzy: 0.2412 Accuracy 0.9748)\n",
      "Epoch 41/50\n"
     ]
    },
    {
     "data": {
      "application/vnd.jupyter.widget-view+json": {
       "model_id": "ffbb9ec1882a4bc996be0fa30eb45b67",
       "version_major": 2,
       "version_minor": 0
      },
      "text/plain": [
       "  0%|          | 0/235 [00:00<?, ?it/s]"
      ]
     },
     "metadata": {},
     "output_type": "display_data"
    },
    {
     "name": "stdout",
     "output_type": "stream",
     "text": [
      "Step 9,400 (N samples: 2,406,400), Loss: 7.5163 (Recon: 6.1627, KL: 1.0541 Fuzzy: 0.2995) Grad: 2.8540\n",
      "Step 9,500 (N samples: 2,432,000), Loss: 7.3856 (Recon: 6.0841, KL: 1.0476 Fuzzy: 0.2539) Grad: 2.0883\n",
      "Step 9,600 (N samples: 2,457,600), Loss: 7.3402 (Recon: 6.0693, KL: 1.0258 Fuzzy: 0.2452) Grad: 2.1225\n"
     ]
    },
    {
     "data": {
      "application/vnd.jupyter.widget-view+json": {
       "model_id": "3927e51236aa4247b00280d8cf0b97df",
       "version_major": 2,
       "version_minor": 0
      },
      "text/plain": [
       "Testing:   0%|          | 0/40 [00:00<?, ?it/s]"
      ]
     },
     "metadata": {},
     "output_type": "display_data"
    },
    {
     "name": "stdout",
     "output_type": "stream",
     "text": [
      "====> Test set loss: 7.2922 (BCE: 6.0092, KLD: 1.0350 Fuzzy: 0.2480 Accuracy 0.9751)\n",
      "Epoch 42/50\n"
     ]
    },
    {
     "data": {
      "application/vnd.jupyter.widget-view+json": {
       "model_id": "196357eb3082444186e8ef96c2faba00",
       "version_major": 2,
       "version_minor": 0
      },
      "text/plain": [
       "  0%|          | 0/235 [00:00<?, ?it/s]"
      ]
     },
     "metadata": {},
     "output_type": "display_data"
    },
    {
     "name": "stdout",
     "output_type": "stream",
     "text": [
      "Step 9,700 (N samples: 2,483,200), Loss: 7.6023 (Recon: 6.2652, KL: 1.0716 Fuzzy: 0.2654) Grad: 1.6361\n",
      "Step 9,800 (N samples: 2,508,800), Loss: 7.1519 (Recon: 5.8805, KL: 1.0451 Fuzzy: 0.2263) Grad: 1.5559\n"
     ]
    },
    {
     "data": {
      "application/vnd.jupyter.widget-view+json": {
       "model_id": "e138d068cf4b4be7b641e7db453458d0",
       "version_major": 2,
       "version_minor": 0
      },
      "text/plain": [
       "Testing:   0%|          | 0/40 [00:00<?, ?it/s]"
      ]
     },
     "metadata": {},
     "output_type": "display_data"
    },
    {
     "name": "stdout",
     "output_type": "stream",
     "text": [
      "====> Test set loss: 7.2731 (BCE: 5.9883, KLD: 1.0399 Fuzzy: 0.2449 Accuracy 0.9734)\n",
      "Epoch 43/50\n"
     ]
    },
    {
     "data": {
      "application/vnd.jupyter.widget-view+json": {
       "model_id": "303e9aabe5fc4252bc0b1490e618b71d",
       "version_major": 2,
       "version_minor": 0
      },
      "text/plain": [
       "  0%|          | 0/235 [00:00<?, ?it/s]"
      ]
     },
     "metadata": {},
     "output_type": "display_data"
    },
    {
     "name": "stdout",
     "output_type": "stream",
     "text": [
      "Step 9,900 (N samples: 2,534,400), Loss: 7.1968 (Recon: 5.9047, KL: 1.0584 Fuzzy: 0.2338) Grad: 1.6685\n",
      "Step 10,000 (N samples: 2,560,000), Loss: 7.3059 (Recon: 5.9687, KL: 1.0582 Fuzzy: 0.2790) Grad: 2.5357\n",
      "Step 10,100 (N samples: 2,585,600), Loss: 7.4346 (Recon: 6.1318, KL: 1.0095 Fuzzy: 0.2933) Grad: 2.3564\n"
     ]
    },
    {
     "data": {
      "application/vnd.jupyter.widget-view+json": {
       "model_id": "d86cc46fe96c45ca8c4fcd5b76270f1a",
       "version_major": 2,
       "version_minor": 0
      },
      "text/plain": [
       "Testing:   0%|          | 0/40 [00:00<?, ?it/s]"
      ]
     },
     "metadata": {},
     "output_type": "display_data"
    },
    {
     "name": "stdout",
     "output_type": "stream",
     "text": [
      "====> Test set loss: 7.2839 (BCE: 6.0118, KLD: 1.0189 Fuzzy: 0.2531 Accuracy 0.9745)\n",
      "Epoch 44/50\n"
     ]
    },
    {
     "data": {
      "application/vnd.jupyter.widget-view+json": {
       "model_id": "a0f911f83b1345deadab8515bd772e96",
       "version_major": 2,
       "version_minor": 0
      },
      "text/plain": [
       "  0%|          | 0/235 [00:00<?, ?it/s]"
      ]
     },
     "metadata": {},
     "output_type": "display_data"
    },
    {
     "name": "stdout",
     "output_type": "stream",
     "text": [
      "Step 10,200 (N samples: 2,611,200), Loss: 7.3479 (Recon: 6.0226, KL: 1.0465 Fuzzy: 0.2788) Grad: 2.2451\n",
      "Step 10,300 (N samples: 2,636,800), Loss: 7.4896 (Recon: 6.1939, KL: 1.0510 Fuzzy: 0.2447) Grad: 1.9374\n"
     ]
    },
    {
     "data": {
      "application/vnd.jupyter.widget-view+json": {
       "model_id": "d489fe7e4a264bf7a33d2a95efe3194d",
       "version_major": 2,
       "version_minor": 0
      },
      "text/plain": [
       "Testing:   0%|          | 0/40 [00:00<?, ?it/s]"
      ]
     },
     "metadata": {},
     "output_type": "display_data"
    },
    {
     "name": "stdout",
     "output_type": "stream",
     "text": [
      "====> Test set loss: 7.2896 (BCE: 6.0115, KLD: 1.0321 Fuzzy: 0.2460 Accuracy 0.9756)\n",
      "Epoch 45/50\n"
     ]
    },
    {
     "data": {
      "application/vnd.jupyter.widget-view+json": {
       "model_id": "b907d848df7444f4bd84a72b25dd5d3e",
       "version_major": 2,
       "version_minor": 0
      },
      "text/plain": [
       "  0%|          | 0/235 [00:00<?, ?it/s]"
      ]
     },
     "metadata": {},
     "output_type": "display_data"
    },
    {
     "name": "stdout",
     "output_type": "stream",
     "text": [
      "Step 10,400 (N samples: 2,662,400), Loss: 7.1635 (Recon: 5.8782, KL: 1.0649 Fuzzy: 0.2204) Grad: 1.8639\n",
      "Step 10,500 (N samples: 2,688,000), Loss: 7.3359 (Recon: 5.9267, KL: 1.0796 Fuzzy: 0.3295) Grad: 2.9553\n"
     ]
    },
    {
     "data": {
      "application/vnd.jupyter.widget-view+json": {
       "model_id": "fd282b7e9ef3496596fdf67d033bb383",
       "version_major": 2,
       "version_minor": 0
      },
      "text/plain": [
       "Testing:   0%|          | 0/40 [00:00<?, ?it/s]"
      ]
     },
     "metadata": {},
     "output_type": "display_data"
    },
    {
     "name": "stdout",
     "output_type": "stream",
     "text": [
      "====> Test set loss: 7.2597 (BCE: 5.9618, KLD: 1.0613 Fuzzy: 0.2367 Accuracy 0.9751)\n",
      "Epoch 46/50\n"
     ]
    },
    {
     "data": {
      "application/vnd.jupyter.widget-view+json": {
       "model_id": "fc4d680014a042a8b4440f8f21e4cb67",
       "version_major": 2,
       "version_minor": 0
      },
      "text/plain": [
       "  0%|          | 0/235 [00:00<?, ?it/s]"
      ]
     },
     "metadata": {},
     "output_type": "display_data"
    },
    {
     "name": "stdout",
     "output_type": "stream",
     "text": [
      "Step 10,600 (N samples: 2,713,600), Loss: 7.2557 (Recon: 5.9568, KL: 1.0501 Fuzzy: 0.2488) Grad: 1.4857\n",
      "Step 10,700 (N samples: 2,739,200), Loss: 7.3649 (Recon: 6.0905, KL: 1.0206 Fuzzy: 0.2539) Grad: 2.0735\n",
      "Step 10,800 (N samples: 2,764,800), Loss: 7.2325 (Recon: 5.9006, KL: 1.0970 Fuzzy: 0.2348) Grad: 1.5583\n"
     ]
    },
    {
     "data": {
      "application/vnd.jupyter.widget-view+json": {
       "model_id": "d20cb6f40160460b91c2e92265c43d50",
       "version_major": 2,
       "version_minor": 0
      },
      "text/plain": [
       "Testing:   0%|          | 0/40 [00:00<?, ?it/s]"
      ]
     },
     "metadata": {},
     "output_type": "display_data"
    },
    {
     "name": "stdout",
     "output_type": "stream",
     "text": [
      "====> Test set loss: 7.2923 (BCE: 6.0243, KLD: 1.0198 Fuzzy: 0.2483 Accuracy 0.9750)\n",
      "Epoch 47/50\n"
     ]
    },
    {
     "data": {
      "application/vnd.jupyter.widget-view+json": {
       "model_id": "af5ea67c8f9048fab59b2c4675ccff3c",
       "version_major": 2,
       "version_minor": 0
      },
      "text/plain": [
       "  0%|          | 0/235 [00:00<?, ?it/s]"
      ]
     },
     "metadata": {},
     "output_type": "display_data"
    },
    {
     "name": "stdout",
     "output_type": "stream",
     "text": [
      "Step 10,900 (N samples: 2,790,400), Loss: 7.4123 (Recon: 6.0771, KL: 1.0348 Fuzzy: 0.3004) Grad: 2.2003\n",
      "Step 11,000 (N samples: 2,816,000), Loss: 7.2851 (Recon: 5.9736, KL: 1.0595 Fuzzy: 0.2519) Grad: 1.6600\n"
     ]
    },
    {
     "data": {
      "application/vnd.jupyter.widget-view+json": {
       "model_id": "bdffd45a09ba4df58a992d7937d6195b",
       "version_major": 2,
       "version_minor": 0
      },
      "text/plain": [
       "Testing:   0%|          | 0/40 [00:00<?, ?it/s]"
      ]
     },
     "metadata": {},
     "output_type": "display_data"
    },
    {
     "name": "stdout",
     "output_type": "stream",
     "text": [
      "====> Test set loss: 7.2783 (BCE: 5.9975, KLD: 1.0382 Fuzzy: 0.2426 Accuracy 0.9754)\n",
      "Epoch 48/50\n"
     ]
    },
    {
     "data": {
      "application/vnd.jupyter.widget-view+json": {
       "model_id": "162dbc191a5243208d7a0a4d0d572031",
       "version_major": 2,
       "version_minor": 0
      },
      "text/plain": [
       "  0%|          | 0/235 [00:00<?, ?it/s]"
      ]
     },
     "metadata": {},
     "output_type": "display_data"
    },
    {
     "name": "stdout",
     "output_type": "stream",
     "text": [
      "Step 11,100 (N samples: 2,841,600), Loss: 7.3403 (Recon: 6.0450, KL: 1.0793 Fuzzy: 0.2160) Grad: 2.3146\n",
      "Step 11,200 (N samples: 2,867,200), Loss: 7.3944 (Recon: 6.0381, KL: 1.0627 Fuzzy: 0.2935) Grad: 2.2782\n"
     ]
    },
    {
     "data": {
      "application/vnd.jupyter.widget-view+json": {
       "model_id": "04a9f275766b4306925de44f0eeafc98",
       "version_major": 2,
       "version_minor": 0
      },
      "text/plain": [
       "Testing:   0%|          | 0/40 [00:00<?, ?it/s]"
      ]
     },
     "metadata": {},
     "output_type": "display_data"
    },
    {
     "name": "stdout",
     "output_type": "stream",
     "text": [
      "====> Test set loss: 7.2666 (BCE: 5.9833, KLD: 1.0433 Fuzzy: 0.2399 Accuracy 0.9756)\n",
      "Epoch 49/50\n"
     ]
    },
    {
     "data": {
      "application/vnd.jupyter.widget-view+json": {
       "model_id": "f136f4019d94402a9fb3649dd90a6810",
       "version_major": 2,
       "version_minor": 0
      },
      "text/plain": [
       "  0%|          | 0/235 [00:00<?, ?it/s]"
      ]
     },
     "metadata": {},
     "output_type": "display_data"
    },
    {
     "name": "stdout",
     "output_type": "stream",
     "text": [
      "Step 11,300 (N samples: 2,892,800), Loss: 7.2631 (Recon: 5.9586, KL: 1.0415 Fuzzy: 0.2630) Grad: 1.9870\n",
      "Step 11,400 (N samples: 2,918,400), Loss: 7.4321 (Recon: 6.1523, KL: 1.0466 Fuzzy: 0.2331) Grad: 1.9308\n",
      "Step 11,500 (N samples: 2,944,000), Loss: 7.4739 (Recon: 6.1833, KL: 1.0442 Fuzzy: 0.2463) Grad: 2.5428\n"
     ]
    },
    {
     "data": {
      "application/vnd.jupyter.widget-view+json": {
       "model_id": "13910f8ef8674069a846503b8dd7cede",
       "version_major": 2,
       "version_minor": 0
      },
      "text/plain": [
       "Testing:   0%|          | 0/40 [00:00<?, ?it/s]"
      ]
     },
     "metadata": {},
     "output_type": "display_data"
    },
    {
     "name": "stdout",
     "output_type": "stream",
     "text": [
      "====> Test set loss: 7.2602 (BCE: 5.9656, KLD: 1.0563 Fuzzy: 0.2383 Accuracy 0.9755)\n",
      "Epoch 50/50\n"
     ]
    },
    {
     "data": {
      "application/vnd.jupyter.widget-view+json": {
       "model_id": "417792da654a4b61a4977c205bb3f7df",
       "version_major": 2,
       "version_minor": 0
      },
      "text/plain": [
       "  0%|          | 0/235 [00:00<?, ?it/s]"
      ]
     },
     "metadata": {},
     "output_type": "display_data"
    },
    {
     "name": "stdout",
     "output_type": "stream",
     "text": [
      "Step 11,600 (N samples: 2,969,600), Loss: 7.3975 (Recon: 6.0506, KL: 1.0800 Fuzzy: 0.2668) Grad: 3.1544\n",
      "Step 11,700 (N samples: 2,995,200), Loss: 7.4858 (Recon: 6.1858, KL: 1.0389 Fuzzy: 0.2611) Grad: 1.5114\n"
     ]
    },
    {
     "data": {
      "application/vnd.jupyter.widget-view+json": {
       "model_id": "78e6739408a443a6b9d1505d0887a965",
       "version_major": 2,
       "version_minor": 0
      },
      "text/plain": [
       "Testing:   0%|          | 0/40 [00:00<?, ?it/s]"
      ]
     },
     "metadata": {},
     "output_type": "display_data"
    },
    {
     "name": "stdout",
     "output_type": "stream",
     "text": [
      "====> Test set loss: 7.2719 (BCE: 6.0005, KLD: 1.0258 Fuzzy: 0.2457 Accuracy 0.9757)\n"
     ]
    }
   ],
   "source": [
    "prev_updates = 0\n",
    "for epoch in range(num_epochs):\n",
    "    print(f'Epoch {epoch+1}/{num_epochs}')\n",
    "    prev_updates = train(model, train_loader, optimizer, prev_updates, writer=writer)\n",
    "    test(model, test_loader, prev_updates, writer=writer)"
   ]
  },
  {
   "cell_type": "code",
   "execution_count": 49,
   "metadata": {},
   "outputs": [
    {
     "data": {
      "image/png": "[encoded data removed]",
      "text/plain": [
       "<Figure size 800x800 with 64 Axes>"
      ]
     },
     "metadata": {},
     "output_type": "display_data"
    }
   ],
   "source": [
    "z = torch.randn(64, latent_dim).to(device)\n",
    "samples = model.decoder_pass(z)\n",
    "\n",
    "# Plot the generated images\n",
    "fig, ax = plt.subplots(8, 8, figsize=(8, 8))\n",
    "for i in range(8):\n",
    "    for j in range(8):\n",
    "        ax[i, j].imshow(samples[i*8+j].view(28, 28).cpu().detach().numpy(), cmap='gray')\n",
    "        ax[i, j].axis('off')\n",
    "\n",
    "# plt.show()\n",
    "plt.savefig('cvae_mnist.webp')"
   ]
  },
  {
   "cell_type": "code",
   "execution_count": 50,
   "metadata": {},
   "outputs": [
    {
     "data": {
      "application/vnd.jupyter.widget-view+json": {
       "model_id": "81621cb3af644cd69ee65da60c512897",
       "version_major": 2,
       "version_minor": 0
      },
      "text/plain": [
       "Encoding:   0%|          | 0/40 [00:00<?, ?it/s]"
      ]
     },
     "metadata": {},
     "output_type": "display_data"
    }
   ],
   "source": [
    "# encode and plot the z values for the train set \n",
    "model.eval()\n",
    "z_all = []\n",
    "y_all = []\n",
    "pred_y_all = []\n",
    "pred_circ_all = []\n",
    "with torch.no_grad():\n",
    "    for data, target in tqdm(test_loader, desc='Encoding'):\n",
    "        data = data.view((-1,1,28,28)).to(device)\n",
    "        mu, x_recon, labels = model.forward(data)\n",
    "        z_all.append(mu.cpu().numpy())\n",
    "        y_all.append(np.argmax(target[:,0, 0:(fuzzy_labels-2)].cpu().numpy(), axis=1))\n",
    "        pred_y_all.append(np.argmax(labels[:, 0:(fuzzy_labels-2)].cpu().numpy(), axis=1))\n",
    "        pred_circ_all.append(np.argmax(labels[:, (fuzzy_labels-2):].cpu().numpy(), axis=1))"
   ]
  },
  {
   "cell_type": "code",
   "execution_count": 51,
   "metadata": {},
   "outputs": [],
   "source": [
    "import numpy as np\n",
    "z_all = np.concatenate(z_all, axis=0)\n",
    "y_all = np.concatenate(y_all, axis=0)\n",
    "pred_y_all = np.concatenate(pred_y_all, axis=0)\n",
    "pred_circ_all = np.concatenate(pred_circ_all, axis=0)"
   ]
  },
  {
   "cell_type": "code",
   "execution_count": 52,
   "metadata": {},
   "outputs": [
    {
     "data": {
      "text/plain": [
       "0.9751"
      ]
     },
     "execution_count": 52,
     "metadata": {},
     "output_type": "execute_result"
    }
   ],
   "source": [
    "np.sum(y_all==pred_y_all)/len(y_all)"
   ]
  },
  {
   "cell_type": "code",
   "execution_count": 53,
   "metadata": {},
   "outputs": [
    {
     "data": {
      "text/plain": [
       "<sklearn.metrics._plot.confusion_matrix.ConfusionMatrixDisplay at 0x29a100082b0>"
      ]
     },
     "execution_count": 53,
     "metadata": {},
     "output_type": "execute_result"
    },
    {
     "data": {
      "image/png": "[encoded data removed]",
      "text/plain": [
       "<Figure size 1000x1000 with 2 Axes>"
      ]
     },
     "metadata": {},
     "output_type": "display_data"
    }
   ],
   "source": [
    "from sklearn.metrics import confusion_matrix, ConfusionMatrixDisplay\n",
    "cm = confusion_matrix(y_all, pred_y_all, normalize='true')\n",
    "cmd = ConfusionMatrixDisplay(cm)\n",
    "fig, ax = plt.subplots(figsize=(10,10))\n",
    "cmd.plot(ax=ax)"
   ]
  },
  {
   "cell_type": "code",
   "execution_count": 59,
   "metadata": {},
   "outputs": [
    {
     "data": {
      "text/plain": [
       "Text(0, 0.5, 'cvae 2')"
      ]
     },
     "execution_count": 59,
     "metadata": {},
     "output_type": "execute_result"
    },
    {
     "data": {
      "image/png": "[encoded data removed]",
      "text/plain": [
       "<Figure size 800x800 with 2 Axes>"
      ]
     },
     "metadata": {},
     "output_type": "display_data"
    }
   ],
   "source": [
    "plt.figure(figsize=(8, 8))\n",
    "plt.scatter(z_all[:, 0], z_all[:, 1], c=y_all, cmap='tab10')\n",
    "plt.colorbar()\n",
    "plt.xlabel(\"cvae 1\")\n",
    "plt.ylabel(\"cvae 2\")\n",
    "# plt.show()\n",
    "#plt.savefig('habr/mnist_2d_scatter_origin_labels_cvae.webp')"
   ]
  },
  {
   "cell_type": "code",
   "execution_count": 56,
   "metadata": {},
   "outputs": [
    {
     "data": {
      "image/png": "[encoded data removed]",
      "text/plain": [
       "<Figure size 1200x400 with 6 Axes>"
      ]
     },
     "metadata": {},
     "output_type": "display_data"
    }
   ],
   "source": [
    "figure, axis = plt.subplots(1, 3, figsize=(12, 4)) \n",
    "sc1 =axis[0].scatter(z_all[:, 0], z_all[:, 1], c=y_all, cmap='tab10')\n",
    "axis[0].set_title(\"Истинные метки\")\n",
    "axis[0].set_xlabel(\"cvae 1\")\n",
    "axis[0].set_ylabel(\"cvae 2\")\n",
    "\n",
    "sc2 = axis[1].scatter(z_all[:, 0], z_all[:, 1], c=pred_y_all, cmap='tab10')\n",
    "axis[1].set_title(\"Предсказанные метки цифр\") \n",
    "axis[1].set_xlabel(\"cvae 1\")\n",
    "axis[1].set_ylabel(\"cvae 2\")\n",
    "sc3 = axis[2].scatter(z_all[:, 0], z_all[:, 1], c=pred_circ_all, cmap='spring')\n",
    "axis[2].set_title(\"Предсказанные метки очертаний\") \n",
    "axis[2].set_xlabel(\"cvae 1\")\n",
    "axis[2].set_ylabel(\"cvae 2\")\n",
    "figure.colorbar(sc1)\n",
    "figure.colorbar(sc2)\n",
    "figure.colorbar(sc3)\n",
    "plt.show()"
   ]
  },
  {
   "cell_type": "code",
   "execution_count": 57,
   "metadata": {},
   "outputs": [
    {
     "data": {
      "image/png": "[encoded data removed]",
      "text/plain": [
       "<Figure size 640x480 with 2 Axes>"
      ]
     },
     "metadata": {},
     "output_type": "display_data"
    }
   ],
   "source": [
    "\n",
    "plt.scatter(z_all[:, 0], z_all[:, 1], c=pred_y_all, cmap='tab10')\n",
    "plt.colorbar()\n",
    "# plt.show()\n",
    "plt.savefig('mnist_2d_scatter_fuzzy_pred_labels.webp')"
   ]
  },
  {
   "cell_type": "code",
   "execution_count": 60,
   "metadata": {},
   "outputs": [
    {
     "data": {
      "image/png": "[encoded data removed]",
      "text/plain": [
       "<Figure size 1000x1000 with 2 Axes>"
      ]
     },
     "metadata": {},
     "output_type": "display_data"
    }
   ],
   "source": [
    "plt.figure(figsize=(10, 10))\n",
    "plt.scatter(z_all[:, 0], z_all[:, 1], c=pred_circ_all, cmap='Set2')\n",
    "plt.colorbar()\n",
    "# plt.show()\n",
    "plt.savefig('mnist_2d_scatter_fuzzy_pred_circles.webp')"
   ]
  },
  {
   "cell_type": "code",
   "execution_count": 71,
   "metadata": {},
   "outputs": [
    {
     "data": {
      "image/png": "[encoded data removed]",
      "text/plain": [
       "<Figure size 1000x100 with 10 Axes>"
      ]
     },
     "metadata": {},
     "output_type": "display_data"
    }
   ],
   "source": [
    "n = 10\n",
    "z2 = torch.linspace(-1, -0.5, n)\n",
    "z1 = torch.zeros_like(z2) + 1\n",
    "\n",
    "z = torch.stack([z1, z2], dim=-1).to(device)\n",
    "samples = model.decoder_pass(z)\n",
    "samples = torch.sigmoid(samples)\n",
    "\n",
    "# Plot the generated images\n",
    "fig, ax = plt.subplots(1, n, figsize=(n, 1))\n",
    "for i in range(n):\n",
    "    ax[i].imshow(samples[i].view(28, 28).cpu().detach().numpy(), cmap='gray')\n",
    "    ax[i].axis('off')\n",
    "    \n",
    "plt.savefig('cvae_mnist_interp.webp')"
   ]
  }
 ],
 "metadata": {
  "kernelspec": {
   "display_name": "Python 3",
   "language": "python",
   "name": "python3"
  },
  "language_info": {
   "codemirror_mode": {
    "name": "ipython",
    "version": 3
   },
   "file_extension": ".py",
   "mimetype": "text/x-python",
   "name": "python",
   "nbconvert_exporter": "python",
   "pygments_lexer": "ipython3",
   "version": "3.8.10"
  }
 },
 "nbformat": 4,
 "nbformat_minor": 2
}
